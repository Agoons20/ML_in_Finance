{
 "cells": [
  {
   "cell_type": "markdown",
   "id": "f2c2afbc-44ea-428e-872a-a6d911bc5c0a",
   "metadata": {},
   "source": [
    "#### Homework 08 - Build models that predict whether an individual is a high-earner by observing some of their characteristic"
   ]
  },
  {
   "cell_type": "code",
   "execution_count": 1,
   "id": "8ec60d25-4cf6-4fb8-b52b-7806ef0693f4",
   "metadata": {},
   "outputs": [],
   "source": [
    "# Load libraries \n",
    "# Basic packages:\n",
    "import pandas as pd\n",
    "import numpy as np\n",
    "import matplotlib.pyplot as plt\n",
    "\n",
    "# To ignore several specific warnings\n",
    "#import warnings\n",
    "#warnings.filterwarnings(\"ignore\")"
   ]
  },
  {
   "cell_type": "code",
   "execution_count": 2,
   "id": "c1d81810-bdaa-4108-9800-2cc7ed651c2c",
   "metadata": {},
   "outputs": [],
   "source": [
    "# ML packages:\n",
    "from sklearn.model_selection import train_test_split\n",
    "\n",
    "from sklearn.linear_model import LogisticRegression\n",
    "from sklearn.neighbors import KNeighborsClassifier\n",
    "from sklearn.svm import SVC\n",
    "\n",
    "from sklearn.metrics import classification_report, accuracy_score\n",
    "#from sklearn.metrics import confusion_matrix, plot_confusion_matrix # old commands\n",
    "from sklearn.metrics import ConfusionMatrixDisplay"
   ]
  },
  {
   "cell_type": "markdown",
   "id": "af0159fc-abd1-45ad-bacf-9e35454ca5fd",
   "metadata": {},
   "source": [
    "#### Data Description"
   ]
  },
  {
   "cell_type": "raw",
   "id": "05d3a122-8fa7-4ebc-874c-cf9bb5bbf435",
   "metadata": {},
   "source": [
    "The dataset contains 16 variables, the dependent variable is \"Salary\" and predictors being age, education, marital status, occupation, race, sex, and salary, among others. We will create a new variable, 'HighIncome' from our dependent variable, Salary( <=50K,  >50K; that takes values of 0 and 1."
   ]
  },
  {
   "cell_type": "code",
   "execution_count": 3,
   "id": "7d7d6ef1-a0c4-4821-87bf-cb81c2f6a667",
   "metadata": {},
   "outputs": [
    {
     "data": {
      "text/html": [
       "<div>\n",
       "<style scoped>\n",
       "    .dataframe tbody tr th:only-of-type {\n",
       "        vertical-align: middle;\n",
       "    }\n",
       "\n",
       "    .dataframe tbody tr th {\n",
       "        vertical-align: top;\n",
       "    }\n",
       "\n",
       "    .dataframe thead th {\n",
       "        text-align: right;\n",
       "    }\n",
       "</style>\n",
       "<table border=\"1\" class=\"dataframe\">\n",
       "  <thead>\n",
       "    <tr style=\"text-align: right;\">\n",
       "      <th></th>\n",
       "      <th>Age</th>\n",
       "      <th>Workclass</th>\n",
       "      <th>FNLWGT</th>\n",
       "      <th>Education</th>\n",
       "      <th>EducationLevel</th>\n",
       "      <th>MaritalStatus</th>\n",
       "      <th>Occupation</th>\n",
       "      <th>Relationship</th>\n",
       "      <th>Race</th>\n",
       "      <th>Sex</th>\n",
       "      <th>CapitalGain</th>\n",
       "      <th>CapitalLoss</th>\n",
       "      <th>HoursPerWeek</th>\n",
       "      <th>NativeCountry</th>\n",
       "      <th>Salary</th>\n",
       "    </tr>\n",
       "  </thead>\n",
       "  <tbody>\n",
       "    <tr>\n",
       "      <th>0</th>\n",
       "      <td>62</td>\n",
       "      <td>Local-gov</td>\n",
       "      <td>68268</td>\n",
       "      <td>HS-grad</td>\n",
       "      <td>9</td>\n",
       "      <td>Married-civ-spouse</td>\n",
       "      <td>Transport-moving</td>\n",
       "      <td>Husband</td>\n",
       "      <td>White</td>\n",
       "      <td>Male</td>\n",
       "      <td>0</td>\n",
       "      <td>0</td>\n",
       "      <td>40</td>\n",
       "      <td>United-States</td>\n",
       "      <td>&lt;=50K</td>\n",
       "    </tr>\n",
       "    <tr>\n",
       "      <th>1</th>\n",
       "      <td>50</td>\n",
       "      <td>Private</td>\n",
       "      <td>215990</td>\n",
       "      <td>HS-grad</td>\n",
       "      <td>9</td>\n",
       "      <td>Married-civ-spouse</td>\n",
       "      <td>Craft-repair</td>\n",
       "      <td>Husband</td>\n",
       "      <td>White</td>\n",
       "      <td>Male</td>\n",
       "      <td>0</td>\n",
       "      <td>0</td>\n",
       "      <td>40</td>\n",
       "      <td>United-States</td>\n",
       "      <td>&gt;50K</td>\n",
       "    </tr>\n",
       "    <tr>\n",
       "      <th>2</th>\n",
       "      <td>36</td>\n",
       "      <td>Private</td>\n",
       "      <td>185405</td>\n",
       "      <td>HS-grad</td>\n",
       "      <td>9</td>\n",
       "      <td>Married-civ-spouse</td>\n",
       "      <td>Adm-clerical</td>\n",
       "      <td>Husband</td>\n",
       "      <td>White</td>\n",
       "      <td>Male</td>\n",
       "      <td>0</td>\n",
       "      <td>0</td>\n",
       "      <td>50</td>\n",
       "      <td>United-States</td>\n",
       "      <td>&gt;50K</td>\n",
       "    </tr>\n",
       "    <tr>\n",
       "      <th>3</th>\n",
       "      <td>64</td>\n",
       "      <td>Private</td>\n",
       "      <td>258006</td>\n",
       "      <td>Some-college</td>\n",
       "      <td>10</td>\n",
       "      <td>Widowed</td>\n",
       "      <td>Adm-clerical</td>\n",
       "      <td>Not-in-family</td>\n",
       "      <td>White</td>\n",
       "      <td>Female</td>\n",
       "      <td>0</td>\n",
       "      <td>0</td>\n",
       "      <td>40</td>\n",
       "      <td>Cuba</td>\n",
       "      <td>&lt;=50K</td>\n",
       "    </tr>\n",
       "    <tr>\n",
       "      <th>4</th>\n",
       "      <td>28</td>\n",
       "      <td>Self-emp-not-inc</td>\n",
       "      <td>39388</td>\n",
       "      <td>Assoc-voc</td>\n",
       "      <td>11</td>\n",
       "      <td>Married-civ-spouse</td>\n",
       "      <td>Farming-fishing</td>\n",
       "      <td>Husband</td>\n",
       "      <td>White</td>\n",
       "      <td>Male</td>\n",
       "      <td>0</td>\n",
       "      <td>0</td>\n",
       "      <td>60</td>\n",
       "      <td>United-States</td>\n",
       "      <td>&lt;=50K</td>\n",
       "    </tr>\n",
       "  </tbody>\n",
       "</table>\n",
       "</div>"
      ],
      "text/plain": [
       "   Age          Workclass  FNLWGT      Education  EducationLevel  \\\n",
       "0   62          Local-gov   68268        HS-grad               9   \n",
       "1   50            Private  215990        HS-grad               9   \n",
       "2   36            Private  185405        HS-grad               9   \n",
       "3   64            Private  258006   Some-college              10   \n",
       "4   28   Self-emp-not-inc   39388      Assoc-voc              11   \n",
       "\n",
       "         MaritalStatus         Occupation    Relationship    Race      Sex  \\\n",
       "0   Married-civ-spouse   Transport-moving         Husband   White     Male   \n",
       "1   Married-civ-spouse       Craft-repair         Husband   White     Male   \n",
       "2   Married-civ-spouse       Adm-clerical         Husband   White     Male   \n",
       "3              Widowed       Adm-clerical   Not-in-family   White   Female   \n",
       "4   Married-civ-spouse    Farming-fishing         Husband   White     Male   \n",
       "\n",
       "   CapitalGain  CapitalLoss  HoursPerWeek   NativeCountry  Salary  \n",
       "0            0            0            40   United-States   <=50K  \n",
       "1            0            0            40   United-States    >50K  \n",
       "2            0            0            50   United-States    >50K  \n",
       "3            0            0            40            Cuba   <=50K  \n",
       "4            0            0            60   United-States   <=50K  "
      ]
     },
     "execution_count": 3,
     "metadata": {},
     "output_type": "execute_result"
    }
   ],
   "source": [
    "## Import the dataset \n",
    "df = pd.read_csv('HW8_income.csv')\n",
    "df.shape\n",
    "df.head()"
   ]
  },
  {
   "cell_type": "markdown",
   "id": "a8f2cb88-3d9e-4dc3-8451-5e9501f99394",
   "metadata": {},
   "source": [
    "#### Create a new variable from the dependent variable"
   ]
  },
  {
   "cell_type": "code",
   "execution_count": 4,
   "id": "cf17087e-d229-4746-861d-8a2d453276cd",
   "metadata": {},
   "outputs": [
    {
     "name": "stdout",
     "output_type": "stream",
     "text": [
      "   Age          Workclass  FNLWGT      Education  EducationLevel  \\\n",
      "0   62          Local-gov   68268        HS-grad               9   \n",
      "1   50            Private  215990        HS-grad               9   \n",
      "2   36            Private  185405        HS-grad               9   \n",
      "3   64            Private  258006   Some-college              10   \n",
      "4   28   Self-emp-not-inc   39388      Assoc-voc              11   \n",
      "\n",
      "         MaritalStatus         Occupation    Relationship    Race      Sex  \\\n",
      "0   Married-civ-spouse   Transport-moving         Husband   White     Male   \n",
      "1   Married-civ-spouse       Craft-repair         Husband   White     Male   \n",
      "2   Married-civ-spouse       Adm-clerical         Husband   White     Male   \n",
      "3              Widowed       Adm-clerical   Not-in-family   White   Female   \n",
      "4   Married-civ-spouse    Farming-fishing         Husband   White     Male   \n",
      "\n",
      "   CapitalGain  CapitalLoss  HoursPerWeek   NativeCountry  Salary  HighIncome  \n",
      "0            0            0            40   United-States   <=50K           0  \n",
      "1            0            0            40   United-States    >50K           1  \n",
      "2            0            0            50   United-States    >50K           1  \n",
      "3            0            0            40            Cuba   <=50K           0  \n",
      "4            0            0            60   United-States   <=50K           0  \n"
     ]
    }
   ],
   "source": [
    "# Create a new column 'HighIncome' based on 'Salary'\n",
    "# df['HighIncome'] = df['Salary'].apply(lambda x: 1 if x == '>50K' else 0) --- Doesn't do the mapping\n",
    "df['HighIncome'] = df['Salary'].map(lambda x : 1 if '>50K' in x else 0)\n",
    "\n",
    "# Display the first few rows of the DataFrame to verify\n",
    "print(df.head())"
   ]
  },
  {
   "cell_type": "code",
   "execution_count": 5,
   "id": "7c3f0f61-124e-4644-8a9a-61142c910d04",
   "metadata": {},
   "outputs": [
    {
     "data": {
      "text/plain": [
       "0    3084\n",
       "1     916\n",
       "Name: HighIncome, dtype: int64"
      ]
     },
     "execution_count": 5,
     "metadata": {},
     "output_type": "execute_result"
    }
   ],
   "source": [
    "# Elementary Data Analysis\n",
    "df.shape\n",
    "df.Salary.value_counts()\n",
    "df.HighIncome.value_counts()"
   ]
  },
  {
   "cell_type": "code",
   "execution_count": 6,
   "id": "febbc1f5-e6ad-4269-a9b3-39dda0e76ad6",
   "metadata": {},
   "outputs": [
    {
     "data": {
      "text/html": [
       "<div>\n",
       "<style scoped>\n",
       "    .dataframe tbody tr th:only-of-type {\n",
       "        vertical-align: middle;\n",
       "    }\n",
       "\n",
       "    .dataframe tbody tr th {\n",
       "        vertical-align: top;\n",
       "    }\n",
       "\n",
       "    .dataframe thead th {\n",
       "        text-align: right;\n",
       "    }\n",
       "</style>\n",
       "<table border=\"1\" class=\"dataframe\">\n",
       "  <thead>\n",
       "    <tr style=\"text-align: right;\">\n",
       "      <th></th>\n",
       "      <th>Age</th>\n",
       "      <th>Workclass</th>\n",
       "      <th>FNLWGT</th>\n",
       "      <th>Education</th>\n",
       "      <th>EducationLevel</th>\n",
       "      <th>MaritalStatus</th>\n",
       "      <th>Occupation</th>\n",
       "      <th>Relationship</th>\n",
       "      <th>Race</th>\n",
       "      <th>Sex</th>\n",
       "      <th>CapitalGain</th>\n",
       "      <th>CapitalLoss</th>\n",
       "      <th>HoursPerWeek</th>\n",
       "      <th>NativeCountry</th>\n",
       "      <th>Salary</th>\n",
       "      <th>HighIncome</th>\n",
       "    </tr>\n",
       "  </thead>\n",
       "  <tbody>\n",
       "    <tr>\n",
       "      <th>529</th>\n",
       "      <td>19</td>\n",
       "      <td>Private</td>\n",
       "      <td>146679</td>\n",
       "      <td>Some-college</td>\n",
       "      <td>10</td>\n",
       "      <td>Never-married</td>\n",
       "      <td>Exec-managerial</td>\n",
       "      <td>Own-child</td>\n",
       "      <td>Black</td>\n",
       "      <td>Male</td>\n",
       "      <td>0</td>\n",
       "      <td>0</td>\n",
       "      <td>30</td>\n",
       "      <td>United-States</td>\n",
       "      <td>&lt;=50K</td>\n",
       "      <td>0</td>\n",
       "    </tr>\n",
       "    <tr>\n",
       "      <th>2754</th>\n",
       "      <td>90</td>\n",
       "      <td>Private</td>\n",
       "      <td>52386</td>\n",
       "      <td>Some-college</td>\n",
       "      <td>10</td>\n",
       "      <td>Never-married</td>\n",
       "      <td>Other-service</td>\n",
       "      <td>Not-in-family</td>\n",
       "      <td>Asian-Pac-Islander</td>\n",
       "      <td>Male</td>\n",
       "      <td>0</td>\n",
       "      <td>0</td>\n",
       "      <td>35</td>\n",
       "      <td>United-States</td>\n",
       "      <td>&lt;=50K</td>\n",
       "      <td>0</td>\n",
       "    </tr>\n",
       "  </tbody>\n",
       "</table>\n",
       "</div>"
      ],
      "text/plain": [
       "      Age Workclass  FNLWGT      Education  EducationLevel   MaritalStatus  \\\n",
       "529    19   Private  146679   Some-college              10   Never-married   \n",
       "2754   90   Private   52386   Some-college              10   Never-married   \n",
       "\n",
       "            Occupation    Relationship                 Race    Sex  \\\n",
       "529    Exec-managerial       Own-child                Black   Male   \n",
       "2754     Other-service   Not-in-family   Asian-Pac-Islander   Male   \n",
       "\n",
       "      CapitalGain  CapitalLoss  HoursPerWeek   NativeCountry  Salary  \\\n",
       "529             0            0            30   United-States   <=50K   \n",
       "2754            0            0            35   United-States   <=50K   \n",
       "\n",
       "      HighIncome  \n",
       "529            0  \n",
       "2754           0  "
      ]
     },
     "execution_count": 6,
     "metadata": {},
     "output_type": "execute_result"
    }
   ],
   "source": [
    "# Check for missing data in each column\n",
    "df.isnull().sum() # No NAs in this dataset\n",
    "df[df.duplicated()] # No duplicate rows"
   ]
  },
  {
   "cell_type": "code",
   "execution_count": 7,
   "id": "9d46b9bb-0db5-4214-870e-6a227d1502f8",
   "metadata": {},
   "outputs": [],
   "source": [
    "# check for missing data\n",
    "# convert  MaritalStatus and assign each level a numerical number. \n",
    "# Sex is also another important predictor "
   ]
  },
  {
   "cell_type": "code",
   "execution_count": 8,
   "id": "64d3f3fb-9dcf-4535-816e-046f64a10bc1",
   "metadata": {},
   "outputs": [],
   "source": [
    "# df.Relationship.value_counts()"
   ]
  },
  {
   "cell_type": "code",
   "execution_count": 9,
   "id": "c6984c85-98cf-406c-adcb-5b861b316df2",
   "metadata": {},
   "outputs": [
    {
     "data": {
      "text/html": [
       "<div>\n",
       "<style scoped>\n",
       "    .dataframe tbody tr th:only-of-type {\n",
       "        vertical-align: middle;\n",
       "    }\n",
       "\n",
       "    .dataframe tbody tr th {\n",
       "        vertical-align: top;\n",
       "    }\n",
       "\n",
       "    .dataframe thead th {\n",
       "        text-align: right;\n",
       "    }\n",
       "</style>\n",
       "<table border=\"1\" class=\"dataframe\">\n",
       "  <thead>\n",
       "    <tr style=\"text-align: right;\">\n",
       "      <th></th>\n",
       "      <th>Age</th>\n",
       "      <th>Workclass</th>\n",
       "      <th>FNLWGT</th>\n",
       "      <th>Education</th>\n",
       "      <th>EducationLevel</th>\n",
       "      <th>MaritalStatus</th>\n",
       "      <th>Occupation</th>\n",
       "      <th>Relationship</th>\n",
       "      <th>Race</th>\n",
       "      <th>Sex</th>\n",
       "      <th>CapitalGain</th>\n",
       "      <th>CapitalLoss</th>\n",
       "      <th>HoursPerWeek</th>\n",
       "      <th>NativeCountry</th>\n",
       "      <th>Salary</th>\n",
       "      <th>HighIncome</th>\n",
       "      <th>Gender</th>\n",
       "    </tr>\n",
       "  </thead>\n",
       "  <tbody>\n",
       "    <tr>\n",
       "      <th>0</th>\n",
       "      <td>62</td>\n",
       "      <td>Local-gov</td>\n",
       "      <td>68268</td>\n",
       "      <td>HS-grad</td>\n",
       "      <td>9</td>\n",
       "      <td>Married-civ-spouse</td>\n",
       "      <td>Transport-moving</td>\n",
       "      <td>Husband</td>\n",
       "      <td>White</td>\n",
       "      <td>Male</td>\n",
       "      <td>0</td>\n",
       "      <td>0</td>\n",
       "      <td>40</td>\n",
       "      <td>United-States</td>\n",
       "      <td>&lt;=50K</td>\n",
       "      <td>0</td>\n",
       "      <td>1</td>\n",
       "    </tr>\n",
       "    <tr>\n",
       "      <th>1</th>\n",
       "      <td>50</td>\n",
       "      <td>Private</td>\n",
       "      <td>215990</td>\n",
       "      <td>HS-grad</td>\n",
       "      <td>9</td>\n",
       "      <td>Married-civ-spouse</td>\n",
       "      <td>Craft-repair</td>\n",
       "      <td>Husband</td>\n",
       "      <td>White</td>\n",
       "      <td>Male</td>\n",
       "      <td>0</td>\n",
       "      <td>0</td>\n",
       "      <td>40</td>\n",
       "      <td>United-States</td>\n",
       "      <td>&gt;50K</td>\n",
       "      <td>1</td>\n",
       "      <td>1</td>\n",
       "    </tr>\n",
       "    <tr>\n",
       "      <th>2</th>\n",
       "      <td>36</td>\n",
       "      <td>Private</td>\n",
       "      <td>185405</td>\n",
       "      <td>HS-grad</td>\n",
       "      <td>9</td>\n",
       "      <td>Married-civ-spouse</td>\n",
       "      <td>Adm-clerical</td>\n",
       "      <td>Husband</td>\n",
       "      <td>White</td>\n",
       "      <td>Male</td>\n",
       "      <td>0</td>\n",
       "      <td>0</td>\n",
       "      <td>50</td>\n",
       "      <td>United-States</td>\n",
       "      <td>&gt;50K</td>\n",
       "      <td>1</td>\n",
       "      <td>1</td>\n",
       "    </tr>\n",
       "  </tbody>\n",
       "</table>\n",
       "</div>"
      ],
      "text/plain": [
       "   Age   Workclass  FNLWGT Education  EducationLevel        MaritalStatus  \\\n",
       "0   62   Local-gov   68268   HS-grad               9   Married-civ-spouse   \n",
       "1   50     Private  215990   HS-grad               9   Married-civ-spouse   \n",
       "2   36     Private  185405   HS-grad               9   Married-civ-spouse   \n",
       "\n",
       "          Occupation Relationship    Race    Sex  CapitalGain  CapitalLoss  \\\n",
       "0   Transport-moving      Husband   White   Male            0            0   \n",
       "1       Craft-repair      Husband   White   Male            0            0   \n",
       "2       Adm-clerical      Husband   White   Male            0            0   \n",
       "\n",
       "   HoursPerWeek   NativeCountry  Salary  HighIncome  Gender  \n",
       "0            40   United-States   <=50K           0       1  \n",
       "1            40   United-States    >50K           1       1  \n",
       "2            50   United-States    >50K           1       1  "
      ]
     },
     "execution_count": 9,
     "metadata": {},
     "output_type": "execute_result"
    }
   ],
   "source": [
    "# Transform the \n",
    "df['Gender'] = df['Sex'].map(lambda x : 1 if 'Male' in x else 0)\n",
    "df.head(3)"
   ]
  },
  {
   "cell_type": "code",
   "execution_count": 10,
   "id": "fdd8e6cf-d915-4c46-9b86-63549aa5f124",
   "metadata": {},
   "outputs": [
    {
     "data": {
      "text/html": [
       "<div>\n",
       "<style scoped>\n",
       "    .dataframe tbody tr th:only-of-type {\n",
       "        vertical-align: middle;\n",
       "    }\n",
       "\n",
       "    .dataframe tbody tr th {\n",
       "        vertical-align: top;\n",
       "    }\n",
       "\n",
       "    .dataframe thead th {\n",
       "        text-align: right;\n",
       "    }\n",
       "</style>\n",
       "<table border=\"1\" class=\"dataframe\">\n",
       "  <thead>\n",
       "    <tr style=\"text-align: right;\">\n",
       "      <th></th>\n",
       "      <th>Age</th>\n",
       "      <th>Workclass</th>\n",
       "      <th>FNLWGT</th>\n",
       "      <th>Education</th>\n",
       "      <th>EducationLevel</th>\n",
       "      <th>MaritalStatus</th>\n",
       "      <th>Occupation</th>\n",
       "      <th>Relationship</th>\n",
       "      <th>Race</th>\n",
       "      <th>Sex</th>\n",
       "      <th>CapitalGain</th>\n",
       "      <th>CapitalLoss</th>\n",
       "      <th>HoursPerWeek</th>\n",
       "      <th>NativeCountry</th>\n",
       "      <th>Salary</th>\n",
       "      <th>HighIncome</th>\n",
       "      <th>Gender</th>\n",
       "    </tr>\n",
       "  </thead>\n",
       "  <tbody>\n",
       "    <tr>\n",
       "      <th>0</th>\n",
       "      <td>62</td>\n",
       "      <td>Local-gov</td>\n",
       "      <td>68268</td>\n",
       "      <td>HS-grad</td>\n",
       "      <td>9</td>\n",
       "      <td>Married-civ-spouse</td>\n",
       "      <td>Transport-moving</td>\n",
       "      <td>Husband</td>\n",
       "      <td>White</td>\n",
       "      <td>Male</td>\n",
       "      <td>0</td>\n",
       "      <td>0</td>\n",
       "      <td>40</td>\n",
       "      <td>United-States</td>\n",
       "      <td>&lt;=50K</td>\n",
       "      <td>0</td>\n",
       "      <td>1</td>\n",
       "    </tr>\n",
       "    <tr>\n",
       "      <th>1</th>\n",
       "      <td>50</td>\n",
       "      <td>Private</td>\n",
       "      <td>215990</td>\n",
       "      <td>HS-grad</td>\n",
       "      <td>9</td>\n",
       "      <td>Married-civ-spouse</td>\n",
       "      <td>Craft-repair</td>\n",
       "      <td>Husband</td>\n",
       "      <td>White</td>\n",
       "      <td>Male</td>\n",
       "      <td>0</td>\n",
       "      <td>0</td>\n",
       "      <td>40</td>\n",
       "      <td>United-States</td>\n",
       "      <td>&gt;50K</td>\n",
       "      <td>1</td>\n",
       "      <td>1</td>\n",
       "    </tr>\n",
       "    <tr>\n",
       "      <th>2</th>\n",
       "      <td>36</td>\n",
       "      <td>Private</td>\n",
       "      <td>185405</td>\n",
       "      <td>HS-grad</td>\n",
       "      <td>9</td>\n",
       "      <td>Married-civ-spouse</td>\n",
       "      <td>Adm-clerical</td>\n",
       "      <td>Husband</td>\n",
       "      <td>White</td>\n",
       "      <td>Male</td>\n",
       "      <td>0</td>\n",
       "      <td>0</td>\n",
       "      <td>50</td>\n",
       "      <td>United-States</td>\n",
       "      <td>&gt;50K</td>\n",
       "      <td>1</td>\n",
       "      <td>1</td>\n",
       "    </tr>\n",
       "    <tr>\n",
       "      <th>3</th>\n",
       "      <td>64</td>\n",
       "      <td>Private</td>\n",
       "      <td>258006</td>\n",
       "      <td>Some-college</td>\n",
       "      <td>10</td>\n",
       "      <td>Widowed</td>\n",
       "      <td>Adm-clerical</td>\n",
       "      <td>Not-in-family</td>\n",
       "      <td>White</td>\n",
       "      <td>Female</td>\n",
       "      <td>0</td>\n",
       "      <td>0</td>\n",
       "      <td>40</td>\n",
       "      <td>Cuba</td>\n",
       "      <td>&lt;=50K</td>\n",
       "      <td>0</td>\n",
       "      <td>0</td>\n",
       "    </tr>\n",
       "    <tr>\n",
       "      <th>4</th>\n",
       "      <td>28</td>\n",
       "      <td>Self-emp-not-inc</td>\n",
       "      <td>39388</td>\n",
       "      <td>Assoc-voc</td>\n",
       "      <td>11</td>\n",
       "      <td>Married-civ-spouse</td>\n",
       "      <td>Farming-fishing</td>\n",
       "      <td>Husband</td>\n",
       "      <td>White</td>\n",
       "      <td>Male</td>\n",
       "      <td>0</td>\n",
       "      <td>0</td>\n",
       "      <td>60</td>\n",
       "      <td>United-States</td>\n",
       "      <td>&lt;=50K</td>\n",
       "      <td>0</td>\n",
       "      <td>1</td>\n",
       "    </tr>\n",
       "  </tbody>\n",
       "</table>\n",
       "</div>"
      ],
      "text/plain": [
       "   Age          Workclass  FNLWGT      Education  EducationLevel  \\\n",
       "0   62          Local-gov   68268        HS-grad               9   \n",
       "1   50            Private  215990        HS-grad               9   \n",
       "2   36            Private  185405        HS-grad               9   \n",
       "3   64            Private  258006   Some-college              10   \n",
       "4   28   Self-emp-not-inc   39388      Assoc-voc              11   \n",
       "\n",
       "         MaritalStatus         Occupation    Relationship    Race      Sex  \\\n",
       "0   Married-civ-spouse   Transport-moving         Husband   White     Male   \n",
       "1   Married-civ-spouse       Craft-repair         Husband   White     Male   \n",
       "2   Married-civ-spouse       Adm-clerical         Husband   White     Male   \n",
       "3              Widowed       Adm-clerical   Not-in-family   White   Female   \n",
       "4   Married-civ-spouse    Farming-fishing         Husband   White     Male   \n",
       "\n",
       "   CapitalGain  CapitalLoss  HoursPerWeek   NativeCountry  Salary  HighIncome  \\\n",
       "0            0            0            40   United-States   <=50K           0   \n",
       "1            0            0            40   United-States    >50K           1   \n",
       "2            0            0            50   United-States    >50K           1   \n",
       "3            0            0            40            Cuba   <=50K           0   \n",
       "4            0            0            60   United-States   <=50K           0   \n",
       "\n",
       "   Gender  \n",
       "0       1  \n",
       "1       1  \n",
       "2       1  \n",
       "3       0  \n",
       "4       1  "
      ]
     },
     "execution_count": 10,
     "metadata": {},
     "output_type": "execute_result"
    }
   ],
   "source": [
    "df.head()"
   ]
  },
  {
   "cell_type": "code",
   "execution_count": 11,
   "id": "c9fb19c0-9153-4de7-8d3a-dd1f11cca46c",
   "metadata": {},
   "outputs": [
    {
     "name": "stdout",
     "output_type": "stream",
     "text": [
      "1    3401\n",
      "0     599\n",
      "Name: Ethnicity, dtype: int64\n"
     ]
    }
   ],
   "source": [
    "# Create a new variable \"Ethnicity\" with values 1 for \"White\" and 0 for other races\n",
    "df['Ethnicity'] = df['Race'].apply(lambda x: 1 if x.strip().lower() == 'white' else 0)\n",
    "\n",
    "# Check the value counts of the new variable\n",
    "print(df['Ethnicity'].value_counts())"
   ]
  },
  {
   "cell_type": "markdown",
   "id": "58f2bc90-aad7-4f79-aae3-843ff7ea620f",
   "metadata": {},
   "source": [
    "#### Split data into train and test "
   ]
  },
  {
   "cell_type": "code",
   "execution_count": 12,
   "id": "52d099df-a91c-439b-bb6a-b8cdcb8e75f6",
   "metadata": {},
   "outputs": [
    {
     "data": {
      "text/plain": [
       "3033    0\n",
       "3011    0\n",
       "333     0\n",
       "Name: HighIncome, dtype: int64"
      ]
     },
     "execution_count": 12,
     "metadata": {},
     "output_type": "execute_result"
    }
   ],
   "source": [
    "# Define X and Y coordinates \n",
    "y = df['HighIncome']\n",
    "x = df.loc[:, df.columns.isin(['Age','EducationLevel','HoursPerWeek','CapitalGain','Gender','Ethnicity'])]\n",
    "\n",
    "# Split data\n",
    "x_train, x_test, y_train, y_test = train_test_split(x, y, test_size=0.3, random_state=666)\n",
    "y_test.sample(3)"
   ]
  },
  {
   "cell_type": "markdown",
   "id": "ea413ce5-ef7f-49da-8c39-e96c928f851e",
   "metadata": {},
   "source": [
    "#### (A) Build a Logistic Regression predictive model for individual’s income level. Use model predictions on the test sample to create a confusion matrix and calculate the accuracy score, precision, and recall ratios."
   ]
  },
  {
   "cell_type": "code",
   "execution_count": 13,
   "id": "c6f03aac-dc1a-4b48-91f8-170319d929fe",
   "metadata": {},
   "outputs": [
    {
     "name": "stderr",
     "output_type": "stream",
     "text": [
      "/Users/apple/anaconda3/lib/python3.10/site-packages/sklearn/linear_model/_logistic.py:458: ConvergenceWarning: lbfgs failed to converge (status=1):\n",
      "STOP: TOTAL NO. of ITERATIONS REACHED LIMIT.\n",
      "\n",
      "Increase the number of iterations (max_iter) or scale the data as shown in:\n",
      "    https://scikit-learn.org/stable/modules/preprocessing.html\n",
      "Please also refer to the documentation for alternative solver options:\n",
      "    https://scikit-learn.org/stable/modules/linear_model.html#logistic-regression\n",
      "  n_iter_i = _check_optimize_result(\n"
     ]
    },
    {
     "data": {
      "text/html": [
       "<style>#sk-container-id-1 {color: black;background-color: white;}#sk-container-id-1 pre{padding: 0;}#sk-container-id-1 div.sk-toggleable {background-color: white;}#sk-container-id-1 label.sk-toggleable__label {cursor: pointer;display: block;width: 100%;margin-bottom: 0;padding: 0.3em;box-sizing: border-box;text-align: center;}#sk-container-id-1 label.sk-toggleable__label-arrow:before {content: \"▸\";float: left;margin-right: 0.25em;color: #696969;}#sk-container-id-1 label.sk-toggleable__label-arrow:hover:before {color: black;}#sk-container-id-1 div.sk-estimator:hover label.sk-toggleable__label-arrow:before {color: black;}#sk-container-id-1 div.sk-toggleable__content {max-height: 0;max-width: 0;overflow: hidden;text-align: left;background-color: #f0f8ff;}#sk-container-id-1 div.sk-toggleable__content pre {margin: 0.2em;color: black;border-radius: 0.25em;background-color: #f0f8ff;}#sk-container-id-1 input.sk-toggleable__control:checked~div.sk-toggleable__content {max-height: 200px;max-width: 100%;overflow: auto;}#sk-container-id-1 input.sk-toggleable__control:checked~label.sk-toggleable__label-arrow:before {content: \"▾\";}#sk-container-id-1 div.sk-estimator input.sk-toggleable__control:checked~label.sk-toggleable__label {background-color: #d4ebff;}#sk-container-id-1 div.sk-label input.sk-toggleable__control:checked~label.sk-toggleable__label {background-color: #d4ebff;}#sk-container-id-1 input.sk-hidden--visually {border: 0;clip: rect(1px 1px 1px 1px);clip: rect(1px, 1px, 1px, 1px);height: 1px;margin: -1px;overflow: hidden;padding: 0;position: absolute;width: 1px;}#sk-container-id-1 div.sk-estimator {font-family: monospace;background-color: #f0f8ff;border: 1px dotted black;border-radius: 0.25em;box-sizing: border-box;margin-bottom: 0.5em;}#sk-container-id-1 div.sk-estimator:hover {background-color: #d4ebff;}#sk-container-id-1 div.sk-parallel-item::after {content: \"\";width: 100%;border-bottom: 1px solid gray;flex-grow: 1;}#sk-container-id-1 div.sk-label:hover label.sk-toggleable__label {background-color: #d4ebff;}#sk-container-id-1 div.sk-serial::before {content: \"\";position: absolute;border-left: 1px solid gray;box-sizing: border-box;top: 0;bottom: 0;left: 50%;z-index: 0;}#sk-container-id-1 div.sk-serial {display: flex;flex-direction: column;align-items: center;background-color: white;padding-right: 0.2em;padding-left: 0.2em;position: relative;}#sk-container-id-1 div.sk-item {position: relative;z-index: 1;}#sk-container-id-1 div.sk-parallel {display: flex;align-items: stretch;justify-content: center;background-color: white;position: relative;}#sk-container-id-1 div.sk-item::before, #sk-container-id-1 div.sk-parallel-item::before {content: \"\";position: absolute;border-left: 1px solid gray;box-sizing: border-box;top: 0;bottom: 0;left: 50%;z-index: -1;}#sk-container-id-1 div.sk-parallel-item {display: flex;flex-direction: column;z-index: 1;position: relative;background-color: white;}#sk-container-id-1 div.sk-parallel-item:first-child::after {align-self: flex-end;width: 50%;}#sk-container-id-1 div.sk-parallel-item:last-child::after {align-self: flex-start;width: 50%;}#sk-container-id-1 div.sk-parallel-item:only-child::after {width: 0;}#sk-container-id-1 div.sk-dashed-wrapped {border: 1px dashed gray;margin: 0 0.4em 0.5em 0.4em;box-sizing: border-box;padding-bottom: 0.4em;background-color: white;}#sk-container-id-1 div.sk-label label {font-family: monospace;font-weight: bold;display: inline-block;line-height: 1.2em;}#sk-container-id-1 div.sk-label-container {text-align: center;}#sk-container-id-1 div.sk-container {/* jupyter's `normalize.less` sets `[hidden] { display: none; }` but bootstrap.min.css set `[hidden] { display: none !important; }` so we also need the `!important` here to be able to override the default hidden behavior on the sphinx rendered scikit-learn.org. See: https://github.com/scikit-learn/scikit-learn/issues/21755 */display: inline-block !important;position: relative;}#sk-container-id-1 div.sk-text-repr-fallback {display: none;}</style><div id=\"sk-container-id-1\" class=\"sk-top-container\"><div class=\"sk-text-repr-fallback\"><pre>LogisticRegression(C=100)</pre><b>In a Jupyter environment, please rerun this cell to show the HTML representation or trust the notebook. <br />On GitHub, the HTML representation is unable to render, please try loading this page with nbviewer.org.</b></div><div class=\"sk-container\" hidden><div class=\"sk-item\"><div class=\"sk-estimator sk-toggleable\"><input class=\"sk-toggleable__control sk-hidden--visually\" id=\"sk-estimator-id-1\" type=\"checkbox\" checked><label for=\"sk-estimator-id-1\" class=\"sk-toggleable__label sk-toggleable__label-arrow\">LogisticRegression</label><div class=\"sk-toggleable__content\"><pre>LogisticRegression(C=100)</pre></div></div></div></div></div>"
      ],
      "text/plain": [
       "LogisticRegression(C=100)"
      ]
     },
     "execution_count": 13,
     "metadata": {},
     "output_type": "execute_result"
    }
   ],
   "source": [
    "lr = LogisticRegression(penalty='l2', C=100, max_iter=100) # max_iter=100 or 1000\n",
    "lr.fit(x_train, y_train)"
   ]
  },
  {
   "cell_type": "markdown",
   "id": "96c43e4b-d2c9-4a15-85fc-3a917ceae079",
   "metadata": {},
   "source": [
    "##### Confusion matrix "
   ]
  },
  {
   "cell_type": "code",
   "execution_count": 14,
   "id": "93c4ec3f-bba8-4709-b9d5-1376db36e413",
   "metadata": {},
   "outputs": [
    {
     "data": {
      "text/plain": [
       "<sklearn.metrics._plot.confusion_matrix.ConfusionMatrixDisplay at 0x7fc3709e7a90>"
      ]
     },
     "execution_count": 14,
     "metadata": {},
     "output_type": "execute_result"
    },
    {
     "data": {
      "image/png": "[encoded data removed]",
      "text/plain": [
       "<Figure size 640x480 with 2 Axes>"
      ]
     },
     "metadata": {},
     "output_type": "display_data"
    }
   ],
   "source": [
    "# plot_confusion_matrix(lr, x_test, y_test) #old command\n",
    "ConfusionMatrixDisplay.from_estimator(lr, x_test, y_test)"
   ]
  },
  {
   "cell_type": "markdown",
   "id": "932d27fc-e9cf-4bdd-b141-d59e03212f22",
   "metadata": {},
   "source": [
    "### Accuracy score and classification report\n",
    "\n",
    "Definitions:\n",
    "+ Accuracy score: the proportion of correct predictions.\n",
    "+ Precision: the proportion of the prediction that is actually correct.\n",
    "+ Recall: the proportion of actual class of a label that is identified correctly.\n",
    "+ f1-score: harmonic mean of Precision and Recall. \n",
    "(Note: Harmonic mean is: n / (1/x1 + 1/x2 + ... + 1/xn).\n",
    "It gives more weight to smaller values in the set of numbers. This means that if one or more of the numbers in the set are very small, the harmonic mean will be closer to that small value than to the larger values in the set.)\n",
    "+ Support: the number of occurrences of each particular class in the true responses (responses in your test set)."
   ]
  },
  {
   "cell_type": "code",
   "execution_count": 15,
   "id": "c1c383e5-e91b-45d2-bc95-6c5664d28bf3",
   "metadata": {},
   "outputs": [
    {
     "name": "stdout",
     "output_type": "stream",
     "text": [
      "LR Accuracy Score = 0.8233333333333334\n",
      "LR Classification Report:\n",
      "              precision    recall  f1-score   support\n",
      "\n",
      "           0       0.84      0.95      0.89       912\n",
      "           1       0.72      0.43      0.54       288\n",
      "\n",
      "    accuracy                           0.82      1200\n",
      "   macro avg       0.78      0.69      0.72      1200\n",
      "weighted avg       0.81      0.82      0.81      1200\n",
      "\n"
     ]
    }
   ],
   "source": [
    "y_pred = lr.predict(x_test)\n",
    "\n",
    "lr_score = accuracy_score(y_test, y_pred)\n",
    "print(f'LR Accuracy Score = {lr_score}')\n",
    "\n",
    "print('LR Classification Report:')\n",
    "print(classification_report(y_test, y_pred))"
   ]
  },
  {
   "cell_type": "markdown",
   "id": "a5548a84-4811-4001-bcb6-503d6d63f64e",
   "metadata": {},
   "source": [
    "#### Re-run Logit adding a balancing effect for the unbalanced predicted class, 22.9%"
   ]
  },
  {
   "cell_type": "code",
   "execution_count": 16,
   "id": "5adeb784-6567-4f8a-9e1b-ab88761808bc",
   "metadata": {},
   "outputs": [
    {
     "data": {
      "text/plain": [
       "<sklearn.metrics._plot.confusion_matrix.ConfusionMatrixDisplay at 0x7fc370bd30d0>"
      ]
     },
     "execution_count": 16,
     "metadata": {},
     "output_type": "execute_result"
    },
    {
     "data": {
      "image/png": "[encoded data removed]",
      "text/plain": [
       "<Figure size 640x480 with 2 Axes>"
      ]
     },
     "metadata": {},
     "output_type": "display_data"
    }
   ],
   "source": [
    "lr = LogisticRegression(penalty='l2', C=100, max_iter=5000, class_weight='balanced')\n",
    "lr.fit(x_train, y_train)\n",
    "ConfusionMatrixDisplay.from_estimator(lr, x_test, y_test)"
   ]
  },
  {
   "cell_type": "markdown",
   "id": "6cb2b742-a612-4bb0-b4aa-e05f6a6ec7a4",
   "metadata": {},
   "source": [
    "#### (B) Build a K-Nearest Neighbors classification model for individual’s income level. Use model predictions on the test sample to create a confusion matrix and calculate the accuracy score, precision, and recall ratios."
   ]
  },
  {
   "cell_type": "code",
   "execution_count": 17,
   "id": "834d80db-d9f6-460f-a93e-7d431b421179",
   "metadata": {},
   "outputs": [
    {
     "data": {
      "text/html": [
       "<style>#sk-container-id-2 {color: black;background-color: white;}#sk-container-id-2 pre{padding: 0;}#sk-container-id-2 div.sk-toggleable {background-color: white;}#sk-container-id-2 label.sk-toggleable__label {cursor: pointer;display: block;width: 100%;margin-bottom: 0;padding: 0.3em;box-sizing: border-box;text-align: center;}#sk-container-id-2 label.sk-toggleable__label-arrow:before {content: \"▸\";float: left;margin-right: 0.25em;color: #696969;}#sk-container-id-2 label.sk-toggleable__label-arrow:hover:before {color: black;}#sk-container-id-2 div.sk-estimator:hover label.sk-toggleable__label-arrow:before {color: black;}#sk-container-id-2 div.sk-toggleable__content {max-height: 0;max-width: 0;overflow: hidden;text-align: left;background-color: #f0f8ff;}#sk-container-id-2 div.sk-toggleable__content pre {margin: 0.2em;color: black;border-radius: 0.25em;background-color: #f0f8ff;}#sk-container-id-2 input.sk-toggleable__control:checked~div.sk-toggleable__content {max-height: 200px;max-width: 100%;overflow: auto;}#sk-container-id-2 input.sk-toggleable__control:checked~label.sk-toggleable__label-arrow:before {content: \"▾\";}#sk-container-id-2 div.sk-estimator input.sk-toggleable__control:checked~label.sk-toggleable__label {background-color: #d4ebff;}#sk-container-id-2 div.sk-label input.sk-toggleable__control:checked~label.sk-toggleable__label {background-color: #d4ebff;}#sk-container-id-2 input.sk-hidden--visually {border: 0;clip: rect(1px 1px 1px 1px);clip: rect(1px, 1px, 1px, 1px);height: 1px;margin: -1px;overflow: hidden;padding: 0;position: absolute;width: 1px;}#sk-container-id-2 div.sk-estimator {font-family: monospace;background-color: #f0f8ff;border: 1px dotted black;border-radius: 0.25em;box-sizing: border-box;margin-bottom: 0.5em;}#sk-container-id-2 div.sk-estimator:hover {background-color: #d4ebff;}#sk-container-id-2 div.sk-parallel-item::after {content: \"\";width: 100%;border-bottom: 1px solid gray;flex-grow: 1;}#sk-container-id-2 div.sk-label:hover label.sk-toggleable__label {background-color: #d4ebff;}#sk-container-id-2 div.sk-serial::before {content: \"\";position: absolute;border-left: 1px solid gray;box-sizing: border-box;top: 0;bottom: 0;left: 50%;z-index: 0;}#sk-container-id-2 div.sk-serial {display: flex;flex-direction: column;align-items: center;background-color: white;padding-right: 0.2em;padding-left: 0.2em;position: relative;}#sk-container-id-2 div.sk-item {position: relative;z-index: 1;}#sk-container-id-2 div.sk-parallel {display: flex;align-items: stretch;justify-content: center;background-color: white;position: relative;}#sk-container-id-2 div.sk-item::before, #sk-container-id-2 div.sk-parallel-item::before {content: \"\";position: absolute;border-left: 1px solid gray;box-sizing: border-box;top: 0;bottom: 0;left: 50%;z-index: -1;}#sk-container-id-2 div.sk-parallel-item {display: flex;flex-direction: column;z-index: 1;position: relative;background-color: white;}#sk-container-id-2 div.sk-parallel-item:first-child::after {align-self: flex-end;width: 50%;}#sk-container-id-2 div.sk-parallel-item:last-child::after {align-self: flex-start;width: 50%;}#sk-container-id-2 div.sk-parallel-item:only-child::after {width: 0;}#sk-container-id-2 div.sk-dashed-wrapped {border: 1px dashed gray;margin: 0 0.4em 0.5em 0.4em;box-sizing: border-box;padding-bottom: 0.4em;background-color: white;}#sk-container-id-2 div.sk-label label {font-family: monospace;font-weight: bold;display: inline-block;line-height: 1.2em;}#sk-container-id-2 div.sk-label-container {text-align: center;}#sk-container-id-2 div.sk-container {/* jupyter's `normalize.less` sets `[hidden] { display: none; }` but bootstrap.min.css set `[hidden] { display: none !important; }` so we also need the `!important` here to be able to override the default hidden behavior on the sphinx rendered scikit-learn.org. See: https://github.com/scikit-learn/scikit-learn/issues/21755 */display: inline-block !important;position: relative;}#sk-container-id-2 div.sk-text-repr-fallback {display: none;}</style><div id=\"sk-container-id-2\" class=\"sk-top-container\"><div class=\"sk-text-repr-fallback\"><pre>KNeighborsClassifier(n_neighbors=3)</pre><b>In a Jupyter environment, please rerun this cell to show the HTML representation or trust the notebook. <br />On GitHub, the HTML representation is unable to render, please try loading this page with nbviewer.org.</b></div><div class=\"sk-container\" hidden><div class=\"sk-item\"><div class=\"sk-estimator sk-toggleable\"><input class=\"sk-toggleable__control sk-hidden--visually\" id=\"sk-estimator-id-2\" type=\"checkbox\" checked><label for=\"sk-estimator-id-2\" class=\"sk-toggleable__label sk-toggleable__label-arrow\">KNeighborsClassifier</label><div class=\"sk-toggleable__content\"><pre>KNeighborsClassifier(n_neighbors=3)</pre></div></div></div></div></div>"
      ],
      "text/plain": [
       "KNeighborsClassifier(n_neighbors=3)"
      ]
     },
     "execution_count": 17,
     "metadata": {},
     "output_type": "execute_result"
    }
   ],
   "source": [
    "# use n=3 and compare with rule of thumb: n=sqrt(20000)/2=70\n",
    "knc = KNeighborsClassifier(n_neighbors=3) \n",
    "knc.fit(x_train, y_train)"
   ]
  },
  {
   "cell_type": "markdown",
   "id": "131d4e08-25b4-4433-84a7-74221e55f749",
   "metadata": {},
   "source": [
    "#### Confusion Matrix"
   ]
  },
  {
   "cell_type": "code",
   "execution_count": 18,
   "id": "3b2ab80b-059c-43c4-aae7-f06d4884bc07",
   "metadata": {},
   "outputs": [
    {
     "data": {
      "text/plain": [
       "<sklearn.metrics._plot.confusion_matrix.ConfusionMatrixDisplay at 0x7fc370b8d0c0>"
      ]
     },
     "execution_count": 18,
     "metadata": {},
     "output_type": "execute_result"
    },
    {
     "data": {
      "image/png": "[encoded data removed]",
      "text/plain": [
       "<Figure size 640x480 with 2 Axes>"
      ]
     },
     "metadata": {},
     "output_type": "display_data"
    }
   ],
   "source": [
    "ConfusionMatrixDisplay.from_estimator(knc, x_test, y_test)"
   ]
  },
  {
   "cell_type": "markdown",
   "id": "e9e55ea2-6f5e-4d39-8fb3-0aefd6e19404",
   "metadata": {},
   "source": [
    "### Accuracy score and classification report\n",
    "\n",
    "Definitions:\n",
    "+ Accuracy score: the proportion of correct predictions.\n",
    "+ Precision: the proportion of the prediction that is actually correct.\n",
    "+ Recall: the proportion of actual class of a label that is identified correctly.\n",
    "+ f1-score: harmonic mean of Precision and Recall.\n",
    "+ Support: the number of occurrences of each particular class in the true responses (responses in your test set)."
   ]
  },
  {
   "cell_type": "code",
   "execution_count": 19,
   "id": "f4415a6a-4508-420f-bbf6-07d93cbe7b93",
   "metadata": {},
   "outputs": [
    {
     "name": "stdout",
     "output_type": "stream",
     "text": [
      "KNN Accuracy Score = 0.7966666666666666\n",
      "KNN Classification Report:\n",
      "              precision    recall  f1-score   support\n",
      "\n",
      "           0       0.85      0.89      0.87       912\n",
      "           1       0.59      0.50      0.54       288\n",
      "\n",
      "    accuracy                           0.80      1200\n",
      "   macro avg       0.72      0.70      0.71      1200\n",
      "weighted avg       0.79      0.80      0.79      1200\n",
      "\n"
     ]
    }
   ],
   "source": [
    "y_pred = knc.predict(x_test)\n",
    "\n",
    "knc_score = accuracy_score(y_test, y_pred)\n",
    "print(f'KNN Accuracy Score = {knc_score}')\n",
    "\n",
    "print('KNN Classification Report:')\n",
    "print(classification_report(y_test, y_pred))"
   ]
  },
  {
   "cell_type": "code",
   "execution_count": 20,
   "id": "03c1e4de-dbd8-4448-8895-1db4ca885b03",
   "metadata": {},
   "outputs": [
    {
     "data": {
      "text/plain": [
       "<sklearn.metrics._plot.confusion_matrix.ConfusionMatrixDisplay at 0x7fc3718a4c40>"
      ]
     },
     "execution_count": 20,
     "metadata": {},
     "output_type": "execute_result"
    },
    {
     "data": {
      "image/png": "[encoded data removed]",
      "text/plain": [
       "<Figure size 640x480 with 2 Axes>"
      ]
     },
     "metadata": {},
     "output_type": "display_data"
    }
   ],
   "source": [
    "# Compare with rule of thumb: n=sqrt(20000)/2=70\n",
    "knc = KNeighborsClassifier(n_neighbors=70) \n",
    "knc.fit(x_train, y_train)\n",
    "ConfusionMatrixDisplay.from_estimator(knc, x_test, y_test)"
   ]
  },
  {
   "cell_type": "markdown",
   "id": "760d5566-b245-414f-ae36-b65d93010d90",
   "metadata": {},
   "source": [
    "#### (C) Build a Support Vector Machine classifier for individual’s income level. Use model predictions on the test sample to create a confusion matrix and calculate the accuracy score, precision, and recall ratios."
   ]
  },
  {
   "cell_type": "code",
   "execution_count": 21,
   "id": "ecbcdb94-71ec-476f-9609-86e9ce6f70c0",
   "metadata": {},
   "outputs": [
    {
     "data": {
      "text/html": [
       "<style>#sk-container-id-3 {color: black;background-color: white;}#sk-container-id-3 pre{padding: 0;}#sk-container-id-3 div.sk-toggleable {background-color: white;}#sk-container-id-3 label.sk-toggleable__label {cursor: pointer;display: block;width: 100%;margin-bottom: 0;padding: 0.3em;box-sizing: border-box;text-align: center;}#sk-container-id-3 label.sk-toggleable__label-arrow:before {content: \"▸\";float: left;margin-right: 0.25em;color: #696969;}#sk-container-id-3 label.sk-toggleable__label-arrow:hover:before {color: black;}#sk-container-id-3 div.sk-estimator:hover label.sk-toggleable__label-arrow:before {color: black;}#sk-container-id-3 div.sk-toggleable__content {max-height: 0;max-width: 0;overflow: hidden;text-align: left;background-color: #f0f8ff;}#sk-container-id-3 div.sk-toggleable__content pre {margin: 0.2em;color: black;border-radius: 0.25em;background-color: #f0f8ff;}#sk-container-id-3 input.sk-toggleable__control:checked~div.sk-toggleable__content {max-height: 200px;max-width: 100%;overflow: auto;}#sk-container-id-3 input.sk-toggleable__control:checked~label.sk-toggleable__label-arrow:before {content: \"▾\";}#sk-container-id-3 div.sk-estimator input.sk-toggleable__control:checked~label.sk-toggleable__label {background-color: #d4ebff;}#sk-container-id-3 div.sk-label input.sk-toggleable__control:checked~label.sk-toggleable__label {background-color: #d4ebff;}#sk-container-id-3 input.sk-hidden--visually {border: 0;clip: rect(1px 1px 1px 1px);clip: rect(1px, 1px, 1px, 1px);height: 1px;margin: -1px;overflow: hidden;padding: 0;position: absolute;width: 1px;}#sk-container-id-3 div.sk-estimator {font-family: monospace;background-color: #f0f8ff;border: 1px dotted black;border-radius: 0.25em;box-sizing: border-box;margin-bottom: 0.5em;}#sk-container-id-3 div.sk-estimator:hover {background-color: #d4ebff;}#sk-container-id-3 div.sk-parallel-item::after {content: \"\";width: 100%;border-bottom: 1px solid gray;flex-grow: 1;}#sk-container-id-3 div.sk-label:hover label.sk-toggleable__label {background-color: #d4ebff;}#sk-container-id-3 div.sk-serial::before {content: \"\";position: absolute;border-left: 1px solid gray;box-sizing: border-box;top: 0;bottom: 0;left: 50%;z-index: 0;}#sk-container-id-3 div.sk-serial {display: flex;flex-direction: column;align-items: center;background-color: white;padding-right: 0.2em;padding-left: 0.2em;position: relative;}#sk-container-id-3 div.sk-item {position: relative;z-index: 1;}#sk-container-id-3 div.sk-parallel {display: flex;align-items: stretch;justify-content: center;background-color: white;position: relative;}#sk-container-id-3 div.sk-item::before, #sk-container-id-3 div.sk-parallel-item::before {content: \"\";position: absolute;border-left: 1px solid gray;box-sizing: border-box;top: 0;bottom: 0;left: 50%;z-index: -1;}#sk-container-id-3 div.sk-parallel-item {display: flex;flex-direction: column;z-index: 1;position: relative;background-color: white;}#sk-container-id-3 div.sk-parallel-item:first-child::after {align-self: flex-end;width: 50%;}#sk-container-id-3 div.sk-parallel-item:last-child::after {align-self: flex-start;width: 50%;}#sk-container-id-3 div.sk-parallel-item:only-child::after {width: 0;}#sk-container-id-3 div.sk-dashed-wrapped {border: 1px dashed gray;margin: 0 0.4em 0.5em 0.4em;box-sizing: border-box;padding-bottom: 0.4em;background-color: white;}#sk-container-id-3 div.sk-label label {font-family: monospace;font-weight: bold;display: inline-block;line-height: 1.2em;}#sk-container-id-3 div.sk-label-container {text-align: center;}#sk-container-id-3 div.sk-container {/* jupyter's `normalize.less` sets `[hidden] { display: none; }` but bootstrap.min.css set `[hidden] { display: none !important; }` so we also need the `!important` here to be able to override the default hidden behavior on the sphinx rendered scikit-learn.org. See: https://github.com/scikit-learn/scikit-learn/issues/21755 */display: inline-block !important;position: relative;}#sk-container-id-3 div.sk-text-repr-fallback {display: none;}</style><div id=\"sk-container-id-3\" class=\"sk-top-container\"><div class=\"sk-text-repr-fallback\"><pre>SVC(C=10, random_state=666)</pre><b>In a Jupyter environment, please rerun this cell to show the HTML representation or trust the notebook. <br />On GitHub, the HTML representation is unable to render, please try loading this page with nbviewer.org.</b></div><div class=\"sk-container\" hidden><div class=\"sk-item\"><div class=\"sk-estimator sk-toggleable\"><input class=\"sk-toggleable__control sk-hidden--visually\" id=\"sk-estimator-id-3\" type=\"checkbox\" checked><label for=\"sk-estimator-id-3\" class=\"sk-toggleable__label sk-toggleable__label-arrow\">SVC</label><div class=\"sk-toggleable__content\"><pre>SVC(C=10, random_state=666)</pre></div></div></div></div></div>"
      ],
      "text/plain": [
       "SVC(C=10, random_state=666)"
      ]
     },
     "execution_count": 21,
     "metadata": {},
     "output_type": "execute_result"
    }
   ],
   "source": [
    "#NOTE 1: Start with default kernel='rbf' then move to 'linear'\n",
    "#NOTE 2: class_weight='balanced' increases the recall rate to 85%\n",
    "svc = SVC(kernel='rbf', C=10, random_state=666) #class_weight='balanced'\n",
    "svc.fit(x_train, y_train)"
   ]
  },
  {
   "cell_type": "markdown",
   "id": "151a1e95-7466-4e58-821e-7c0ca8dd1518",
   "metadata": {},
   "source": [
    "#### Confusion Matrix "
   ]
  },
  {
   "cell_type": "code",
   "execution_count": 22,
   "id": "5221cba1-beb8-4d00-ac1e-b74fde8d2773",
   "metadata": {},
   "outputs": [
    {
     "data": {
      "text/plain": [
       "<sklearn.metrics._plot.confusion_matrix.ConfusionMatrixDisplay at 0x7fc370d89390>"
      ]
     },
     "execution_count": 22,
     "metadata": {},
     "output_type": "execute_result"
    },
    {
     "data": {
      "image/png": "[encoded data removed]",
      "text/plain": [
       "<Figure size 640x480 with 2 Axes>"
      ]
     },
     "metadata": {},
     "output_type": "display_data"
    }
   ],
   "source": [
    "ConfusionMatrixDisplay.from_estimator(svc, x_test, y_test)"
   ]
  },
  {
   "cell_type": "code",
   "execution_count": 35,
   "id": "e19283b8-e734-4fe3-8502-a9482c959539",
   "metadata": {},
   "outputs": [
    {
     "data": {
      "text/plain": [
       "<sklearn.metrics._plot.confusion_matrix.ConfusionMatrixDisplay at 0x7fc3714abf40>"
      ]
     },
     "execution_count": 35,
     "metadata": {},
     "output_type": "execute_result"
    },
    {
     "data": {
      "image/png": "[encoded data removed]",
      "text/plain": [
       "<Figure size 640x480 with 2 Axes>"
      ]
     },
     "metadata": {},
     "output_type": "display_data"
    }
   ],
   "source": [
    "svc = SVC(kernel='linear', C=10, random_state=666) #class_weight='balanced'\n",
    "svc.fit(x_train, y_train)\n",
    "ConfusionMatrixDisplay.from_estimator(svc, x_test, y_test)"
   ]
  },
  {
   "cell_type": "code",
   "execution_count": 24,
   "id": "a7e4213b-ea44-4c63-b7bf-640b45b72437",
   "metadata": {},
   "outputs": [
    {
     "data": {
      "text/plain": [
       "<sklearn.metrics._plot.confusion_matrix.ConfusionMatrixDisplay at 0x7fc371450c40>"
      ]
     },
     "execution_count": 24,
     "metadata": {},
     "output_type": "execute_result"
    },
    {
     "data": {
      "image/png": "[encoded data removed]",
      "text/plain": [
       "<Figure size 640x480 with 2 Axes>"
      ]
     },
     "metadata": {},
     "output_type": "display_data"
    }
   ],
   "source": [
    "## Re-run SVM with the balanced term for the predictive class\n",
    "\n",
    "svc = SVC(kernel='linear', C=10, class_weight='balanced', random_state=666) #class_weight='balanced'\n",
    "svc.fit(x_train, y_train)\n",
    "ConfusionMatrixDisplay.from_estimator(svc, x_test, y_test)"
   ]
  },
  {
   "cell_type": "markdown",
   "id": "1fbf6ca8-f7bd-4528-8939-76ebcac870cb",
   "metadata": {},
   "source": [
    "### Accuracy score and classification report"
   ]
  },
  {
   "cell_type": "code",
   "execution_count": 25,
   "id": "fb9c838f-2bd3-42c5-a964-deff79e4dc1e",
   "metadata": {},
   "outputs": [
    {
     "name": "stdout",
     "output_type": "stream",
     "text": [
      "SVM Accuracy Score = 0.7516666666666667\n",
      "SVM Classification Report:\n",
      "              precision    recall  f1-score   support\n",
      "\n",
      "           0       0.91      0.74      0.82       912\n",
      "           1       0.49      0.77      0.60       288\n",
      "\n",
      "    accuracy                           0.75      1200\n",
      "   macro avg       0.70      0.76      0.71      1200\n",
      "weighted avg       0.81      0.75      0.77      1200\n",
      "\n"
     ]
    }
   ],
   "source": [
    "y_pred = svc.predict(x_test)\n",
    "\n",
    "svc_score = accuracy_score(y_test, y_pred)\n",
    "print(f'SVM Accuracy Score = {svc_score}')\n",
    "\n",
    "print('SVM Classification Report:')\n",
    "print(classification_report(y_test, y_pred))"
   ]
  },
  {
   "cell_type": "markdown",
   "id": "5799e7ef-e99f-4cd8-a204-2c97dd899aec",
   "metadata": {},
   "source": [
    "## Balancing the sample by random under-sampling of the majority class\n",
    "\n",
    "To balance your dataset by randomly under-sampling the majority class, you can use the imbalanced-learn library, which is specifically designed for dealing with imbalanced datasets.\n",
    "\n",
    "First, install the `imbalanced-learn` package if you haven't already using pip install.\n",
    "\n",
    "Then:\n",
    "\n",
    "+ `RandomUnderSampler` is initialized with a random_state for reproducibility.\n",
    "+ `fit_resample` method is used on the training data to balance it by under-sampling.\n",
    "\n",
    "After resampling, you can see the new distribution of your classes by printing the counts, which should now be equal or at least significantly more balanced.\n",
    "\n",
    "**Note:** Keep in mind that under-sampling can lead to a loss of information because it reduces the size of the majority class to match the minority class. Depending on your specific case, you might also want to consider over-sampling the minority class or using synthetic data generation techniques like SMOTE (Synthetic Minority Over-sampling Technique) available in the same `imbalanced-learn` library."
   ]
  },
  {
   "cell_type": "code",
   "execution_count": 26,
   "id": "bfca90f0-36bd-4f1d-ac00-4b65dc5de2d9",
   "metadata": {},
   "outputs": [
    {
     "name": "stdout",
     "output_type": "stream",
     "text": [
      "Requirement already satisfied: imbalanced-learn in ./anaconda3/lib/python3.10/site-packages (0.12.0)\n",
      "Collecting imbalanced-learn\n",
      "  Downloading imbalanced_learn-0.12.2-py3-none-any.whl (257 kB)\n",
      "\u001b[2K     \u001b[90m━━━━━━━━━━━━━━━━━━━━━━━━━━━━━━━━━━━━━━━\u001b[0m \u001b[32m258.0/258.0 kB\u001b[0m \u001b[31m8.0 MB/s\u001b[0m eta \u001b[36m0:00:00\u001b[0m\n",
      "\u001b[?25hRequirement already satisfied: joblib>=1.1.1 in ./anaconda3/lib/python3.10/site-packages (from imbalanced-learn) (1.1.1)\n",
      "Requirement already satisfied: scipy>=1.5.0 in ./anaconda3/lib/python3.10/site-packages (from imbalanced-learn) (1.10.0)\n",
      "Requirement already satisfied: threadpoolctl>=2.0.0 in ./anaconda3/lib/python3.10/site-packages (from imbalanced-learn) (2.2.0)\n",
      "Requirement already satisfied: numpy>=1.17.3 in ./anaconda3/lib/python3.10/site-packages (from imbalanced-learn) (1.23.5)\n",
      "Requirement already satisfied: scikit-learn>=1.0.2 in ./anaconda3/lib/python3.10/site-packages (from imbalanced-learn) (1.2.1)\n",
      "Installing collected packages: imbalanced-learn\n",
      "  Attempting uninstall: imbalanced-learn\n",
      "    Found existing installation: imbalanced-learn 0.12.0\n",
      "    Uninstalling imbalanced-learn-0.12.0:\n",
      "      Successfully uninstalled imbalanced-learn-0.12.0\n",
      "Successfully installed imbalanced-learn-0.12.2\n",
      "Note: you may need to restart the kernel to use updated packages.\n"
     ]
    }
   ],
   "source": [
    "pip install -U imbalanced-learn"
   ]
  },
  {
   "cell_type": "code",
   "execution_count": 27,
   "id": "0eff6d06-8677-4c0c-85d5-48c85b944e10",
   "metadata": {},
   "outputs": [],
   "source": [
    "from imblearn.under_sampling import RandomUnderSampler"
   ]
  },
  {
   "cell_type": "code",
   "execution_count": 28,
   "id": "6fb181fb-e311-466e-aea6-de7f1f39a443",
   "metadata": {},
   "outputs": [],
   "source": [
    "rus = RandomUnderSampler(random_state=101)"
   ]
  },
  {
   "cell_type": "code",
   "execution_count": 29,
   "id": "b395b064-1887-4844-8849-3ca0cff2d5d0",
   "metadata": {},
   "outputs": [
    {
     "data": {
      "text/plain": [
       "0    916\n",
       "1    916\n",
       "Name: HighIncome, dtype: int64"
      ]
     },
     "execution_count": 29,
     "metadata": {},
     "output_type": "execute_result"
    }
   ],
   "source": [
    "x_res, y_res = rus.fit_resample(x, y)\n",
    "y_res.value_counts()"
   ]
  },
  {
   "cell_type": "code",
   "execution_count": 30,
   "id": "2312e3ea-b627-4669-adcd-018c589c675a",
   "metadata": {},
   "outputs": [],
   "source": [
    "x_train, x_test, y_train, y_test = train_test_split(x_res, y_res, test_size=0.2,\n",
    "                                                    random_state=101)"
   ]
  },
  {
   "cell_type": "markdown",
   "id": "10a5a627-0425-4273-9468-8895c3d448b5",
   "metadata": {
    "tags": []
   },
   "source": [
    "#### Re-run logistic Regression"
   ]
  },
  {
   "cell_type": "code",
   "execution_count": 31,
   "id": "4e2e389c-91c5-402f-9a43-9b2e555e6be3",
   "metadata": {
    "tags": []
   },
   "outputs": [
    {
     "data": {
      "text/plain": [
       "<sklearn.metrics._plot.confusion_matrix.ConfusionMatrixDisplay at 0x7fc3718a5900>"
      ]
     },
     "execution_count": 31,
     "metadata": {},
     "output_type": "execute_result"
    },
    {
     "data": {
      "image/png": "[encoded data removed]",
      "text/plain": [
       "<Figure size 640x480 with 2 Axes>"
      ]
     },
     "metadata": {},
     "output_type": "display_data"
    }
   ],
   "source": [
    "lr2 = LogisticRegression(C=100, max_iter=1000) # Adjust max_iter based on your needs\n",
    "lr2.fit(x_train, y_train)\n",
    "ConfusionMatrixDisplay.from_estimator(lr2, x_test, y_test)"
   ]
  },
  {
   "cell_type": "markdown",
   "id": "1e2eca92-cc58-43d4-976c-4325e4631e4b",
   "metadata": {},
   "source": [
    "#### Re-run KNN"
   ]
  },
  {
   "cell_type": "code",
   "execution_count": 32,
   "id": "e9804abc-a4e7-440e-9a07-5c8b4663e96e",
   "metadata": {},
   "outputs": [
    {
     "data": {
      "text/plain": [
       "<sklearn.metrics._plot.confusion_matrix.ConfusionMatrixDisplay at 0x7fc372b8e380>"
      ]
     },
     "execution_count": 32,
     "metadata": {},
     "output_type": "execute_result"
    },
    {
     "data": {
      "image/png": "[encoded data removed]",
      "text/plain": [
       "<Figure size 640x480 with 2 Axes>"
      ]
     },
     "metadata": {},
     "output_type": "display_data"
    }
   ],
   "source": [
    "knc2 = KNeighborsClassifier(n_neighbors=3) \n",
    "knc2.fit(x_train, y_train)\n",
    "ConfusionMatrixDisplay.from_estimator(knc2, x_test, y_test)"
   ]
  },
  {
   "cell_type": "code",
   "execution_count": 33,
   "id": "70eada35-7b9c-46c3-a10d-7bc4d5ba9d4a",
   "metadata": {},
   "outputs": [
    {
     "name": "stdout",
     "output_type": "stream",
     "text": [
      "KNN Accuracy Score = 0.7247956403269755\n",
      "KNN Classification Report:\n",
      "              precision    recall  f1-score   support\n",
      "\n",
      "           0       0.75      0.69      0.72       186\n",
      "           1       0.71      0.76      0.73       181\n",
      "\n",
      "    accuracy                           0.72       367\n",
      "   macro avg       0.73      0.73      0.72       367\n",
      "weighted avg       0.73      0.72      0.72       367\n",
      "\n"
     ]
    }
   ],
   "source": [
    "y_pred = knc2.predict(x_test)\n",
    "\n",
    "knc_score = accuracy_score(y_test, y_pred)\n",
    "print(f'KNN Accuracy Score = {knc_score}')\n",
    "\n",
    "print('KNN Classification Report:')\n",
    "print(classification_report(y_test, y_pred))"
   ]
  },
  {
   "cell_type": "markdown",
   "id": "b8dcb488-60b2-474b-9358-d8b1378e6b84",
   "metadata": {},
   "source": [
    "#### (D) Rank the models based on their performance. Can you explain the differences in model performances based on each model’s pros and cons?"
   ]
  },
  {
   "cell_type": "raw",
   "id": "06f06c76-da4a-4f13-9fd7-c334935e7423",
   "metadata": {},
   "source": [
    "Based on the above, the Logistic Regression ranks above the Support Vector Machine and KNN respectively as it has a higher accuracy score. Looking at the characteristics of this dataset, KNN best suits it as it can handle non-linear decision boundaries."
   ]
  }
 ],
 "metadata": {
  "kernelspec": {
   "display_name": "Python 3 (ipykernel)",
   "language": "python",
   "name": "python3"
  },
  "language_info": {
   "codemirror_mode": {
    "name": "ipython",
    "version": 3
   },
   "file_extension": ".py",
   "mimetype": "text/x-python",
   "name": "python",
   "nbconvert_exporter": "python",
   "pygments_lexer": "ipython3",
   "version": "3.10.9"
  }
 },
 "nbformat": 4,
 "nbformat_minor": 5
}
