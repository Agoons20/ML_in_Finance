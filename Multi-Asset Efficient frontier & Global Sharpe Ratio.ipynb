{
 "cells": [
  {
   "attachments": {},
   "cell_type": "markdown",
   "id": "323d51a3",
   "metadata": {},
   "source": [
    "### Part I. Use the Fama-French “48 Industry Portfolios,” which are available on Ken French’s data library. Use the set of monthly returns for value weighted portfolios in the past 20 years, that is since January 2002. \n",
    "\n",
    "Pick your favorite ten industries and plot the efficient frontier using those industries as the universe of risky assets and do a mMlti-Asset Efficient Frontier Analysis"
   ]
  },
  {
   "cell_type": "code",
   "execution_count": 2,
   "id": "62f677bd",
   "metadata": {},
   "outputs": [
    {
     "name": "stdout",
     "output_type": "stream",
     "text": [
      "The autoreload extension is already loaded. To reload it, use:\n",
      "  %reload_ext autoreload\n"
     ]
    }
   ],
   "source": [
    "# Import libraries for data manipulation\n",
    "# these two lines of code usually help to get the code running again. its called a magic function.\n",
    "# use this when your code downloads external packages\n",
    "%load_ext autoreload\n",
    "%autoreload 2\n",
    "\n",
    "import numpy as np\n",
    "import pandas as pd"
   ]
  },
  {
   "cell_type": "code",
   "execution_count": 10,
   "id": "fdd97030",
   "metadata": {},
   "outputs": [],
   "source": [
    "# Import the data\n",
    "ret = pd.read_csv(\"Average Value Weighted Returns -- Monthly.csv\", \n",
    "                  header=0, index_col=0)/100\n",
    "\n",
    "# Convert index from Year-month period (this is how the data is imported) to monthly returns \n",
    "# Q: What if we don't do this? isn't the data in yearly period already? \n",
    "ret.index = pd.to_datetime(ret.index, format=\"%Y%m\").to_period(\"M\")\n",
    "# file has header in row 1 \n",
    "\n",
    "# remove spaces in column name (we know this because it is the same data)\n",
    "ret.columns = ret.columns.str.strip()\n"
   ]
  },
  {
   "cell_type": "code",
   "execution_count": 19,
   "id": "9dfeb17c",
   "metadata": {},
   "outputs": [
    {
     "data": {
      "text/html": [
       "<div>\n",
       "<style scoped>\n",
       "    .dataframe tbody tr th:only-of-type {\n",
       "        vertical-align: middle;\n",
       "    }\n",
       "\n",
       "    .dataframe tbody tr th {\n",
       "        vertical-align: top;\n",
       "    }\n",
       "\n",
       "    .dataframe thead th {\n",
       "        text-align: right;\n",
       "    }\n",
       "</style>\n",
       "<table border=\"1\" class=\"dataframe\">\n",
       "  <thead>\n",
       "    <tr style=\"text-align: right;\">\n",
       "      <th></th>\n",
       "      <th>Agric</th>\n",
       "      <th>Food</th>\n",
       "      <th>Soda</th>\n",
       "      <th>Beer</th>\n",
       "      <th>Smoke</th>\n",
       "      <th>Toys</th>\n",
       "      <th>Fun</th>\n",
       "      <th>Books</th>\n",
       "      <th>Hshld</th>\n",
       "      <th>Clths</th>\n",
       "      <th>...</th>\n",
       "      <th>Boxes</th>\n",
       "      <th>Trans</th>\n",
       "      <th>Whlsl</th>\n",
       "      <th>Rtail</th>\n",
       "      <th>Meals</th>\n",
       "      <th>Banks</th>\n",
       "      <th>Insur</th>\n",
       "      <th>RlEst</th>\n",
       "      <th>Fin</th>\n",
       "      <th>Other</th>\n",
       "    </tr>\n",
       "  </thead>\n",
       "  <tbody>\n",
       "    <tr>\n",
       "      <th>1926-07</th>\n",
       "      <td>0.0237</td>\n",
       "      <td>0.0012</td>\n",
       "      <td>-0.9999</td>\n",
       "      <td>-0.0519</td>\n",
       "      <td>0.0129</td>\n",
       "      <td>0.0865</td>\n",
       "      <td>0.0250</td>\n",
       "      <td>0.5021</td>\n",
       "      <td>-0.0048</td>\n",
       "      <td>0.0808</td>\n",
       "      <td>...</td>\n",
       "      <td>0.0770</td>\n",
       "      <td>0.0192</td>\n",
       "      <td>-0.2379</td>\n",
       "      <td>0.0007</td>\n",
       "      <td>0.0187</td>\n",
       "      <td>0.0461</td>\n",
       "      <td>-0.0054</td>\n",
       "      <td>0.0289</td>\n",
       "      <td>-0.0577</td>\n",
       "      <td>0.0520</td>\n",
       "    </tr>\n",
       "    <tr>\n",
       "      <th>1926-08</th>\n",
       "      <td>0.0223</td>\n",
       "      <td>0.0268</td>\n",
       "      <td>-0.9999</td>\n",
       "      <td>0.2703</td>\n",
       "      <td>0.0650</td>\n",
       "      <td>0.1681</td>\n",
       "      <td>-0.0076</td>\n",
       "      <td>0.4298</td>\n",
       "      <td>-0.0358</td>\n",
       "      <td>-0.0251</td>\n",
       "      <td>...</td>\n",
       "      <td>-0.0238</td>\n",
       "      <td>0.0485</td>\n",
       "      <td>0.0539</td>\n",
       "      <td>-0.0075</td>\n",
       "      <td>-0.0013</td>\n",
       "      <td>0.1183</td>\n",
       "      <td>0.0257</td>\n",
       "      <td>0.0530</td>\n",
       "      <td>0.0032</td>\n",
       "      <td>0.0676</td>\n",
       "    </tr>\n",
       "    <tr>\n",
       "      <th>1926-09</th>\n",
       "      <td>-0.0057</td>\n",
       "      <td>0.0158</td>\n",
       "      <td>-0.9999</td>\n",
       "      <td>0.0402</td>\n",
       "      <td>0.0126</td>\n",
       "      <td>0.0833</td>\n",
       "      <td>0.0642</td>\n",
       "      <td>-0.0491</td>\n",
       "      <td>0.0073</td>\n",
       "      <td>-0.0051</td>\n",
       "      <td>...</td>\n",
       "      <td>-0.0554</td>\n",
       "      <td>0.0008</td>\n",
       "      <td>-0.0787</td>\n",
       "      <td>0.0025</td>\n",
       "      <td>-0.0056</td>\n",
       "      <td>-0.0175</td>\n",
       "      <td>0.0072</td>\n",
       "      <td>-0.0306</td>\n",
       "      <td>-0.0481</td>\n",
       "      <td>-0.0386</td>\n",
       "    </tr>\n",
       "    <tr>\n",
       "      <th>1926-10</th>\n",
       "      <td>-0.0046</td>\n",
       "      <td>-0.0368</td>\n",
       "      <td>-0.9999</td>\n",
       "      <td>-0.0331</td>\n",
       "      <td>0.0106</td>\n",
       "      <td>-0.0140</td>\n",
       "      <td>-0.0509</td>\n",
       "      <td>0.0537</td>\n",
       "      <td>-0.0468</td>\n",
       "      <td>0.0012</td>\n",
       "      <td>...</td>\n",
       "      <td>-0.0508</td>\n",
       "      <td>-0.0262</td>\n",
       "      <td>-0.1538</td>\n",
       "      <td>-0.0220</td>\n",
       "      <td>-0.0411</td>\n",
       "      <td>-0.1182</td>\n",
       "      <td>-0.0428</td>\n",
       "      <td>-0.0574</td>\n",
       "      <td>-0.0094</td>\n",
       "      <td>-0.0849</td>\n",
       "    </tr>\n",
       "    <tr>\n",
       "      <th>1926-11</th>\n",
       "      <td>0.0675</td>\n",
       "      <td>0.0626</td>\n",
       "      <td>-0.9999</td>\n",
       "      <td>0.0729</td>\n",
       "      <td>0.0455</td>\n",
       "      <td>0.0000</td>\n",
       "      <td>0.0182</td>\n",
       "      <td>-0.0640</td>\n",
       "      <td>-0.0054</td>\n",
       "      <td>0.0187</td>\n",
       "      <td>...</td>\n",
       "      <td>0.0384</td>\n",
       "      <td>0.0161</td>\n",
       "      <td>0.0467</td>\n",
       "      <td>0.0652</td>\n",
       "      <td>0.0433</td>\n",
       "      <td>-0.0297</td>\n",
       "      <td>0.0358</td>\n",
       "      <td>0.0221</td>\n",
       "      <td>0.0513</td>\n",
       "      <td>0.0400</td>\n",
       "    </tr>\n",
       "  </tbody>\n",
       "</table>\n",
       "<p>5 rows × 48 columns</p>\n",
       "</div>"
      ],
      "text/plain": [
       "          Agric    Food    Soda    Beer   Smoke    Toys     Fun   Books  \\\n",
       "1926-07  0.0237  0.0012 -0.9999 -0.0519  0.0129  0.0865  0.0250  0.5021   \n",
       "1926-08  0.0223  0.0268 -0.9999  0.2703  0.0650  0.1681 -0.0076  0.4298   \n",
       "1926-09 -0.0057  0.0158 -0.9999  0.0402  0.0126  0.0833  0.0642 -0.0491   \n",
       "1926-10 -0.0046 -0.0368 -0.9999 -0.0331  0.0106 -0.0140 -0.0509  0.0537   \n",
       "1926-11  0.0675  0.0626 -0.9999  0.0729  0.0455  0.0000  0.0182 -0.0640   \n",
       "\n",
       "          Hshld   Clths  ...   Boxes   Trans   Whlsl   Rtail   Meals   Banks  \\\n",
       "1926-07 -0.0048  0.0808  ...  0.0770  0.0192 -0.2379  0.0007  0.0187  0.0461   \n",
       "1926-08 -0.0358 -0.0251  ... -0.0238  0.0485  0.0539 -0.0075 -0.0013  0.1183   \n",
       "1926-09  0.0073 -0.0051  ... -0.0554  0.0008 -0.0787  0.0025 -0.0056 -0.0175   \n",
       "1926-10 -0.0468  0.0012  ... -0.0508 -0.0262 -0.1538 -0.0220 -0.0411 -0.1182   \n",
       "1926-11 -0.0054  0.0187  ...  0.0384  0.0161  0.0467  0.0652  0.0433 -0.0297   \n",
       "\n",
       "          Insur   RlEst     Fin   Other  \n",
       "1926-07 -0.0054  0.0289 -0.0577  0.0520  \n",
       "1926-08  0.0257  0.0530  0.0032  0.0676  \n",
       "1926-09  0.0072 -0.0306 -0.0481 -0.0386  \n",
       "1926-10 -0.0428 -0.0574 -0.0094 -0.0849  \n",
       "1926-11  0.0358  0.0221  0.0513  0.0400  \n",
       "\n",
       "[5 rows x 48 columns]"
      ]
     },
     "execution_count": 19,
     "metadata": {},
     "output_type": "execute_result"
    }
   ],
   "source": [
    "# Inspect the head and tail of the data, \"mydata.head() or mydata.tail()\"\n",
    "# pd.read_csv(\"path or dataname\", header=0, index_col=0)\n",
    "\n",
    "ret.tail()\n",
    "ret.head()\n"
   ]
  },
  {
   "cell_type": "code",
   "execution_count": 14,
   "id": "1087d7f1",
   "metadata": {},
   "outputs": [
    {
     "data": {
      "text/plain": [
       "384"
      ]
     },
     "execution_count": 14,
     "metadata": {},
     "output_type": "execute_result"
    }
   ],
   "source": [
    "# We want to build assets for a whole potfolio,find the efficient frontier, using\n",
    "# we need vector of expected returmns, covariance matrix \n",
    "# this calculates the number of rows only\n",
    "ret[\"1992\":].shape[0]\n"
   ]
  },
  {
   "cell_type": "markdown",
   "id": "92afac8e",
   "metadata": {},
   "source": [
    "# Calculate the expected annual return and volatility of the portfolio  "
   ]
  },
  {
   "cell_type": "code",
   "execution_count": 15,
   "id": "16df63e1",
   "metadata": {},
   "outputs": [],
   "source": [
    "# mydata[\"1992\":].shape[0]"
   ]
  },
  {
   "cell_type": "code",
   "execution_count": 24,
   "id": "7a85beca",
   "metadata": {},
   "outputs": [
    {
     "data": {
      "text/plain": [
       "48"
      ]
     },
     "execution_count": 24,
     "metadata": {},
     "output_type": "execute_result"
    }
   ],
   "source": [
    "ret[\"1992\":].shape\n",
    "ret[\"1992\":].shape[1]"
   ]
  },
  {
   "cell_type": "raw",
   "id": "424161bf",
   "metadata": {},
   "source": [
    "Notes: \n",
    "\n",
    "- mydata[\"1992\":].shape[0] returns the length of the matrix or counts the number of rows and mydata[\"1992\":].shape[1] counts the number of columns while  \"mydata[\"1992\":].shape\" returns the dim. \n",
    "\n"
   ]
  },
  {
   "cell_type": "markdown",
   "id": "f617d5e5",
   "metadata": {},
   "source": [
    "## Calulate and visualize returns "
   ]
  },
  {
   "cell_type": "code",
   "execution_count": 39,
   "id": "69352002",
   "metadata": {},
   "outputs": [
    {
     "data": {
      "text/plain": [
       "<Axes: >"
      ]
     },
     "execution_count": 39,
     "metadata": {},
     "output_type": "execute_result"
    },
    {
     "data": {
      "image/png": "[encoded data removed]",
      "text/plain": [
       "<Figure size 1000x500 with 1 Axes>"
      ]
     },
     "metadata": {},
     "output_type": "display_data"
    }
   ],
   "source": [
    "# Calulate the number of years from 1992. The data starts from 1926, we filter the most recent 20 years of returns\n",
    "n_years=ret[\"1992\":].shape[0]/12 \n",
    "\n",
    "# Cal the E(R) using the formula  \" (1+R)^1/n_years -1 \"\n",
    "eret=((1+ret[\"1992\":]).prod())**(1/n_years)-1\n",
    "\n",
    "# Look at the top returns for the first 5 industries \n",
    "eret.head()\n",
    "\n",
    "# Sort and plot returns\n",
    " # eret.sort_values() ~ this sorts the returns \n",
    "eret.sort_values().plot.bar(figsize=(10,5))"
   ]
  },
  {
   "cell_type": "markdown",
   "id": "fa3e6dbd",
   "metadata": {},
   "source": [
    "## Calculate the volatility of the portfolio"
   ]
  },
  {
   "cell_type": "code",
   "execution_count": 45,
   "id": "daed0071",
   "metadata": {},
   "outputs": [],
   "source": [
    "# The diagonal of the covariance matrix is the SD or the average volatility of each industry\n",
    "cov=ret[\"1992\":].cov()*12\n",
    "# cov\n",
    "\n",
    "# cov.shape - dim of the covariance matrix "
   ]
  },
  {
   "attachments": {},
   "cell_type": "markdown",
   "id": "b259f569",
   "metadata": {},
   "source": [
    "## Part II.\tMulti-Asset Efficient Frontier Analysis: (15%) Pick your favorite ten industries and plot the efficient frontier using those industries as the universe of risky assets. \n"
   ]
  },
  {
   "cell_type": "code",
   "execution_count": 48,
   "id": "2e459ae8",
   "metadata": {},
   "outputs": [
    {
     "data": {
      "text/plain": [
       "Agric    0.097653\n",
       "Food     0.080716\n",
       "Soda     0.115073\n",
       "Beer     0.099680\n",
       "Smoke    0.103592\n",
       "Toys     0.030835\n",
       "Fun      0.111984\n",
       "Books    0.068876\n",
       "Hshld    0.093361\n",
       "Clths    0.090767\n",
       "dtype: float64"
      ]
     },
     "execution_count": 48,
     "metadata": {},
     "output_type": "execute_result"
    }
   ],
   "source": [
    "l= [\"Agric\", \"Food\", \"Soda\", \"Beer\", \"Smoke\", \"Toys\", \"Fun\", \"Books\", \"Hshld\", \"Clths\"]\n",
    "\n",
    "# Calculate the E(R)\n",
    "eret[l]"
   ]
  },
  {
   "cell_type": "code",
   "execution_count": 51,
   "id": "1d64fe9d",
   "metadata": {},
   "outputs": [
    {
     "data": {
      "text/html": [
       "<div>\n",
       "<style scoped>\n",
       "    .dataframe tbody tr th:only-of-type {\n",
       "        vertical-align: middle;\n",
       "    }\n",
       "\n",
       "    .dataframe tbody tr th {\n",
       "        vertical-align: top;\n",
       "    }\n",
       "\n",
       "    .dataframe thead th {\n",
       "        text-align: right;\n",
       "    }\n",
       "</style>\n",
       "<table border=\"1\" class=\"dataframe\">\n",
       "  <thead>\n",
       "    <tr style=\"text-align: right;\">\n",
       "      <th></th>\n",
       "      <th>Agric</th>\n",
       "      <th>Food</th>\n",
       "      <th>Soda</th>\n",
       "      <th>Beer</th>\n",
       "      <th>Smoke</th>\n",
       "      <th>Toys</th>\n",
       "      <th>Fun</th>\n",
       "      <th>Books</th>\n",
       "      <th>Hshld</th>\n",
       "      <th>Clths</th>\n",
       "    </tr>\n",
       "  </thead>\n",
       "  <tbody>\n",
       "    <tr>\n",
       "      <th>Agric</th>\n",
       "      <td>0.046055</td>\n",
       "      <td>0.009700</td>\n",
       "      <td>0.009953</td>\n",
       "      <td>0.008375</td>\n",
       "      <td>0.010668</td>\n",
       "      <td>0.017564</td>\n",
       "      <td>0.022171</td>\n",
       "      <td>0.019004</td>\n",
       "      <td>0.008521</td>\n",
       "      <td>0.016928</td>\n",
       "    </tr>\n",
       "    <tr>\n",
       "      <th>Food</th>\n",
       "      <td>0.009700</td>\n",
       "      <td>0.018775</td>\n",
       "      <td>0.014645</td>\n",
       "      <td>0.013834</td>\n",
       "      <td>0.016591</td>\n",
       "      <td>0.013491</td>\n",
       "      <td>0.013809</td>\n",
       "      <td>0.013156</td>\n",
       "      <td>0.012084</td>\n",
       "      <td>0.014434</td>\n",
       "    </tr>\n",
       "    <tr>\n",
       "      <th>Soda</th>\n",
       "      <td>0.009953</td>\n",
       "      <td>0.014645</td>\n",
       "      <td>0.053101</td>\n",
       "      <td>0.020730</td>\n",
       "      <td>0.015570</td>\n",
       "      <td>0.019399</td>\n",
       "      <td>0.024218</td>\n",
       "      <td>0.019795</td>\n",
       "      <td>0.017288</td>\n",
       "      <td>0.021368</td>\n",
       "    </tr>\n",
       "    <tr>\n",
       "      <th>Beer</th>\n",
       "      <td>0.008375</td>\n",
       "      <td>0.013834</td>\n",
       "      <td>0.020730</td>\n",
       "      <td>0.025130</td>\n",
       "      <td>0.013791</td>\n",
       "      <td>0.012605</td>\n",
       "      <td>0.013570</td>\n",
       "      <td>0.011413</td>\n",
       "      <td>0.015548</td>\n",
       "      <td>0.013191</td>\n",
       "    </tr>\n",
       "    <tr>\n",
       "      <th>Smoke</th>\n",
       "      <td>0.010668</td>\n",
       "      <td>0.016591</td>\n",
       "      <td>0.015570</td>\n",
       "      <td>0.013791</td>\n",
       "      <td>0.052970</td>\n",
       "      <td>0.015245</td>\n",
       "      <td>0.013988</td>\n",
       "      <td>0.012561</td>\n",
       "      <td>0.013106</td>\n",
       "      <td>0.013067</td>\n",
       "    </tr>\n",
       "    <tr>\n",
       "      <th>Toys</th>\n",
       "      <td>0.017564</td>\n",
       "      <td>0.013491</td>\n",
       "      <td>0.019399</td>\n",
       "      <td>0.012605</td>\n",
       "      <td>0.015245</td>\n",
       "      <td>0.057136</td>\n",
       "      <td>0.038807</td>\n",
       "      <td>0.027877</td>\n",
       "      <td>0.016100</td>\n",
       "      <td>0.033053</td>\n",
       "    </tr>\n",
       "    <tr>\n",
       "      <th>Fun</th>\n",
       "      <td>0.022171</td>\n",
       "      <td>0.013809</td>\n",
       "      <td>0.024218</td>\n",
       "      <td>0.013570</td>\n",
       "      <td>0.013988</td>\n",
       "      <td>0.038807</td>\n",
       "      <td>0.073651</td>\n",
       "      <td>0.037793</td>\n",
       "      <td>0.017378</td>\n",
       "      <td>0.039036</td>\n",
       "    </tr>\n",
       "    <tr>\n",
       "      <th>Books</th>\n",
       "      <td>0.019004</td>\n",
       "      <td>0.013156</td>\n",
       "      <td>0.019795</td>\n",
       "      <td>0.011413</td>\n",
       "      <td>0.012561</td>\n",
       "      <td>0.027877</td>\n",
       "      <td>0.037793</td>\n",
       "      <td>0.041734</td>\n",
       "      <td>0.014832</td>\n",
       "      <td>0.029643</td>\n",
       "    </tr>\n",
       "    <tr>\n",
       "      <th>Hshld</th>\n",
       "      <td>0.008521</td>\n",
       "      <td>0.012084</td>\n",
       "      <td>0.017288</td>\n",
       "      <td>0.015548</td>\n",
       "      <td>0.013106</td>\n",
       "      <td>0.016100</td>\n",
       "      <td>0.017378</td>\n",
       "      <td>0.014832</td>\n",
       "      <td>0.020957</td>\n",
       "      <td>0.016138</td>\n",
       "    </tr>\n",
       "    <tr>\n",
       "      <th>Clths</th>\n",
       "      <td>0.016928</td>\n",
       "      <td>0.014434</td>\n",
       "      <td>0.021368</td>\n",
       "      <td>0.013191</td>\n",
       "      <td>0.013067</td>\n",
       "      <td>0.033053</td>\n",
       "      <td>0.039036</td>\n",
       "      <td>0.029643</td>\n",
       "      <td>0.016138</td>\n",
       "      <td>0.047917</td>\n",
       "    </tr>\n",
       "  </tbody>\n",
       "</table>\n",
       "</div>"
      ],
      "text/plain": [
       "          Agric      Food      Soda      Beer     Smoke      Toys       Fun  \\\n",
       "Agric  0.046055  0.009700  0.009953  0.008375  0.010668  0.017564  0.022171   \n",
       "Food   0.009700  0.018775  0.014645  0.013834  0.016591  0.013491  0.013809   \n",
       "Soda   0.009953  0.014645  0.053101  0.020730  0.015570  0.019399  0.024218   \n",
       "Beer   0.008375  0.013834  0.020730  0.025130  0.013791  0.012605  0.013570   \n",
       "Smoke  0.010668  0.016591  0.015570  0.013791  0.052970  0.015245  0.013988   \n",
       "Toys   0.017564  0.013491  0.019399  0.012605  0.015245  0.057136  0.038807   \n",
       "Fun    0.022171  0.013809  0.024218  0.013570  0.013988  0.038807  0.073651   \n",
       "Books  0.019004  0.013156  0.019795  0.011413  0.012561  0.027877  0.037793   \n",
       "Hshld  0.008521  0.012084  0.017288  0.015548  0.013106  0.016100  0.017378   \n",
       "Clths  0.016928  0.014434  0.021368  0.013191  0.013067  0.033053  0.039036   \n",
       "\n",
       "          Books     Hshld     Clths  \n",
       "Agric  0.019004  0.008521  0.016928  \n",
       "Food   0.013156  0.012084  0.014434  \n",
       "Soda   0.019795  0.017288  0.021368  \n",
       "Beer   0.011413  0.015548  0.013191  \n",
       "Smoke  0.012561  0.013106  0.013067  \n",
       "Toys   0.027877  0.016100  0.033053  \n",
       "Fun    0.037793  0.017378  0.039036  \n",
       "Books  0.041734  0.014832  0.029643  \n",
       "Hshld  0.014832  0.020957  0.016138  \n",
       "Clths  0.029643  0.016138  0.047917  "
      ]
     },
     "execution_count": 51,
     "metadata": {},
     "output_type": "execute_result"
    }
   ],
   "source": [
    "# Calculate the covariance matrix where the leading doagonal is the SD of the industry. \n",
    "cov.loc[l,l]"
   ]
  },
  {
   "cell_type": "code",
   "execution_count": 52,
   "id": "d9975608",
   "metadata": {},
   "outputs": [],
   "source": [
    "# Define portfolio returns\n",
    "def portfolio_ret(weights, returns):\n",
    "    \"\"\"\n",
    "    weights + asset returns --> portfolio return \n",
    "    \"\"\"\n",
    "    return weights.T @ returns"
   ]
  },
  {
   "cell_type": "code",
   "execution_count": 54,
   "id": "6c463146",
   "metadata": {},
   "outputs": [],
   "source": [
    "# Define portfolio variance \n",
    "def portfolio_vol(weights, covmat): \n",
    "    \"\"\"\n",
    "    weights + covariance matrix --> portfolio volatility \n",
    "    \"\"\"\n",
    "    return (weights.T @ covmat @ weights)**0.5 "
   ]
  },
  {
   "cell_type": "markdown",
   "id": "9a0ec80c",
   "metadata": {},
   "source": [
    "# Multi-Asset Efficient Frontier\n",
    "\n",
    "In order to plot the frontier for portfolios with more than 2 assets, we need to find the weights of the portfolios on the efficient frontier. To find the optimal weights, we need a function that will **minimize the volatility for a given level of return**."
   ]
  },
  {
   "cell_type": "code",
   "execution_count": 84,
   "id": "b64b7238",
   "metadata": {},
   "outputs": [],
   "source": [
    "from scipy.optimize import minimize"
   ]
  },
  {
   "cell_type": "raw",
   "id": "76306959",
   "metadata": {},
   "source": [
    "The minimize_vol() aims to find the weights of assets in a minimum-variance portfolio that generates a target return. We specify the target return in the beginning of the problem. This is the ***Global minimum variance portfolio***"
   ]
  },
  {
   "cell_type": "code",
   "execution_count": 116,
   "id": "04a50dd8",
   "metadata": {},
   "outputs": [],
   "source": [
    "# variance-covariance matrix (covmat), \n",
    "def minimize_vol(target_return, ereturns, covmat): #ereturns represents the dotted lines\n",
    "    \"\"\"\n",
    "    target return --> weights in a minimum-variance portfolio that generates the target return\n",
    "    \n",
    "    \"\"\"\n",
    "    n = ereturns.shape[0] # this is the number of assets in our universe. we use E(R) because this is what we have for each asset plotted on our efficient frontier\n",
    "    \n",
    "                \n",
    "                # here, we tryna get the minimum weight. We make an initial guess, we give it a range and then it \n",
    "                # iterates and then finds the try different values. This will be out init_value || init_guess\n",
    "                # we create an array of size 1/n,n. We need a range (bounds) from 0-1 representing the weights\n",
    "                # the shape of our initial guess should be the same as the number of assets in our portfolio. \n",
    "                # The initial guess will be 1/n, n=number of assets in our portfolio. if n=10, init_guess = 1/10\n",
    "                # using numpy, create an array of size 10 with 10 initial weights (1/10, 1/10, ... 1/10) 10 times\n",
    "                # the range of the weights MUST lie between [0,1]\n",
    "    \n",
    "    init_values = np.repeat(1/n,n)\n",
    "    bounds = ((0,1),)*n # create an array from 0 - 1 . The weights must be between [0,1]\n",
    "                \n",
    "    # constraints ( these are from slide 3) of our \n",
    "    weights_sum_to_1 = {'type': 'eq', # Weight transpose x Returns = Ro. the type is equality 'eq' we use\n",
    "                        'fun': lambda weights: np.sum(weights) -1} # lambda fxn allows you to define a fxn and use it immediately. we give the fxn an input, which is weights, such that the sum (weights)=1 but here, we write it as np.sum(weights)-1=0 which is the same thing but written in a different way. \n",
    "   \n",
    "    return_is_target = {'type': 'eq',\n",
    "                        'args': (ereturns,), # the argument here is ereturns because Weight.T * R = target return\n",
    "                        'fun': lambda weights, ereturns: portfolio_ret(weights, ereturns)-target_return} \n",
    "    # this says that portfolio_ret(weights, ereturns)-target_return (what you give to the fxn at the beginning) should be zero to ensure you get the same output\n",
    "    # if a client says INVEST IN EVERY STOCK EXECEPT TESLA, GOOGLE, then you need to add contraints \"weight.Tesla=0\" and so on. \n",
    "                        \n",
    "                \n",
    "    # how does the optimization work? we want to minimize portfolio volatility # read the minimize documentation \n",
    "    results = minimize(portfolio_vol, \n",
    "                      init_values, # give the function the initial weights (1/n)\n",
    "                      args = (covmat,), # what will be the variance given the weights\n",
    "                      method = 'SLSQP', # we do this minimization using the sequencial least square programming\n",
    "                      bounds = bounds, # we also tell the function that the weights lie between [0,1]\n",
    "                      constraints = (weights_sum_to_1, return_is_target), # these weights should abide by this\n",
    "                      options = {'disp': False}) # this prevents the fxn from writing a bunch of stuff\n",
    "    weights = results.x \n",
    "    return weights # we write this function to give us the optimum weights for our portfolio for any level of return"
   ]
  },
  {
   "cell_type": "code",
   "execution_count": 119,
   "id": "55a5c487",
   "metadata": {},
   "outputs": [
    {
     "data": {
      "text/plain": [
       "array([7.29607637e-02, 0.00000000e+00, 4.71849658e-01, 6.79704549e-02,\n",
       "       1.85828430e-01, 5.55382563e-17, 2.01390693e-01, 0.00000000e+00,\n",
       "       3.03576608e-17, 0.00000000e+00])"
      ]
     },
     "execution_count": 119,
     "metadata": {},
     "output_type": "execute_result"
    }
   ],
   "source": [
    "# For the above defined 10 industries \"l\", we define the weights \n",
    "w11 = minimize_vol(0.11, eret[l], cov.loc[l,l])\n",
    "w11\n",
    "\n",
    "### Observation, we don't have the desired return here even though we previously defined our target return. \n",
    "### To get the effiient frontier, here are the weights that we need or this is the % of investment of our capital\n",
    "### we need to make "
   ]
  },
  {
   "cell_type": "code",
   "execution_count": 120,
   "id": "48dce3ea",
   "metadata": {},
   "outputs": [
    {
     "data": {
      "text/plain": [
       "0.11000000000058519"
      ]
     },
     "execution_count": 120,
     "metadata": {},
     "output_type": "execute_result"
    }
   ],
   "source": [
    "portfolio_ret(w11, eret[l])"
   ]
  },
  {
   "cell_type": "code",
   "execution_count": 121,
   "id": "2aa916ea",
   "metadata": {},
   "outputs": [
    {
     "data": {
      "text/plain": [
       "0.170701287293143"
      ]
     },
     "execution_count": 121,
     "metadata": {},
     "output_type": "execute_result"
    }
   ],
   "source": [
    "portfolio_vol(w11, cov.loc[l,l])"
   ]
  },
  {
   "cell_type": "markdown",
   "id": "55b2c491",
   "metadata": {},
   "source": [
    "### NOte\n",
    "Now that we can find the weights to minimize the vol given a target return, we can plot the efficient frontier by dividing up the range from the highest to the lowest possible return into a grid, and finding the portfolio that targets the minimum volatility given a particular targeted rate of return."
   ]
  },
  {
   "cell_type": "code",
   "execution_count": 124,
   "id": "8d754589",
   "metadata": {},
   "outputs": [],
   "source": [
    "# This fxn takes the number of points (the grids in btw the Max and Min. returns) and the find the optimal weights\n",
    "def optimal_weights(n_points, ereturns, covmat):\n",
    "    \"\"\"\n",
    "    Takes expected returns and vols + number of grid points --> weights of efficient frontier portfolios\n",
    "    \"\"\"\n",
    "    target_returns = np.linspace(ereturns.min(), ereturns.max(), n_points) # we plot the min, max and grid points in between\n",
    "    opt_weights = [minimize_vol(tr, ereturns, covmat) for tr in target_returns] # for the first line, find the optimum weights for any \"tr\" target return\n",
    "    \n",
    "    return opt_weights"
   ]
  },
  {
   "cell_type": "raw",
   "id": "03605b27",
   "metadata": {},
   "source": [
    "Now, plot the efficient frontier for any number of assets"
   ]
  },
  {
   "cell_type": "code",
   "execution_count": 125,
   "id": "cf75244c",
   "metadata": {},
   "outputs": [
    {
     "data": {
      "text/plain": [
       "<Axes: xlabel='Volatility'>"
      ]
     },
     "execution_count": 125,
     "metadata": {},
     "output_type": "execute_result"
    },
    {
     "data": {
      "image/png": "[encoded data removed]",
      "text/plain": [
       "<Figure size 640x480 with 1 Axes>"
      ]
     },
     "metadata": {},
     "output_type": "display_data"
    }
   ],
   "source": [
    "# efweights = efficient frontier weight. This is a list that gives us all the points associated with the portfolios \n",
    "# of these 4 assets defined above on the ef. Look at the 50 portfolios on the ef line\n",
    "efweights = optimal_weights(50, eret[l], cov.loc[l,l])\n",
    "\n",
    "# Calculate the portfolio return and vol \n",
    "pret = [portfolio_ret(w, eret[l]) for w in efweights]\n",
    "pvol= [portfolio_vol(w, cov.loc[l,l]) for w in efweights]\n",
    "\n",
    "# Put the above returns and volatilities in a data frame then visuslize then \n",
    "ef = pd.DataFrame({\"Return\": pret, \n",
    "                   \"Volatility\": pvol})\n",
    "ef\n",
    "ef.plot.line(x=\"Volatility\", y=\"Return\", style=\".-\")"
   ]
  },
  {
   "attachments": {},
   "cell_type": "markdown",
   "id": "fed63cc9",
   "metadata": {},
   "source": [
    "### Part A.\tGlobal Minimum Variance Portfolio: (25%) \n",
    "1.\ta)  Modify the optimization function that we developed in class (“minimize_vol()”) so that it generates the weights for the Global Minimum Variance portfolio and name it gmv(). \n",
    "2.\tb)  Use the function that you developed on the set of your favorite ten industries and characterize the Global Minimum Variance portfolio—that is, find the asset weights, expected return, and volatility for this portfolio. "
   ]
  },
  {
   "cell_type": "code",
   "execution_count": 126,
   "id": "92f93a5a",
   "metadata": {},
   "outputs": [],
   "source": [
    "def gmv(target_return, ereturns, covmat):\n",
    "    \"\"\"\n",
    "    target return --> weights in a minimum-variance portfolio that generates target return\n",
    "    \"\"\"\n",
    "    n=ereturns.shape[0]\n",
    "    init_values=np.repeat(1/n, n)\n",
    "    \n",
    "    bounds=((0,1),)*n \n",
    "    \n",
    "    #Constraints:\n",
    "    weights_sum_to_1={'type':'eq',\n",
    "                     'fun': lambda weights: np.sum(weights)-1}\n",
    "    \n",
    "    return_is_target={'type':'eq',\n",
    "                     'args':(ereturns,),\n",
    "                     'fun': lambda weights, ereturns: portfolio_ret(weights, ereturns)-target_return}\n",
    "    \n",
    "    results=minimize(portfolio_vol,\n",
    "                    init_values,\n",
    "                    args=(covmat,),\n",
    "                    method='SLSQP',\n",
    "                    bounds=bounds,\n",
    "                    constraints=(weights_sum_to_1, return_is_target),\n",
    "                    options={'disp':False})\n",
    "    \n",
    "    weights=results.x\n",
    "    return weights"
   ]
  },
  {
   "cell_type": "code",
   "execution_count": 127,
   "id": "1e430e46",
   "metadata": {},
   "outputs": [
    {
     "data": {
      "text/plain": [
       "array([7.29607637e-02, 0.00000000e+00, 4.71849658e-01, 6.79704549e-02,\n",
       "       1.85828430e-01, 5.55382563e-17, 2.01390693e-01, 0.00000000e+00,\n",
       "       3.03576608e-17, 0.00000000e+00])"
      ]
     },
     "execution_count": 127,
     "metadata": {},
     "output_type": "execute_result"
    }
   ],
   "source": [
    "## Asset weights og the global minimum variance portfolio\n",
    "w11=gmv(0.11, eret[l], cov.loc[l,l])\n",
    "w11"
   ]
  },
  {
   "cell_type": "code",
   "execution_count": 128,
   "id": "99f1bde4",
   "metadata": {},
   "outputs": [
    {
     "data": {
      "text/plain": [
       "0.11000000000058519"
      ]
     },
     "execution_count": 128,
     "metadata": {},
     "output_type": "execute_result"
    }
   ],
   "source": [
    "## Porfolio return \n",
    "portfolio_ret(w11,eret[l])"
   ]
  },
  {
   "cell_type": "code",
   "execution_count": 129,
   "id": "68d91713",
   "metadata": {},
   "outputs": [
    {
     "data": {
      "text/plain": [
       "0.170701287293143"
      ]
     },
     "execution_count": 129,
     "metadata": {},
     "output_type": "execute_result"
    }
   ],
   "source": [
    "## Porfolio variance \n",
    "portfolio_vol(w11, cov.loc[l,l])"
   ]
  },
  {
   "attachments": {},
   "cell_type": "markdown",
   "id": "0a3f7c17",
   "metadata": {},
   "source": [
    "### Part B.\tMaximum Sharpe Ratio Portfolio: (45%) \n",
    "1.\ta)  Modify the optimization function that we developed in class (“minimize_vol()”) so that it generates the weights for the Maximum Sharpe Ratio portfolio and name it msr().        Hint: maximizing f(x) is the same as minimizing -f(x). \n",
    "\n",
    "2.\tb)  Use the function that you developed on the set of your favorite ten industries and characterize the Maximum Sharpe Ratio portfolio—that is, find the asset weights, expected return, and volatility for this portfolio. \n"
   ]
  },
  {
   "cell_type": "code",
   "execution_count": 111,
   "id": "b5901a5c",
   "metadata": {},
   "outputs": [],
   "source": [
    "def msr(returns):\n",
    "    \"\"\"\n",
    "    Computes the weights of the Maximum Sharpe Ratio portfolio.\n",
    "\n",
    "    Parameters:\n",
    "    returns (pd.DataFrame): A pandas dataframe of asset returns.\n",
    "\n",
    "    Returns:\n",
    "    weights (np.array): An array of floats representing the weights of each asset in the portfolio.\n",
    "    \"\"\"\n",
    "    n = returns.shape[1]\n",
    "    initial_weights = np.array([1/n]*n)\n",
    "\n",
    "    # Define the objective function to be minimized\n",
    "    def negative_sharpe_ratio(weights, returns):\n",
    "        port_return = np.dot(returns.mean(), weights)\n",
    "        port_volatility = np.sqrt(np.dot(weights.T, np.dot(returns.cov(), weights)))\n",
    "        return -port_return/port_volatility\n",
    "\n",
    "    # Define the weight constraints\n",
    "    bounds = ((0,1),)*n\n",
    "    weight_constraint = {'type': 'eq', 'fun': lambda x: np.sum(x) - 1}\n",
    "\n",
    "    # Use scipy.optimize.minimize to minimize the objective function\n",
    "    result = minimize(negative_sharpe_ratio, \n",
    "                      initial_weights, \n",
    "                      args=returns, \n",
    "                      method='SLSQP', \n",
    "                      bounds=bounds, \n",
    "                      constraints=weight_constraint)\n",
    "\n",
    "    return result.x"
   ]
  },
  {
   "cell_type": "code",
   "execution_count": 130,
   "id": "6c5b1559",
   "metadata": {},
   "outputs": [
    {
     "data": {
      "text/plain": [
       "array([1.21908365e-02, 3.54922438e-01, 5.41000551e-11, 1.51114096e-01,\n",
       "       3.90206809e-01, 3.98781159e-10, 3.23071392e-10, 1.38303233e-10,\n",
       "       1.55209318e-10, 9.15658190e-02])"
      ]
     },
     "execution_count": 130,
     "metadata": {},
     "output_type": "execute_result"
    }
   ],
   "source": [
    "## Weights for the Maximum Sharpe Ratio portfolio\n",
    "w11=msr(ret[l])\n",
    "w11"
   ]
  },
  {
   "cell_type": "code",
   "execution_count": 133,
   "id": "605527ad",
   "metadata": {},
   "outputs": [
    {
     "data": {
      "text/plain": [
       "0.09363485780253815"
      ]
     },
     "execution_count": 133,
     "metadata": {},
     "output_type": "execute_result"
    }
   ],
   "source": [
    "## Porfolio return \n",
    "portfolio_ret(w11,eret[l])"
   ]
  },
  {
   "cell_type": "code",
   "execution_count": 132,
   "id": "3deb8d72",
   "metadata": {},
   "outputs": [
    {
     "data": {
      "text/plain": [
       "0.14700292802768974"
      ]
     },
     "execution_count": 132,
     "metadata": {},
     "output_type": "execute_result"
    }
   ],
   "source": [
    "## Porfolio variance\n",
    "portfolio_vol(w11, cov.loc[l,l])"
   ]
  }
 ],
 "metadata": {
  "kernelspec": {
   "display_name": "Python 3 (ipykernel)",
   "language": "python",
   "name": "python3"
  },
  "language_info": {
   "codemirror_mode": {
    "name": "ipython",
    "version": 3
   },
   "file_extension": ".py",
   "mimetype": "text/x-python",
   "name": "python",
   "nbconvert_exporter": "python",
   "pygments_lexer": "ipython3",
   "version": "3.10.9"
  }
 },
 "nbformat": 4,
 "nbformat_minor": 5
}
