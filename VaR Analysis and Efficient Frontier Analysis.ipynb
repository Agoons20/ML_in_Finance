{
 "cells": [
  {
   "attachments": {},
   "cell_type": "markdown",
   "id": "3d7d6854",
   "metadata": {},
   "source": [
    "## Value-at-Risk Analysis\n",
    "\n",
    "### Part A. For this analysis, we would like to use Fama-French “48 Industry Portfolios,” which are available on Ken French’s data library. We need to use the set of monthly returns for value weighted portfolios since January 1990. \n",
    "\n",
    "a)\tCompute the 95% VaR for all industries using the modified Cornish-Fisher approach, sort them based on values, and show the results on a bar plot. \n",
    "b)\tCompute the Sharpe ratio for all industries using annualized return and volatility, and assuming that the annual risk free rate is rf=3%. Sort the Sharpe ratios based on value and show the results on a bar plot. \n",
    "c)\tDo you observe a relation between the results of parts (a) and (b)?\n",
    "(HINT: For example, you can investigate whether industries with the highest values in part (a) also have the highest values in part (b), or other relations like this) \n",
    "d)\tUse the VaR estimates from part (a) and compute the CVaR (i.e., Beyond VaR) for all portfolios. (Note: you need to build your own code for this part) "
   ]
  },
  {
   "cell_type": "code",
   "execution_count": 110,
   "id": "8e5a79f2-f446-4a0a-8b4c-2b7cdbb6ef31",
   "metadata": {},
   "outputs": [
    {
     "name": "stdout",
     "output_type": "stream",
     "text": [
      "The autoreload extension is already loaded. To reload it, use:\n",
      "  %reload_ext autoreload\n"
     ]
    }
   ],
   "source": [
    "# Import libraries for data manipulation\n",
    "# these two lines of code usually help to get the code running again. its called a magic function.\n",
    "# use this when your code downloads external packages\n",
    "%load_ext autoreload\n",
    "%autoreload 2\n"
   ]
  },
  {
   "cell_type": "code",
   "execution_count": 109,
   "id": "700aaff8-1c04-4dfc-a835-bd44eca02fb7",
   "metadata": {},
   "outputs": [],
   "source": [
    "import numpy as np\n",
    "import pandas as pd\n",
    "import scipy.stats"
   ]
  },
  {
   "cell_type": "code",
   "execution_count": 3,
   "id": "befbcb7d-3339-4dc6-88f1-caa23d30a2ae",
   "metadata": {},
   "outputs": [
    {
     "data": {
      "text/plain": [
       "array([[0.03198328],\n",
       "       [0.06112917],\n",
       "       [0.01385746],\n",
       "       ...,\n",
       "       [0.04406412],\n",
       "       [0.00867178],\n",
       "       [0.02984359]])"
      ]
     },
     "execution_count": 3,
     "metadata": {},
     "output_type": "execute_result"
    }
   ],
   "source": [
    "returns_norm = np.random.normal(0.01, 0.04, (10000,1))\n",
    "returns_norm"
   ]
  },
  {
   "cell_type": "code",
   "execution_count": 4,
   "id": "10895ba7-8b39-48bb-bc52-6737d1f47f4d",
   "metadata": {},
   "outputs": [
    {
     "data": {
      "text/plain": [
       "0.010469831391801339"
      ]
     },
     "execution_count": 4,
     "metadata": {},
     "output_type": "execute_result"
    }
   ],
   "source": [
    "np.mean(returns_norm)"
   ]
  },
  {
   "cell_type": "code",
   "execution_count": 11,
   "id": "b955439f-5ce0-41d7-8897-f66ed8353bb6",
   "metadata": {},
   "outputs": [
    {
     "data": {
      "text/plain": [
       "Int64Index([199001, 199002, 199003, 199004, 199005, 199006, 199007, 199008,\n",
       "            199009, 199010,\n",
       "            ...\n",
       "            202203, 202204, 202205, 202206, 202207, 202208, 202209, 202210,\n",
       "            202211, 202212],\n",
       "           dtype='int64', length=396)"
      ]
     },
     "execution_count": 11,
     "metadata": {},
     "output_type": "execute_result"
    }
   ],
   "source": [
    "ret = pd.read_csv(\"48_Industry_Portfolios_Returns_monthly.csv\", header=0, index_col=0, na_values=-99.99)/100\n",
    "\n",
    "# Check the initial index column of the data. it shows \"192607\" instead of \"1926-07\". We need to change this\n",
    "ret.index"
   ]
  },
  {
   "cell_type": "code",
   "execution_count": 12,
   "id": "ebcf9a7f-f62f-4257-b1e2-b6ac32fe24b0",
   "metadata": {},
   "outputs": [
    {
     "data": {
      "text/plain": [
       "PeriodIndex(['1990-01', '1990-02', '1990-03', '1990-04', '1990-05', '1990-06',\n",
       "             '1990-07', '1990-08', '1990-09', '1990-10',\n",
       "             ...\n",
       "             '2022-03', '2022-04', '2022-05', '2022-06', '2022-07', '2022-08',\n",
       "             '2022-09', '2022-10', '2022-11', '2022-12'],\n",
       "            dtype='period[M]', length=396)"
      ]
     },
     "execution_count": 12,
     "metadata": {},
     "output_type": "execute_result"
    }
   ],
   "source": [
    "ret.index = pd.to_datetime(ret.index, format=\"%Y%m\").to_period(\"M\")\n",
    "ret.index"
   ]
  },
  {
   "cell_type": "code",
   "execution_count": 13,
   "id": "f551152b-f0c9-4789-ab7f-9686b09d58ca",
   "metadata": {},
   "outputs": [
    {
     "data": {
      "text/html": [
       "<div>\n",
       "<style scoped>\n",
       "    .dataframe tbody tr th:only-of-type {\n",
       "        vertical-align: middle;\n",
       "    }\n",
       "\n",
       "    .dataframe tbody tr th {\n",
       "        vertical-align: top;\n",
       "    }\n",
       "\n",
       "    .dataframe thead th {\n",
       "        text-align: right;\n",
       "    }\n",
       "</style>\n",
       "<table border=\"1\" class=\"dataframe\">\n",
       "  <thead>\n",
       "    <tr style=\"text-align: right;\">\n",
       "      <th></th>\n",
       "      <th>Agric</th>\n",
       "      <th>Food</th>\n",
       "      <th>Soda</th>\n",
       "      <th>Beer</th>\n",
       "      <th>Smoke</th>\n",
       "      <th>Toys</th>\n",
       "      <th>Fun</th>\n",
       "      <th>Books</th>\n",
       "      <th>Hshld</th>\n",
       "      <th>Clths</th>\n",
       "      <th>...</th>\n",
       "      <th>Boxes</th>\n",
       "      <th>Trans</th>\n",
       "      <th>Whlsl</th>\n",
       "      <th>Rtail</th>\n",
       "      <th>Meals</th>\n",
       "      <th>Banks</th>\n",
       "      <th>Insur</th>\n",
       "      <th>RlEst</th>\n",
       "      <th>Fin</th>\n",
       "      <th>Other</th>\n",
       "    </tr>\n",
       "  </thead>\n",
       "  <tbody>\n",
       "    <tr>\n",
       "      <th>1990-01</th>\n",
       "      <td>-0.1145</td>\n",
       "      <td>-0.1013</td>\n",
       "      <td>-0.1063</td>\n",
       "      <td>-0.0903</td>\n",
       "      <td>-0.0865</td>\n",
       "      <td>-0.1138</td>\n",
       "      <td>-0.1074</td>\n",
       "      <td>-0.0926</td>\n",
       "      <td>-0.0771</td>\n",
       "      <td>-0.0916</td>\n",
       "      <td>...</td>\n",
       "      <td>-0.0496</td>\n",
       "      <td>-0.0732</td>\n",
       "      <td>-0.0762</td>\n",
       "      <td>-0.0565</td>\n",
       "      <td>-0.1217</td>\n",
       "      <td>-0.0973</td>\n",
       "      <td>-0.1059</td>\n",
       "      <td>-0.0850</td>\n",
       "      <td>-0.0826</td>\n",
       "      <td>-0.0988</td>\n",
       "    </tr>\n",
       "    <tr>\n",
       "      <th>1990-02</th>\n",
       "      <td>0.0940</td>\n",
       "      <td>-0.0080</td>\n",
       "      <td>-0.0089</td>\n",
       "      <td>0.0051</td>\n",
       "      <td>-0.0256</td>\n",
       "      <td>0.0063</td>\n",
       "      <td>0.0179</td>\n",
       "      <td>0.0028</td>\n",
       "      <td>0.0017</td>\n",
       "      <td>0.0268</td>\n",
       "      <td>...</td>\n",
       "      <td>0.0440</td>\n",
       "      <td>0.0586</td>\n",
       "      <td>0.0215</td>\n",
       "      <td>0.0222</td>\n",
       "      <td>-0.0008</td>\n",
       "      <td>0.0394</td>\n",
       "      <td>0.0139</td>\n",
       "      <td>0.0083</td>\n",
       "      <td>0.0090</td>\n",
       "      <td>0.0210</td>\n",
       "    </tr>\n",
       "    <tr>\n",
       "      <th>1990-03</th>\n",
       "      <td>0.0269</td>\n",
       "      <td>0.0529</td>\n",
       "      <td>0.0989</td>\n",
       "      <td>0.0621</td>\n",
       "      <td>0.0681</td>\n",
       "      <td>0.0675</td>\n",
       "      <td>0.0109</td>\n",
       "      <td>-0.0086</td>\n",
       "      <td>0.0417</td>\n",
       "      <td>0.0820</td>\n",
       "      <td>...</td>\n",
       "      <td>0.0412</td>\n",
       "      <td>0.0333</td>\n",
       "      <td>0.0307</td>\n",
       "      <td>0.0603</td>\n",
       "      <td>-0.0040</td>\n",
       "      <td>-0.0297</td>\n",
       "      <td>0.0011</td>\n",
       "      <td>0.0244</td>\n",
       "      <td>-0.0212</td>\n",
       "      <td>0.0446</td>\n",
       "    </tr>\n",
       "  </tbody>\n",
       "</table>\n",
       "<p>3 rows × 48 columns</p>\n",
       "</div>"
      ],
      "text/plain": [
       "          Agric   Food    Soda    Beer    Smoke   Toys    Fun     Books  \\\n",
       "1990-01 -0.1145 -0.1013 -0.1063 -0.0903 -0.0865 -0.1138 -0.1074 -0.0926   \n",
       "1990-02  0.0940 -0.0080 -0.0089  0.0051 -0.0256  0.0063  0.0179  0.0028   \n",
       "1990-03  0.0269  0.0529  0.0989  0.0621  0.0681  0.0675  0.0109 -0.0086   \n",
       "\n",
       "          Hshld   Clths  ...   Boxes   Trans   Whlsl   Rtail   Meals   Banks  \\\n",
       "1990-01 -0.0771 -0.0916  ... -0.0496 -0.0732 -0.0762 -0.0565 -0.1217 -0.0973   \n",
       "1990-02  0.0017  0.0268  ...  0.0440  0.0586  0.0215  0.0222 -0.0008  0.0394   \n",
       "1990-03  0.0417  0.0820  ...  0.0412  0.0333  0.0307  0.0603 -0.0040 -0.0297   \n",
       "\n",
       "          Insur   RlEst   Fin     Other  \n",
       "1990-01 -0.1059 -0.0850 -0.0826 -0.0988  \n",
       "1990-02  0.0139  0.0083  0.0090  0.0210  \n",
       "1990-03  0.0011  0.0244 -0.0212  0.0446  \n",
       "\n",
       "[3 rows x 48 columns]"
      ]
     },
     "execution_count": 13,
     "metadata": {},
     "output_type": "execute_result"
    }
   ],
   "source": [
    "ret.head(3)"
   ]
  },
  {
   "cell_type": "markdown",
   "id": "1bb3147e-8e59-42cb-950f-98c9bff5daa2",
   "metadata": {},
   "source": [
    "## a) Compute the 95% VaR for all industries using the modified Cornish-Fisher approach, sort them based on values, and show the results on a bar plot. "
   ]
  },
  {
   "cell_type": "code",
   "execution_count": 15,
   "id": "c03d8649-3b98-47d3-bc5e-c7099d54846f",
   "metadata": {},
   "outputs": [
    {
     "data": {
      "text/plain": [
       "Index(['Agric', 'Food ', 'Soda ', 'Beer ', 'Smoke', 'Toys ', 'Fun  ', 'Books',\n",
       "       'Hshld', 'Clths', 'Hlth ', 'MedEq', 'Drugs', 'Chems', 'Rubbr', 'Txtls',\n",
       "       'BldMt', 'Cnstr', 'Steel', 'FabPr', 'Mach ', 'ElcEq', 'Autos', 'Aero ',\n",
       "       'Ships', 'Guns ', 'Gold ', 'Mines', 'Coal ', 'Oil  ', 'Util ', 'Telcm',\n",
       "       'PerSv', 'BusSv', 'Comps', 'Chips', 'LabEq', 'Paper', 'Boxes', 'Trans',\n",
       "       'Whlsl', 'Rtail', 'Meals', 'Banks', 'Insur', 'RlEst', 'Fin  ', 'Other'],\n",
       "      dtype='object')"
      ]
     },
     "execution_count": 15,
     "metadata": {},
     "output_type": "execute_result"
    }
   ],
   "source": [
    "# Take a look at the columns in the data\n",
    "ret.columns"
   ]
  },
  {
   "cell_type": "code",
   "execution_count": 17,
   "id": "776216f9-b076-43ef-b335-d532f41b83bc",
   "metadata": {},
   "outputs": [
    {
     "data": {
      "text/plain": [
       "Index(['Agric', 'Food', 'Soda', 'Beer', 'Smoke', 'Toys', 'Fun', 'Books',\n",
       "       'Hshld', 'Clths', 'Hlth', 'MedEq', 'Drugs', 'Chems', 'Rubbr', 'Txtls',\n",
       "       'BldMt', 'Cnstr', 'Steel', 'FabPr', 'Mach', 'ElcEq', 'Autos', 'Aero',\n",
       "       'Ships', 'Guns', 'Gold', 'Mines', 'Coal', 'Oil', 'Util', 'Telcm',\n",
       "       'PerSv', 'BusSv', 'Comps', 'Chips', 'LabEq', 'Paper', 'Boxes', 'Trans',\n",
       "       'Whlsl', 'Rtail', 'Meals', 'Banks', 'Insur', 'RlEst', 'Fin', 'Other'],\n",
       "      dtype='object')"
      ]
     },
     "execution_count": 17,
     "metadata": {},
     "output_type": "execute_result"
    }
   ],
   "source": [
    "# remove space from column names\n",
    "ret.columns = ret.columns.str.strip()\n",
    "ret.columns"
   ]
  },
  {
   "cell_type": "code",
   "execution_count": 19,
   "id": "bad90369-2a44-42ea-91cf-512439083f75",
   "metadata": {},
   "outputs": [
    {
     "data": {
      "text/plain": [
       "Agric    0.009993\n",
       "Food     0.008604\n",
       "Soda     0.011255\n",
       "Beer     0.010469\n",
       "Smoke    0.011493\n",
       "Toys     0.005969\n",
       "Fun      0.010791\n",
       "Books    0.006491\n",
       "Hshld    0.008850\n",
       "Clths    0.010362\n",
       "Hlth     0.007976\n",
       "MedEq    0.011053\n",
       "Drugs    0.010398\n",
       "Chems    0.009198\n",
       "Rubbr    0.010171\n",
       "Txtls    0.006795\n",
       "BldMt    0.009814\n",
       "Cnstr    0.010084\n",
       "Steel    0.008489\n",
       "FabPr    0.007631\n",
       "Mach     0.010673\n",
       "ElcEq    0.011174\n",
       "Autos    0.009919\n",
       "Aero     0.011661\n",
       "Ships    0.011779\n",
       "Guns     0.012634\n",
       "Gold     0.005985\n",
       "Mines    0.011282\n",
       "Coal     0.011260\n",
       "Oil      0.009773\n",
       "Util     0.008223\n",
       "Telcm    0.006288\n",
       "PerSv    0.006754\n",
       "BusSv    0.011554\n",
       "Comps    0.011017\n",
       "Chips    0.013430\n",
       "LabEq    0.011771\n",
       "Paper    0.007192\n",
       "Boxes    0.009006\n",
       "Trans    0.008922\n",
       "Whlsl    0.008520\n",
       "Rtail    0.010185\n",
       "Meals    0.010177\n",
       "Banks    0.009611\n",
       "Insur    0.010393\n",
       "RlEst    0.005990\n",
       "Fin      0.011760\n",
       "Other    0.004196\n",
       "dtype: float64"
      ]
     },
     "execution_count": 19,
     "metadata": {},
     "output_type": "execute_result"
    }
   ],
   "source": [
    "# mean return by industry\n",
    "ret.mean()"
   ]
  },
  {
   "cell_type": "code",
   "execution_count": 22,
   "id": "ce94540b-5256-473a-b44e-c91f9d77faa6",
   "metadata": {},
   "outputs": [
    {
     "data": {
      "text/html": [
       "<div>\n",
       "<style scoped>\n",
       "    .dataframe tbody tr th:only-of-type {\n",
       "        vertical-align: middle;\n",
       "    }\n",
       "\n",
       "    .dataframe tbody tr th {\n",
       "        vertical-align: top;\n",
       "    }\n",
       "\n",
       "    .dataframe thead th {\n",
       "        text-align: right;\n",
       "    }\n",
       "</style>\n",
       "<table border=\"1\" class=\"dataframe\">\n",
       "  <thead>\n",
       "    <tr style=\"text-align: right;\">\n",
       "      <th></th>\n",
       "      <th>Agric</th>\n",
       "      <th>Food</th>\n",
       "      <th>Soda</th>\n",
       "      <th>Beer</th>\n",
       "      <th>Smoke</th>\n",
       "      <th>Toys</th>\n",
       "      <th>Fun</th>\n",
       "      <th>Books</th>\n",
       "      <th>Hshld</th>\n",
       "      <th>Clths</th>\n",
       "      <th>...</th>\n",
       "      <th>Boxes</th>\n",
       "      <th>Trans</th>\n",
       "      <th>Whlsl</th>\n",
       "      <th>Rtail</th>\n",
       "      <th>Meals</th>\n",
       "      <th>Banks</th>\n",
       "      <th>Insur</th>\n",
       "      <th>RlEst</th>\n",
       "      <th>Fin</th>\n",
       "      <th>Other</th>\n",
       "    </tr>\n",
       "  </thead>\n",
       "  <tbody>\n",
       "    <tr>\n",
       "      <th>Agric</th>\n",
       "      <td>0.050516</td>\n",
       "      <td>0.011145</td>\n",
       "      <td>0.012377</td>\n",
       "      <td>0.010312</td>\n",
       "      <td>0.014338</td>\n",
       "      <td>0.019074</td>\n",
       "      <td>0.028056</td>\n",
       "      <td>0.023772</td>\n",
       "      <td>0.009855</td>\n",
       "      <td>0.017932</td>\n",
       "      <td>...</td>\n",
       "      <td>0.021933</td>\n",
       "      <td>0.020639</td>\n",
       "      <td>0.020955</td>\n",
       "      <td>0.014472</td>\n",
       "      <td>0.016201</td>\n",
       "      <td>0.021444</td>\n",
       "      <td>0.018636</td>\n",
       "      <td>0.028724</td>\n",
       "      <td>0.026549</td>\n",
       "      <td>0.018191</td>\n",
       "    </tr>\n",
       "    <tr>\n",
       "      <th>Food</th>\n",
       "      <td>0.011145</td>\n",
       "      <td>0.016076</td>\n",
       "      <td>0.014356</td>\n",
       "      <td>0.011610</td>\n",
       "      <td>0.015464</td>\n",
       "      <td>0.015009</td>\n",
       "      <td>0.018079</td>\n",
       "      <td>0.015915</td>\n",
       "      <td>0.011982</td>\n",
       "      <td>0.014209</td>\n",
       "      <td>...</td>\n",
       "      <td>0.014147</td>\n",
       "      <td>0.013732</td>\n",
       "      <td>0.014793</td>\n",
       "      <td>0.011685</td>\n",
       "      <td>0.012730</td>\n",
       "      <td>0.014755</td>\n",
       "      <td>0.014876</td>\n",
       "      <td>0.019012</td>\n",
       "      <td>0.014858</td>\n",
       "      <td>0.013420</td>\n",
       "    </tr>\n",
       "    <tr>\n",
       "      <th>Soda</th>\n",
       "      <td>0.012377</td>\n",
       "      <td>0.014356</td>\n",
       "      <td>0.039983</td>\n",
       "      <td>0.016061</td>\n",
       "      <td>0.016404</td>\n",
       "      <td>0.022362</td>\n",
       "      <td>0.029317</td>\n",
       "      <td>0.023343</td>\n",
       "      <td>0.014523</td>\n",
       "      <td>0.022576</td>\n",
       "      <td>...</td>\n",
       "      <td>0.020243</td>\n",
       "      <td>0.018180</td>\n",
       "      <td>0.020829</td>\n",
       "      <td>0.016012</td>\n",
       "      <td>0.018014</td>\n",
       "      <td>0.021361</td>\n",
       "      <td>0.020625</td>\n",
       "      <td>0.034224</td>\n",
       "      <td>0.022366</td>\n",
       "      <td>0.019757</td>\n",
       "    </tr>\n",
       "  </tbody>\n",
       "</table>\n",
       "<p>3 rows × 48 columns</p>\n",
       "</div>"
      ],
      "text/plain": [
       "          Agric      Food      Soda      Beer     Smoke      Toys       Fun  \\\n",
       "Agric  0.050516  0.011145  0.012377  0.010312  0.014338  0.019074  0.028056   \n",
       "Food   0.011145  0.016076  0.014356  0.011610  0.015464  0.015009  0.018079   \n",
       "Soda   0.012377  0.014356  0.039983  0.016061  0.016404  0.022362  0.029317   \n",
       "\n",
       "          Books     Hshld     Clths  ...     Boxes     Trans     Whlsl  \\\n",
       "Agric  0.023772  0.009855  0.017932  ...  0.021933  0.020639  0.020955   \n",
       "Food   0.015915  0.011982  0.014209  ...  0.014147  0.013732  0.014793   \n",
       "Soda   0.023343  0.014523  0.022576  ...  0.020243  0.018180  0.020829   \n",
       "\n",
       "          Rtail     Meals     Banks     Insur     RlEst       Fin     Other  \n",
       "Agric  0.014472  0.016201  0.021444  0.018636  0.028724  0.026549  0.018191  \n",
       "Food   0.011685  0.012730  0.014755  0.014876  0.019012  0.014858  0.013420  \n",
       "Soda   0.016012  0.018014  0.021361  0.020625  0.034224  0.022366  0.019757  \n",
       "\n",
       "[3 rows x 48 columns]"
      ]
     },
     "execution_count": 22,
     "metadata": {},
     "output_type": "execute_result"
    }
   ],
   "source": [
    "# find the covariance monthly matrix ret[\"2002\":].cov() and this is done by simply \".cov() and MPY by 12 to have it annually\n",
    "# this \n",
    "\n",
    "# Remember, the leading diagonal of the covariance matrix is the variance of each industry as shown in the cov matrix\n",
    "# from a mathematical point of view . It also shows you the cov(Food,Beer) = 1.14%\n",
    "cov = ret[\"2002\":].cov()*12\n",
    "cov.head(3)"
   ]
  },
  {
   "cell_type": "code",
   "execution_count": 46,
   "id": "bbb90f81-71e3-484c-8925-de7cd0d0b860",
   "metadata": {},
   "outputs": [
    {
     "data": {
      "text/plain": [
       "<Axes: >"
      ]
     },
     "execution_count": 46,
     "metadata": {},
     "output_type": "execute_result"
    },
    {
     "data": {
      "image/png": "[encoded data removed]",
      "text/plain": [
       "<Figure size 800x300 with 1 Axes>"
      ]
     },
     "metadata": {},
     "output_type": "display_data"
    }
   ],
   "source": [
    "# Calculate the vector of returns\n",
    "# we take... then divide it by '12' to get number of years which is 20. use shape[0] so it should sum the index\n",
    "# instead and not the matrix since pd.shape() returns a matrix. BE CAREFUL TO AVOID ERRORS \n",
    "n_years = ret[\"2002\":].shape[0]/12\n",
    "\n",
    "# use the matrix as returns now (R) to calculate cummulative returns like the formula says < (1+R)^1/n_years -1 >\n",
    "eret = ((1+ret[\"2002\":]).prod())**(1/n_years)-1\n",
    "\n",
    "# Visualize the matrix. The coal industry has a negative average annual return of -0.04 for the last 20 years. \n",
    "eret.sort_values().plot.bar(figsize=(8,3))"
   ]
  },
  {
   "cell_type": "code",
   "execution_count": 48,
   "id": "da950247-f544-4577-a785-d1e52d1a0bba",
   "metadata": {},
   "outputs": [
    {
     "data": {
      "text/html": [
       "<div>\n",
       "<style scoped>\n",
       "    .dataframe tbody tr th:only-of-type {\n",
       "        vertical-align: middle;\n",
       "    }\n",
       "\n",
       "    .dataframe tbody tr th {\n",
       "        vertical-align: top;\n",
       "    }\n",
       "\n",
       "    .dataframe thead th {\n",
       "        text-align: right;\n",
       "    }\n",
       "</style>\n",
       "<table border=\"1\" class=\"dataframe\">\n",
       "  <thead>\n",
       "    <tr style=\"text-align: right;\">\n",
       "      <th></th>\n",
       "      <th>Agric</th>\n",
       "      <th>Food</th>\n",
       "      <th>Soda</th>\n",
       "      <th>Beer</th>\n",
       "      <th>Smoke</th>\n",
       "      <th>Toys</th>\n",
       "      <th>Fun</th>\n",
       "      <th>Books</th>\n",
       "      <th>Hshld</th>\n",
       "      <th>Clths</th>\n",
       "      <th>...</th>\n",
       "      <th>Boxes</th>\n",
       "      <th>Trans</th>\n",
       "      <th>Whlsl</th>\n",
       "      <th>Rtail</th>\n",
       "      <th>Meals</th>\n",
       "      <th>Banks</th>\n",
       "      <th>Insur</th>\n",
       "      <th>RlEst</th>\n",
       "      <th>Fin</th>\n",
       "      <th>Other</th>\n",
       "    </tr>\n",
       "  </thead>\n",
       "  <tbody>\n",
       "    <tr>\n",
       "      <th>Agric</th>\n",
       "      <td>0.050516</td>\n",
       "      <td>0.011145</td>\n",
       "      <td>0.012377</td>\n",
       "      <td>0.010312</td>\n",
       "      <td>0.014338</td>\n",
       "      <td>0.019074</td>\n",
       "      <td>0.028056</td>\n",
       "      <td>0.023772</td>\n",
       "      <td>0.009855</td>\n",
       "      <td>0.017932</td>\n",
       "      <td>...</td>\n",
       "      <td>0.021933</td>\n",
       "      <td>0.020639</td>\n",
       "      <td>0.020955</td>\n",
       "      <td>0.014472</td>\n",
       "      <td>0.016201</td>\n",
       "      <td>0.021444</td>\n",
       "      <td>0.018636</td>\n",
       "      <td>0.028724</td>\n",
       "      <td>0.026549</td>\n",
       "      <td>0.018191</td>\n",
       "    </tr>\n",
       "    <tr>\n",
       "      <th>Food</th>\n",
       "      <td>0.011145</td>\n",
       "      <td>0.016076</td>\n",
       "      <td>0.014356</td>\n",
       "      <td>0.011610</td>\n",
       "      <td>0.015464</td>\n",
       "      <td>0.015009</td>\n",
       "      <td>0.018079</td>\n",
       "      <td>0.015915</td>\n",
       "      <td>0.011982</td>\n",
       "      <td>0.014209</td>\n",
       "      <td>...</td>\n",
       "      <td>0.014147</td>\n",
       "      <td>0.013732</td>\n",
       "      <td>0.014793</td>\n",
       "      <td>0.011685</td>\n",
       "      <td>0.012730</td>\n",
       "      <td>0.014755</td>\n",
       "      <td>0.014876</td>\n",
       "      <td>0.019012</td>\n",
       "      <td>0.014858</td>\n",
       "      <td>0.013420</td>\n",
       "    </tr>\n",
       "    <tr>\n",
       "      <th>Soda</th>\n",
       "      <td>0.012377</td>\n",
       "      <td>0.014356</td>\n",
       "      <td>0.039983</td>\n",
       "      <td>0.016061</td>\n",
       "      <td>0.016404</td>\n",
       "      <td>0.022362</td>\n",
       "      <td>0.029317</td>\n",
       "      <td>0.023343</td>\n",
       "      <td>0.014523</td>\n",
       "      <td>0.022576</td>\n",
       "      <td>...</td>\n",
       "      <td>0.020243</td>\n",
       "      <td>0.018180</td>\n",
       "      <td>0.020829</td>\n",
       "      <td>0.016012</td>\n",
       "      <td>0.018014</td>\n",
       "      <td>0.021361</td>\n",
       "      <td>0.020625</td>\n",
       "      <td>0.034224</td>\n",
       "      <td>0.022366</td>\n",
       "      <td>0.019757</td>\n",
       "    </tr>\n",
       "  </tbody>\n",
       "</table>\n",
       "<p>3 rows × 48 columns</p>\n",
       "</div>"
      ],
      "text/plain": [
       "          Agric      Food      Soda      Beer     Smoke      Toys       Fun  \\\n",
       "Agric  0.050516  0.011145  0.012377  0.010312  0.014338  0.019074  0.028056   \n",
       "Food   0.011145  0.016076  0.014356  0.011610  0.015464  0.015009  0.018079   \n",
       "Soda   0.012377  0.014356  0.039983  0.016061  0.016404  0.022362  0.029317   \n",
       "\n",
       "          Books     Hshld     Clths  ...     Boxes     Trans     Whlsl  \\\n",
       "Agric  0.023772  0.009855  0.017932  ...  0.021933  0.020639  0.020955   \n",
       "Food   0.015915  0.011982  0.014209  ...  0.014147  0.013732  0.014793   \n",
       "Soda   0.023343  0.014523  0.022576  ...  0.020243  0.018180  0.020829   \n",
       "\n",
       "          Rtail     Meals     Banks     Insur     RlEst       Fin     Other  \n",
       "Agric  0.014472  0.016201  0.021444  0.018636  0.028724  0.026549  0.018191  \n",
       "Food   0.011685  0.012730  0.014755  0.014876  0.019012  0.014858  0.013420  \n",
       "Soda   0.016012  0.018014  0.021361  0.020625  0.034224  0.022366  0.019757  \n",
       "\n",
       "[3 rows x 48 columns]"
      ]
     },
     "execution_count": 48,
     "metadata": {},
     "output_type": "execute_result"
    }
   ],
   "source": [
    "# find the covariance monthly matrix ret[\"2002\":].cov() and this is done by simply \".cov() and MPY by 12 to have it annually\n",
    "# this \n",
    "\n",
    "# Remember, the leading diagonal of the covariance matrix is the variance of each industry as shown in the cov matrix\n",
    "# from a mathematical point of view . It also shows you the cov(Food,Beer) = 1.14%\n",
    "cov = ret[\"2002\":].cov()*12\n",
    "cov.head(3)"
   ]
  },
  {
   "cell_type": "code",
   "execution_count": 50,
   "id": "3ca1daf5-8025-4c7e-a5e7-cdb972ee9b1d",
   "metadata": {},
   "outputs": [
    {
     "data": {
      "text/plain": [
       "33.0"
      ]
     },
     "execution_count": 50,
     "metadata": {},
     "output_type": "execute_result"
    }
   ],
   "source": [
    "n_months=ret.shape[0]\n",
    "n_years=n_months/12\n",
    "n_years"
   ]
  },
  {
   "cell_type": "code",
   "execution_count": 52,
   "id": "37701111-1c2f-4db5-a05c-e269257e83bc",
   "metadata": {},
   "outputs": [
    {
     "data": {
      "text/plain": [
       "Agric    0.101274\n",
       "Food     0.097361\n",
       "Soda     0.114240\n",
       "Beer     0.118086\n",
       "Smoke    0.117312\n",
       "Toys     0.043099\n",
       "Fun      0.098056\n",
       "Books    0.058509\n",
       "Hshld    0.099717\n",
       "Clths    0.103400\n",
       "Hlth     0.072206\n",
       "MedEq    0.123888\n",
       "Drugs    0.118194\n",
       "Chems    0.094071\n",
       "Rubbr    0.105969\n",
       "Txtls    0.040980\n",
       "BldMt    0.096750\n",
       "Cnstr    0.094803\n",
       "Steel    0.057287\n",
       "FabPr    0.053236\n",
       "Mach     0.105523\n",
       "ElcEq    0.113967\n",
       "Autos    0.076676\n",
       "Aero     0.119808\n",
       "Ships    0.113677\n",
       "Guns     0.137400\n",
       "Gold     0.003310\n",
       "Mines    0.099702\n",
       "Coal     0.041586\n",
       "Oil      0.095618\n",
       "Util     0.092475\n",
       "Telcm    0.061249\n",
       "PerSv    0.061475\n",
       "BusSv    0.120959\n",
       "Comps    0.101505\n",
       "Chips    0.128939\n",
       "LabEq    0.123943\n",
       "Paper    0.072977\n",
       "Boxes    0.090834\n",
       "Trans    0.092884\n",
       "Whlsl    0.091539\n",
       "Rtail    0.111934\n",
       "Meals    0.111854\n",
       "Banks    0.094906\n",
       "Insur    0.113153\n",
       "RlEst    0.038661\n",
       "Fin      0.118917\n",
       "Other    0.026972\n",
       "dtype: float64"
      ]
     },
     "execution_count": 52,
     "metadata": {},
     "output_type": "execute_result"
    }
   ],
   "source": [
    "annual_mret=(1+ret).prod()**(1/n_years)-1\n",
    "annual_mret"
   ]
  },
  {
   "cell_type": "code",
   "execution_count": 54,
   "id": "0411a70a-65e1-46f8-8f1c-c5206674b3f1",
   "metadata": {},
   "outputs": [
    {
     "data": {
      "text/plain": [
       "<Axes: >"
      ]
     },
     "execution_count": 54,
     "metadata": {},
     "output_type": "execute_result"
    },
    {
     "data": {
      "image/png": "[encoded data removed]",
      "text/plain": [
       "<Figure size 1500x700 with 1 Axes>"
      ]
     },
     "metadata": {},
     "output_type": "display_data"
    }
   ],
   "source": [
    "annual_mret.sort_values().plot.bar(figsize=(15,7))"
   ]
  },
  {
   "cell_type": "code",
   "execution_count": 57,
   "id": "305f260f-25a4-4b97-8998-bde8edba68b6",
   "metadata": {},
   "outputs": [
    {
     "data": {
      "text/plain": [
       "Agric    0.217134\n",
       "Food     0.141829\n",
       "Soda     0.230852\n",
       "Beer     0.164323\n",
       "Smoke    0.229568\n",
       "Toys     0.241284\n",
       "Fun      0.264395\n",
       "Books    0.205026\n",
       "Hshld    0.146771\n",
       "Clths    0.225930\n",
       "Hlth     0.226241\n",
       "MedEq    0.173951\n",
       "Drugs    0.159050\n",
       "Chems    0.200410\n",
       "Rubbr    0.204694\n",
       "Txtls    0.287333\n",
       "BldMt    0.222238\n",
       "Cnstr    0.243438\n",
       "Steel    0.301649\n",
       "FabPr    0.279365\n",
       "Mach     0.232056\n",
       "ElcEq    0.226264\n",
       "Autos    0.304512\n",
       "Aero     0.225164\n",
       "Ships    0.257873\n",
       "Guns     0.209072\n",
       "Gold     0.379665\n",
       "Mines    0.280470\n",
       "Coal     0.432059\n",
       "Oil      0.226850\n",
       "Util     0.140225\n",
       "Telcm    0.177585\n",
       "PerSv    0.204739\n",
       "BusSv    0.218894\n",
       "Comps    0.263538\n",
       "Chips    0.277209\n",
       "LabEq    0.217905\n",
       "Paper    0.177346\n",
       "Boxes    0.202983\n",
       "Trans    0.188825\n",
       "Whlsl    0.168529\n",
       "Rtail    0.177523\n",
       "Meals    0.176306\n",
       "Banks    0.217933\n",
       "Insur    0.183343\n",
       "RlEst    0.260951\n",
       "Fin      0.235946\n",
       "Other    0.215744\n",
       "dtype: float64"
      ]
     },
     "execution_count": 57,
     "metadata": {},
     "output_type": "execute_result"
    }
   ],
   "source": [
    "annual_vol=ret.std() * np.sqrt(12)\n",
    "annual_vol"
   ]
  },
  {
   "cell_type": "code",
   "execution_count": 58,
   "id": "206c6a8e-2ad3-45df-b4a0-864f588673de",
   "metadata": {},
   "outputs": [
    {
     "data": {
      "text/plain": [
       "<Axes: >"
      ]
     },
     "execution_count": 58,
     "metadata": {},
     "output_type": "execute_result"
    },
    {
     "data": {
      "image/png": "[encoded data removed]",
      "text/plain": [
       "<Figure size 1500x700 with 1 Axes>"
      ]
     },
     "metadata": {},
     "output_type": "display_data"
    }
   ],
   "source": [
    "annual_mret.sort_values().plot.bar(figsize=(15,7))"
   ]
  },
  {
   "cell_type": "markdown",
   "id": "a06af450-6b13-4192-a7e2-b176886cf4ce",
   "metadata": {},
   "source": [
    "## Annualizing the return and volatility"
   ]
  },
  {
   "cell_type": "markdown",
   "id": "94c88ba8-59d7-40a3-995d-7c7d040e5005",
   "metadata": {},
   "source": [
    "## 95% VaR for all industries using the modified Cornish-Fisher approach"
   ]
  },
  {
   "cell_type": "code",
   "execution_count": 26,
   "id": "294aea0a-0863-4e1e-a9ac-fbfcb0ee51d4",
   "metadata": {},
   "outputs": [],
   "source": [
    "from scipy.stats import norm"
   ]
  },
  {
   "cell_type": "code",
   "execution_count": 44,
   "id": "614c182c-d4f6-4945-81d1-3407274b4d85",
   "metadata": {},
   "outputs": [
    {
     "data": {
      "text/plain": [
       "-1.6448536269514729"
      ]
     },
     "execution_count": 44,
     "metadata": {},
     "output_type": "execute_result"
    }
   ],
   "source": [
    "z = norm.ppf(0.05)\n",
    "z"
   ]
  },
  {
   "cell_type": "code",
   "execution_count": 30,
   "id": "0853812d-9fd9-4866-ae80-aeaa4558ef94",
   "metadata": {},
   "outputs": [
    {
     "data": {
      "text/plain": [
       "array([-1.59445314, -1.65259842, -1.78042032, -1.68194653, -1.77229819,\n",
       "       -1.69469963, -1.73620556, -1.60140113, -1.67837267, -1.71254114,\n",
       "       -1.73145547, -1.7667755 , -1.69825535, -1.72892546, -1.69755338,\n",
       "       -1.82328352, -1.78240993, -1.750289  , -1.5927086 , -1.75488796,\n",
       "       -1.70326615, -1.65336763, -1.2126521 , -1.62948136, -1.72128602,\n",
       "       -1.49738751, -1.42404173, -1.63628864, -1.6584632 , -1.50177953,\n",
       "       -1.78628147, -1.71490699, -1.78387492, -1.70315901, -1.68116201,\n",
       "       -1.71858682, -1.72150043, -1.7276984 , -1.69914256, -1.73972319,\n",
       "       -1.70642384, -1.56487588, -1.69088377, -1.76003062, -1.64887758,\n",
       "       -1.7457296 , -1.68679642, -1.66149556])"
      ]
     },
     "execution_count": 30,
     "metadata": {},
     "output_type": "execute_result"
    }
   ],
   "source": [
    "z = norm.ppf(0.05)\n",
    "s = scipy.stats.skew(ret[-120:])\n",
    "k = scipy.stats.kurtosis(ret[-120:])\n",
    "z_cf = (z\n",
    "    + (z**2 - 1)*s/6\n",
    "    + (z**3 - 3*z)*k/24\n",
    "    - (2*z**3 - 5*z)*(s**2)/36)\n",
    "z_cf  "
   ]
  },
  {
   "cell_type": "code",
   "execution_count": 32,
   "id": "d420fb34-1028-4156-ab66-0656e25a8b89",
   "metadata": {},
   "outputs": [
    {
     "data": {
      "text/plain": [
       "Agric    0.083181\n",
       "Food     0.056856\n",
       "Soda     0.068016\n",
       "Beer     0.056572\n",
       "Smoke    0.088588\n",
       "Toys     0.127301\n",
       "Fun      0.118660\n",
       "Books    0.100277\n",
       "Hshld    0.057690\n",
       "Clths    0.095557\n",
       "Hlth     0.096713\n",
       "MedEq    0.077321\n",
       "Drugs    0.062548\n",
       "Chems    0.091422\n",
       "Rubbr    0.084701\n",
       "Txtls    0.143451\n",
       "BldMt    0.105843\n",
       "Cnstr    0.113399\n",
       "Steel    0.137397\n",
       "FabPr    0.160813\n",
       "Mach     0.094883\n",
       "ElcEq    0.098222\n",
       "Autos    0.116139\n",
       "Aero     0.103893\n",
       "Ships    0.103662\n",
       "Guns     0.068284\n",
       "Gold     0.148726\n",
       "Mines    0.122490\n",
       "Coal     0.214451\n",
       "Oil      0.121653\n",
       "Util     0.065534\n",
       "Telcm    0.072706\n",
       "PerSv    0.092680\n",
       "BusSv    0.074094\n",
       "Comps    0.080436\n",
       "Chips    0.095284\n",
       "LabEq    0.076875\n",
       "Paper    0.076345\n",
       "Boxes    0.080293\n",
       "Trans    0.093310\n",
       "Whlsl    0.077460\n",
       "Rtail    0.068738\n",
       "Meals    0.072434\n",
       "Banks    0.095378\n",
       "Insur    0.062725\n",
       "RlEst    0.123393\n",
       "Fin      0.086863\n",
       "Other    0.073798\n",
       "dtype: float64"
      ]
     },
     "execution_count": 32,
     "metadata": {},
     "output_type": "execute_result"
    }
   ],
   "source": [
    "VaR_cf = -1 * (ret.mean() + z_cf * ret[-120:].std())\n",
    "VaR_cf"
   ]
  },
  {
   "cell_type": "markdown",
   "id": "8ccccf8c-ee41-438c-a506-38ee4c1567c8",
   "metadata": {},
   "source": [
    "##  Sorting the  95% VaR based on values, and showing the results on a bar plot."
   ]
  },
  {
   "cell_type": "code",
   "execution_count": 34,
   "id": "8a8fb16e-3166-4d00-b2b2-6962686e76d4",
   "metadata": {},
   "outputs": [
    {
     "data": {
      "text/plain": [
       "Beer     0.056572\n",
       "Food     0.056856\n",
       "Hshld    0.057690\n",
       "Drugs    0.062548\n",
       "Insur    0.062725\n",
       "Util     0.065534\n",
       "Soda     0.068016\n",
       "Guns     0.068284\n",
       "Rtail    0.068738\n",
       "Meals    0.072434\n",
       "Telcm    0.072706\n",
       "Other    0.073798\n",
       "BusSv    0.074094\n",
       "Paper    0.076345\n",
       "LabEq    0.076875\n",
       "MedEq    0.077321\n",
       "Whlsl    0.077460\n",
       "Boxes    0.080293\n",
       "Comps    0.080436\n",
       "Agric    0.083181\n",
       "Rubbr    0.084701\n",
       "Fin      0.086863\n",
       "Smoke    0.088588\n",
       "Chems    0.091422\n",
       "PerSv    0.092680\n",
       "Trans    0.093310\n",
       "Mach     0.094883\n",
       "Chips    0.095284\n",
       "Banks    0.095378\n",
       "Clths    0.095557\n",
       "Hlth     0.096713\n",
       "ElcEq    0.098222\n",
       "Books    0.100277\n",
       "Ships    0.103662\n",
       "Aero     0.103893\n",
       "BldMt    0.105843\n",
       "Cnstr    0.113399\n",
       "Autos    0.116139\n",
       "Fun      0.118660\n",
       "Oil      0.121653\n",
       "Mines    0.122490\n",
       "RlEst    0.123393\n",
       "Toys     0.127301\n",
       "Steel    0.137397\n",
       "Txtls    0.143451\n",
       "Gold     0.148726\n",
       "FabPr    0.160813\n",
       "Coal     0.214451\n",
       "dtype: float64"
      ]
     },
     "execution_count": 34,
     "metadata": {},
     "output_type": "execute_result"
    }
   ],
   "source": [
    "VaR_cf = -1 * (ret.mean() + z_cf * ret[-120:].std())\n",
    "VaR_cf.sort_values()"
   ]
  },
  {
   "cell_type": "code",
   "execution_count": 59,
   "id": "9b3b7608-c8a6-4473-b7ce-da77ab9f7530",
   "metadata": {},
   "outputs": [
    {
     "data": {
      "text/plain": [
       "<Axes: >"
      ]
     },
     "execution_count": 59,
     "metadata": {},
     "output_type": "execute_result"
    },
    {
     "data": {
      "image/png": "[encoded data removed]",
      "text/plain": [
       "<Figure size 1000x500 with 1 Axes>"
      ]
     },
     "metadata": {},
     "output_type": "display_data"
    }
   ],
   "source": [
    "VaR_cf = -1 * (ret.mean() + z_cf * ret[-120:].std())\n",
    "VaR_cf.sort_values().plot.bar(figsize=(10,5))"
   ]
  },
  {
   "cell_type": "markdown",
   "id": "ba6177df-f1e6-45b7-a6ee-612e3b9d8482",
   "metadata": {},
   "source": [
    "## Calculate the Sharpe Ratio using annualized return and volatilities (The Annual Risk free rate is assummed to be 3%)"
   ]
  },
  {
   "cell_type": "code",
   "execution_count": 60,
   "id": "10a64a8d-f5cf-46b6-89ac-e7890e5b7300",
   "metadata": {},
   "outputs": [
    {
     "data": {
      "text/plain": [
       "Agric    0.328249\n",
       "Food     0.474946\n",
       "Soda     0.364910\n",
       "Beer     0.536054\n",
       "Smoke    0.380331\n",
       "Toys     0.054289\n",
       "Fun      0.257404\n",
       "Books    0.139050\n",
       "Hshld    0.475003\n",
       "Clths    0.324880\n",
       "Hlth     0.186551\n",
       "MedEq    0.539739\n",
       "Drugs    0.554506\n",
       "Chems    0.319700\n",
       "Rubbr    0.371133\n",
       "Txtls    0.038215\n",
       "BldMt    0.300354\n",
       "Cnstr    0.266201\n",
       "Steel    0.090461\n",
       "FabPr    0.083173\n",
       "Mach     0.325452\n",
       "ElcEq    0.371102\n",
       "Autos    0.153281\n",
       "Aero     0.398856\n",
       "Ships    0.324489\n",
       "Guns     0.513700\n",
       "Gold    -0.070298\n",
       "Mines    0.248520\n",
       "Coal     0.026816\n",
       "Oil      0.289257\n",
       "Util     0.445533\n",
       "Telcm    0.175964\n",
       "PerSv    0.153731\n",
       "BusSv    0.415539\n",
       "Comps    0.271326\n",
       "Chips    0.356910\n",
       "LabEq    0.431120\n",
       "Paper    0.242334\n",
       "Boxes    0.299701\n",
       "Trans    0.333030\n",
       "Whlsl    0.365156\n",
       "Rtail    0.461542\n",
       "Meals    0.464273\n",
       "Banks    0.297825\n",
       "Insur    0.453539\n",
       "RlEst    0.033191\n",
       "Fin      0.376855\n",
       "Other   -0.014034\n",
       "dtype: float64"
      ]
     },
     "execution_count": 60,
     "metadata": {},
     "output_type": "execute_result"
    }
   ],
   "source": [
    "rf=0.03\n",
    "sharpe_ratio=(annual_mret-rf)/annual_vol\n",
    "sharpe_ratio"
   ]
  },
  {
   "cell_type": "code",
   "execution_count": 63,
   "id": "0c7ddf1b-7bce-48ba-bc57-aef2f158db66",
   "metadata": {},
   "outputs": [
    {
     "data": {
      "text/plain": [
       "Gold    -0.070298\n",
       "Other   -0.014034\n",
       "Coal     0.026816\n",
       "RlEst    0.033191\n",
       "Txtls    0.038215\n",
       "Toys     0.054289\n",
       "FabPr    0.083173\n",
       "Steel    0.090461\n",
       "Books    0.139050\n",
       "Autos    0.153281\n",
       "PerSv    0.153731\n",
       "Telcm    0.175964\n",
       "Hlth     0.186551\n",
       "Paper    0.242334\n",
       "Mines    0.248520\n",
       "Fun      0.257404\n",
       "Cnstr    0.266201\n",
       "Comps    0.271326\n",
       "Oil      0.289257\n",
       "Banks    0.297825\n",
       "Boxes    0.299701\n",
       "BldMt    0.300354\n",
       "Chems    0.319700\n",
       "Ships    0.324489\n",
       "Clths    0.324880\n",
       "Mach     0.325452\n",
       "Agric    0.328249\n",
       "Trans    0.333030\n",
       "Chips    0.356910\n",
       "Soda     0.364910\n",
       "Whlsl    0.365156\n",
       "ElcEq    0.371102\n",
       "Rubbr    0.371133\n",
       "Fin      0.376855\n",
       "Smoke    0.380331\n",
       "Aero     0.398856\n",
       "BusSv    0.415539\n",
       "LabEq    0.431120\n",
       "Util     0.445533\n",
       "Insur    0.453539\n",
       "Rtail    0.461542\n",
       "Meals    0.464273\n",
       "Food     0.474946\n",
       "Hshld    0.475003\n",
       "Guns     0.513700\n",
       "Beer     0.536054\n",
       "MedEq    0.539739\n",
       "Drugs    0.554506\n",
       "dtype: float64"
      ]
     },
     "execution_count": 63,
     "metadata": {},
     "output_type": "execute_result"
    }
   ],
   "source": [
    "rf=0.03\n",
    "sharpe_ratio=(annual_mret-rf)/annual_vol\n",
    "sharpe_ratio.sort_values()"
   ]
  },
  {
   "cell_type": "code",
   "execution_count": 65,
   "id": "44fd883c-144c-423a-bf67-59a3d854f91d",
   "metadata": {},
   "outputs": [
    {
     "data": {
      "text/plain": [
       "<Axes: >"
      ]
     },
     "execution_count": 65,
     "metadata": {},
     "output_type": "execute_result"
    },
    {
     "data": {
      "image/png": "[encoded data removed]",
      "text/plain": [
       "<Figure size 1000x500 with 1 Axes>"
      ]
     },
     "metadata": {},
     "output_type": "display_data"
    }
   ],
   "source": [
    "rf=0.03\n",
    "sharpe_ratio=(annual_mret-rf)/annual_vol\n",
    "sharpe_ratio.sort_values().plot.bar(figsize=(10,5))"
   ]
  },
  {
   "attachments": {},
   "cell_type": "markdown",
   "id": "eb1c6e62-43e9-4d5d-b856-d59ff4fe8b01",
   "metadata": {},
   "source": [
    "\n",
    "## There is a negative relationship between the 95% VaR values and the sharpe ratio values of the industries."
   ]
  },
  {
   "cell_type": "code",
   "execution_count": 112,
   "id": "500788d4-1682-4a99-ba2a-f44f8fc48496",
   "metadata": {},
   "outputs": [
    {
     "name": "stdout",
     "output_type": "stream",
     "text": [
      "CVaR_cf =  2.062712807818914\n"
     ]
    }
   ],
   "source": [
    "portfolio_losses = pd.Series(scipy.stats.norm.rvs(size=1000))\n",
    "VaR_cf = scipy.stats.norm.ppf(0.95)\n",
    "CVaR_cf = (1/(1-0.95))*scipy.stats.norm.expect(lambda x: x, lb=VaR_cf)\n",
    "print(\"CVaR_cf = \", CVaR_cf)"
   ]
  },
  {
   "attachments": {},
   "cell_type": "markdown",
   "id": "7f7b4cda-d98e-4622-84ee-f67e4f3f5f6e",
   "metadata": {},
   "source": [
    "### Part B. Efficient Frontier Analysis\n",
    "Use the same file that you used in the previous problem, that is the Fama-French 48 Industry Portfolios, monthly value-weighted returns, since January 1990. \n",
    "i.\tPick your favorite two industries and plot the two-asset efficient frontier using annual returns and volatilities. To do so, create portfolios of the two assets with weights in the increments of 0.10, for example (0, 1), (0.1, 0.9), (0.2, 0.8), ... . \n",
    "ii.\tAmong these portfolios, characterize the minimum-variance portfolio. That is, determine the asset weights, portfolio return, and portfolio volatility."
   ]
  },
  {
   "cell_type": "code",
   "execution_count": 67,
   "id": "0b5f4b5e-7cab-4760-9e2e-5d7399e77736",
   "metadata": {},
   "outputs": [],
   "source": [
    "def portfolio_ret(weights, returns):\n",
    "    \"\"\"\n",
    "    weights + returns --> portfolio return\n",
    "    \"\"\"\n",
    "    return weights.T@returns"
   ]
  },
  {
   "cell_type": "code",
   "execution_count": 69,
   "id": "5dcd541e-aefd-4d91-88a3-0df3738643b7",
   "metadata": {},
   "outputs": [],
   "source": [
    "def portfolio_vol(weights, covmat):\n",
    "    \"\"\"\n",
    "    weights + covmat --> portfolio volatility\n",
    "    \"\"\"\n",
    "    return (weights.T@covmat@weights) ** 0.5"
   ]
  },
  {
   "cell_type": "code",
   "execution_count": 96,
   "id": "7e2c99d7-ed6f-4733-b617-73b021fdd233",
   "metadata": {},
   "outputs": [
    {
     "data": {
      "text/plain": [
       "Hlth     0.072206\n",
       "Drugs    0.118194\n",
       "dtype: float64"
      ]
     },
     "execution_count": 96,
     "metadata": {},
     "output_type": "execute_result"
    }
   ],
   "source": [
    "l = [\"Hlth\", \"Drugs\",]\n",
    "annual_mret[l]"
   ]
  },
  {
   "cell_type": "code",
   "execution_count": 98,
   "id": "c0963ecc-fd4d-4937-8478-622433e39886",
   "metadata": {},
   "outputs": [
    {
     "data": {
      "text/plain": [
       "(48, 48)"
      ]
     },
     "execution_count": 98,
     "metadata": {},
     "output_type": "execute_result"
    }
   ],
   "source": [
    "cov = ret[\"2002\":].cov()*12\n",
    "cov.shape"
   ]
  },
  {
   "cell_type": "code",
   "execution_count": 99,
   "id": "eaaec12a-b63c-40ed-8740-83c29d5c3994",
   "metadata": {},
   "outputs": [
    {
     "data": {
      "text/html": [
       "<div>\n",
       "<style scoped>\n",
       "    .dataframe tbody tr th:only-of-type {\n",
       "        vertical-align: middle;\n",
       "    }\n",
       "\n",
       "    .dataframe tbody tr th {\n",
       "        vertical-align: top;\n",
       "    }\n",
       "\n",
       "    .dataframe thead th {\n",
       "        text-align: right;\n",
       "    }\n",
       "</style>\n",
       "<table border=\"1\" class=\"dataframe\">\n",
       "  <thead>\n",
       "    <tr style=\"text-align: right;\">\n",
       "      <th></th>\n",
       "      <th>Hlth</th>\n",
       "      <th>Drugs</th>\n",
       "    </tr>\n",
       "  </thead>\n",
       "  <tbody>\n",
       "    <tr>\n",
       "      <th>Hlth</th>\n",
       "      <td>0.042216</td>\n",
       "      <td>0.014756</td>\n",
       "    </tr>\n",
       "    <tr>\n",
       "      <th>Drugs</th>\n",
       "      <td>0.014756</td>\n",
       "      <td>0.020504</td>\n",
       "    </tr>\n",
       "  </tbody>\n",
       "</table>\n",
       "</div>"
      ],
      "text/plain": [
       "           Hlth     Drugs\n",
       "Hlth   0.042216  0.014756\n",
       "Drugs  0.014756  0.020504"
      ]
     },
     "execution_count": 99,
     "metadata": {},
     "output_type": "execute_result"
    }
   ],
   "source": [
    "cov.loc[l,l]"
   ]
  },
  {
   "cell_type": "code",
   "execution_count": 100,
   "id": "306272cd-7d8a-428f-b4fb-f6f6b67ec1b2",
   "metadata": {},
   "outputs": [
    {
     "data": {
      "text/plain": [
       "array([0.1, 0.9])"
      ]
     },
     "execution_count": 100,
     "metadata": {},
     "output_type": "execute_result"
    }
   ],
   "source": [
    "w = np.array([.10, .90])\n",
    "w"
   ]
  },
  {
   "cell_type": "code",
   "execution_count": 101,
   "id": "1e08f0a6-0b28-4abe-9a99-f4f5bfc85590",
   "metadata": {},
   "outputs": [
    {
     "data": {
      "text/plain": [
       "[array([0., 1.]),\n",
       " array([0.1, 0.9]),\n",
       " array([0.2, 0.8]),\n",
       " array([0.3, 0.7]),\n",
       " array([0.4, 0.6]),\n",
       " array([0.5, 0.5]),\n",
       " array([0.6, 0.4]),\n",
       " array([0.7, 0.3]),\n",
       " array([0.8, 0.2]),\n",
       " array([0.9, 0.1]),\n",
       " array([1., 0.])]"
      ]
     },
     "execution_count": 101,
     "metadata": {},
     "output_type": "execute_result"
    }
   ],
   "source": [
    "n_points = 11\n",
    "weights = [np.array([w, 1-w]) for w in np.linspace(0,1,n_points) ]\n",
    "weights"
   ]
  },
  {
   "cell_type": "code",
   "execution_count": 102,
   "id": "e9b278b5-867f-4670-a9bc-44a2326d7b7c",
   "metadata": {},
   "outputs": [
    {
     "data": {
      "text/html": [
       "<div>\n",
       "<style scoped>\n",
       "    .dataframe tbody tr th:only-of-type {\n",
       "        vertical-align: middle;\n",
       "    }\n",
       "\n",
       "    .dataframe tbody tr th {\n",
       "        vertical-align: top;\n",
       "    }\n",
       "\n",
       "    .dataframe thead th {\n",
       "        text-align: right;\n",
       "    }\n",
       "</style>\n",
       "<table border=\"1\" class=\"dataframe\">\n",
       "  <thead>\n",
       "    <tr style=\"text-align: right;\">\n",
       "      <th></th>\n",
       "      <th>Returns</th>\n",
       "      <th>Risk</th>\n",
       "    </tr>\n",
       "  </thead>\n",
       "  <tbody>\n",
       "    <tr>\n",
       "      <th>0</th>\n",
       "      <td>0.118194</td>\n",
       "      <td>0.143192</td>\n",
       "    </tr>\n",
       "    <tr>\n",
       "      <th>1</th>\n",
       "      <td>0.113595</td>\n",
       "      <td>0.140308</td>\n",
       "    </tr>\n",
       "    <tr>\n",
       "      <th>2</th>\n",
       "      <td>0.108996</td>\n",
       "      <td>0.139761</td>\n",
       "    </tr>\n",
       "    <tr>\n",
       "      <th>3</th>\n",
       "      <td>0.104398</td>\n",
       "      <td>0.141577</td>\n",
       "    </tr>\n",
       "    <tr>\n",
       "      <th>4</th>\n",
       "      <td>0.099799</td>\n",
       "      <td>0.145668</td>\n",
       "    </tr>\n",
       "  </tbody>\n",
       "</table>\n",
       "</div>"
      ],
      "text/plain": [
       "    Returns      Risk\n",
       "0  0.118194  0.143192\n",
       "1  0.113595  0.140308\n",
       "2  0.108996  0.139761\n",
       "3  0.104398  0.141577\n",
       "4  0.099799  0.145668"
      ]
     },
     "execution_count": 102,
     "metadata": {},
     "output_type": "execute_result"
    }
   ],
   "source": [
    "l=[\"Hlth\", \"Drugs\"]\n",
    "returns=[portfolio_ret(w, annual_mret[l]) for w in weights]\n",
    "vols=[portfolio_vol(w, cov.loc[l,l]) for w in weights]\n",
    "ef = pd.DataFrame({\"Returns\": returns, \"Risk\": vols})\n",
    "ef.head()"
   ]
  },
  {
   "cell_type": "code",
   "execution_count": 103,
   "id": "f96619e8-2761-4976-9d6d-c2cf9b9ca322",
   "metadata": {},
   "outputs": [
    {
     "data": {
      "text/plain": [
       "<Axes: xlabel='Risk'>"
      ]
     },
     "execution_count": 103,
     "metadata": {},
     "output_type": "execute_result"
    },
    {
     "data": {
      "image/png": "[encoded data removed]",
      "text/plain": [
       "<Figure size 640x480 with 1 Axes>"
      ]
     },
     "metadata": {},
     "output_type": "display_data"
    }
   ],
   "source": [
    "ef.plot.line(x=\"Risk\", y=\"Returns\", style=\".-\")"
   ]
  },
  {
   "cell_type": "code",
   "execution_count": 105,
   "id": "b705d7b2-539d-466e-80f8-461ddb15a7a0",
   "metadata": {},
   "outputs": [
    {
     "data": {
      "text/plain": [
       "0.11359520988397016"
      ]
     },
     "execution_count": 105,
     "metadata": {},
     "output_type": "execute_result"
    }
   ],
   "source": [
    "portfolio_ret(w,annual_mret[l])"
   ]
  },
  {
   "cell_type": "code",
   "execution_count": 106,
   "id": "d916db27-10c5-4c03-9def-b97c899f3dd7",
   "metadata": {},
   "outputs": [
    {
     "data": {
      "text/plain": [
       "0.14030846712678202"
      ]
     },
     "execution_count": 106,
     "metadata": {},
     "output_type": "execute_result"
    }
   ],
   "source": [
    "portfolio_vol(w, cov.loc[l,l])"
   ]
  }
 ],
 "metadata": {
  "kernelspec": {
   "display_name": "Python 3",
   "language": "python",
   "name": "python3"
  },
  "language_info": {
   "codemirror_mode": {
    "name": "ipython",
    "version": 3
   },
   "file_extension": ".py",
   "mimetype": "text/x-python",
   "name": "python",
   "nbconvert_exporter": "python",
   "pygments_lexer": "ipython3",
   "version": "3.11.2"
  },
  "vscode": {
   "interpreter": {
    "hash": "aee8b7b246df8f9039afb4144a1f6fd8d2ca17a180786b69acc140d282b71a49"
   }
  }
 },
 "nbformat": 4,
 "nbformat_minor": 5
}
