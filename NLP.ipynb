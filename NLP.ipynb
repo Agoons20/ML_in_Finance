{
 "cells": [
  {
   "attachments": {},
   "cell_type": "markdown",
   "metadata": {},
   "source": [
    "# Textual Analysis"
   ]
  },
  {
   "cell_type": "code",
   "execution_count": 1,
   "metadata": {},
   "outputs": [],
   "source": [
    "# Basic packages:\n",
    "\n",
    "import pandas as pd\n",
    "import numpy as np\n",
    "import matplotlib.pyplot as plt\n",
    "import seaborn as sns"
   ]
  },
  {
   "cell_type": "code",
   "execution_count": 2,
   "metadata": {},
   "outputs": [],
   "source": [
    "# ML and NLP packages\n",
    "\n",
    "from sklearn.model_selection import train_test_split\n",
    "from sklearn.metrics import classification_report, accuracy_score, ConfusionMatrixDisplay\n",
    "\n",
    "import nltk\n",
    "import string\n",
    "from nltk.corpus import stopwords\n",
    "from nltk.stem.porter import PorterStemmer\n",
    "\n",
    "from sklearn.feature_extraction.text import CountVectorizer, TfidfVectorizer\n",
    "from sklearn.naive_bayes import MultinomialNB"
   ]
  },
  {
   "cell_type": "markdown",
   "metadata": {},
   "source": [
    "## Importing Data\n",
    "\n",
    "The data provide news headlines for DOW JONES 30 stocks, totaling 9,470 headlines. The data is labeled: the sentiment feature takes the value of 0 or 1 based on the sentiment of the news headline for the company."
   ]
  },
  {
   "cell_type": "code",
   "execution_count": 3,
   "metadata": {},
   "outputs": [
    {
     "data": {
      "text/html": [
       "<div>\n",
       "<style scoped>\n",
       "    .dataframe tbody tr th:only-of-type {\n",
       "        vertical-align: middle;\n",
       "    }\n",
       "\n",
       "    .dataframe tbody tr th {\n",
       "        vertical-align: top;\n",
       "    }\n",
       "\n",
       "    .dataframe thead th {\n",
       "        text-align: right;\n",
       "    }\n",
       "</style>\n",
       "<table border=\"1\" class=\"dataframe\">\n",
       "  <thead>\n",
       "    <tr style=\"text-align: right;\">\n",
       "      <th></th>\n",
       "      <th>datetime</th>\n",
       "      <th>headline</th>\n",
       "      <th>ticker</th>\n",
       "      <th>sentiment</th>\n",
       "    </tr>\n",
       "  </thead>\n",
       "  <tbody>\n",
       "    <tr>\n",
       "      <th>330</th>\n",
       "      <td>12/23/18 23:47</td>\n",
       "      <td>Jefferies Financial Group Lowers 3M Q3 2019 Ea...</td>\n",
       "      <td>MMM</td>\n",
       "      <td>1</td>\n",
       "    </tr>\n",
       "    <tr>\n",
       "      <th>4977</th>\n",
       "      <td>12/16/19 12:18</td>\n",
       "      <td>Market in rally mode again today. All-time hig...</td>\n",
       "      <td>JPM</td>\n",
       "      <td>1</td>\n",
       "    </tr>\n",
       "    <tr>\n",
       "      <th>662</th>\n",
       "      <td>12/19/18 8:50</td>\n",
       "      <td>American Express $AXP Downgraded to Neutral at...</td>\n",
       "      <td>AXP</td>\n",
       "      <td>0</td>\n",
       "    </tr>\n",
       "    <tr>\n",
       "      <th>7766</th>\n",
       "      <td>1/13/19 4:53</td>\n",
       "      <td>As United Technologies Corp (UTX) Stock Declin...</td>\n",
       "      <td>UTX</td>\n",
       "      <td>0</td>\n",
       "    </tr>\n",
       "    <tr>\n",
       "      <th>3171</th>\n",
       "      <td>9/30/19 9:21</td>\n",
       "      <td>$XOM Finished the rally higher the next day th...</td>\n",
       "      <td>XOM</td>\n",
       "      <td>1</td>\n",
       "    </tr>\n",
       "  </tbody>\n",
       "</table>\n",
       "</div>"
      ],
      "text/plain": [
       "            datetime                                           headline  \\\n",
       "330   12/23/18 23:47  Jefferies Financial Group Lowers 3M Q3 2019 Ea...   \n",
       "4977  12/16/19 12:18  Market in rally mode again today. All-time hig...   \n",
       "662    12/19/18 8:50  American Express $AXP Downgraded to Neutral at...   \n",
       "7766    1/13/19 4:53  As United Technologies Corp (UTX) Stock Declin...   \n",
       "3171    9/30/19 9:21  $XOM Finished the rally higher the next day th...   \n",
       "\n",
       "     ticker  sentiment  \n",
       "330     MMM          1  \n",
       "4977    JPM          1  \n",
       "662     AXP          0  \n",
       "7766    UTX          0  \n",
       "3171    XOM          1  "
      ]
     },
     "execution_count": 3,
     "metadata": {},
     "output_type": "execute_result"
    }
   ],
   "source": [
    "df=pd.read_csv('data/data13_LabeledNewsData.csv', encoding=\"ISO-8859-1\")\n",
    "df.sample(5)\n",
    "#df.shape"
   ]
  },
  {
   "cell_type": "markdown",
   "metadata": {},
   "source": [
    "## Splitting the Sample into Training and Test Samples"
   ]
  },
  {
   "cell_type": "code",
   "execution_count": 4,
   "metadata": {},
   "outputs": [
    {
     "data": {
      "text/plain": [
       "5679    .@JimCramer: If a high-quality stock is down e...\n",
       "4190    $IBM to report its Q4 earnings in a.h. As of Q...\n",
       "2987    Both $SPX and $DOW need to remain above yester...\n",
       "Name: headline, dtype: object"
      ]
     },
     "execution_count": 4,
     "metadata": {},
     "output_type": "execute_result"
    }
   ],
   "source": [
    "# Create training and test samples based on the text:\n",
    "\n",
    "y = df['sentiment']\n",
    "text = df['headline']\n",
    "text_train, text_test, y_train, y_test = train_test_split(text, y, test_size=0.25, random_state=666)\n",
    "text_test.sample(3)"
   ]
  },
  {
   "cell_type": "markdown",
   "metadata": {},
   "source": [
    "## Feature representation with Bag of Words"
   ]
  },
  {
   "cell_type": "code",
   "execution_count": 7,
   "metadata": {},
   "outputs": [],
   "source": [
    "# Define the vectorizer\n",
    "bw = CountVectorizer(lowercase=True, stop_words='english') \n",
    "#'preprocessor' and 'tokenizer' options allow you to write external functions and use it here\n",
    "\n",
    "# Build a vocabulary from our training texts\n",
    "bw.fit(text_train)\n",
    "\n",
    "#transform training texts to a Document Term Matrix (DTM)\n",
    "dtm_train = bw.transform(text_train)\n",
    "\n",
    "#transform testing texts to a DTM\n",
    "dtm_test = bw.transform(text_test)\n",
    "\n",
    "# dtm_test\n",
    "# print(dtm_test[0])"
   ]
  },
  {
   "cell_type": "markdown",
   "metadata": {},
   "source": [
    "## Prediction with a Naive Bayes Model"
   ]
  },
  {
   "cell_type": "code",
   "execution_count": 9,
   "metadata": {},
   "outputs": [
    {
     "name": "stdout",
     "output_type": "stream",
     "text": [
      "NB Accuracy Score = 91.26%\n",
      "NB Classification Report:\n",
      "              precision    recall  f1-score   support\n",
      "\n",
      "           0       0.92      0.86      0.89       981\n",
      "           1       0.91      0.95      0.93      1387\n",
      "\n",
      "    accuracy                           0.91      2368\n",
      "   macro avg       0.91      0.91      0.91      2368\n",
      "weighted avg       0.91      0.91      0.91      2368\n",
      "\n"
     ]
    },
    {
     "data": {
      "text/plain": [
       "<sklearn.metrics._plot.confusion_matrix.ConfusionMatrixDisplay at 0x7faac260cca0>"
      ]
     },
     "execution_count": 9,
     "metadata": {},
     "output_type": "execute_result"
    },
    {
     "data": {
      "image/png": "[encoded data removed]",
      "text/plain": [
       "<Figure size 640x480 with 2 Axes>"
      ]
     },
     "metadata": {},
     "output_type": "display_data"
    }
   ],
   "source": [
    "# Fit model, predict, and display results\n",
    "\n",
    "nb = MultinomialNB()\n",
    "nb.fit(dtm_train, y_train)\n",
    "y_pred = nb.predict(dtm_test)\n",
    "\n",
    "print(f'NB Accuracy Score = {accuracy_score(y_test, y_pred):.2%}')\n",
    "\n",
    "print('NB Classification Report:')\n",
    "print(classification_report(y_test, y_pred))\n",
    "\n",
    "ConfusionMatrixDisplay.from_estimator(nb, dtm_test, y_test)"
   ]
  },
  {
   "cell_type": "markdown",
   "metadata": {},
   "source": [
    "## Feature representation with TF-IDF"
   ]
  },
  {
   "cell_type": "code",
   "execution_count": 10,
   "metadata": {},
   "outputs": [],
   "source": [
    "# Create the document term matrices for the training and test samples:\n",
    "\n",
    "tfidf = TfidfVectorizer(lowercase=True, stop_words='english') \n",
    "#'preprocessor' and 'tokenizer' options allow you to write external functions and use it here\n",
    "\n",
    "# use the model to create a document term matrix\n",
    "# Fit creates the vocabulary. Transform populates the DTM for training data. We can do both in one step:\n",
    "dtm_train = tfidf.fit_transform(text_train)\n",
    "\n",
    "#transform testing texts to a DTM\n",
    "dtm_test = tfidf.transform(text_test)\n",
    "\n",
    "# dtm_test\n",
    "# print(dtm_test[0])"
   ]
  },
  {
   "cell_type": "markdown",
   "metadata": {},
   "source": [
    "## Prediction with a Naive Bayes Model"
   ]
  },
  {
   "cell_type": "code",
   "execution_count": 11,
   "metadata": {},
   "outputs": [
    {
     "name": "stdout",
     "output_type": "stream",
     "text": [
      "NB Accuracy Score = 88.81%\n",
      "NB Classification Report:\n",
      "              precision    recall  f1-score   support\n",
      "\n",
      "           0       0.95      0.77      0.85       981\n",
      "           1       0.86      0.97      0.91      1387\n",
      "\n",
      "    accuracy                           0.89      2368\n",
      "   macro avg       0.90      0.87      0.88      2368\n",
      "weighted avg       0.90      0.89      0.89      2368\n",
      "\n"
     ]
    },
    {
     "data": {
      "text/plain": [
       "<sklearn.metrics._plot.confusion_matrix.ConfusionMatrixDisplay at 0x7faac14b6760>"
      ]
     },
     "execution_count": 11,
     "metadata": {},
     "output_type": "execute_result"
    },
    {
     "data": {
      "image/png": "[encoded data removed]",
      "text/plain": [
       "<Figure size 640x480 with 2 Axes>"
      ]
     },
     "metadata": {},
     "output_type": "display_data"
    }
   ],
   "source": [
    "# Fit model, predict, and display results\n",
    "\n",
    "nb = MultinomialNB()\n",
    "nb.fit(dtm_train, y_train)\n",
    "y_pred = nb.predict(dtm_test)\n",
    "\n",
    "print(f'NB Accuracy Score = {accuracy_score(y_test, y_pred):.2%}')\n",
    "\n",
    "print('NB Classification Report:')\n",
    "print(classification_report(y_test, y_pred))\n",
    "\n",
    "ConfusionMatrixDisplay.from_estimator(nb, dtm_test, y_test)"
   ]
  },
  {
   "cell_type": "markdown",
   "metadata": {},
   "source": [
    "## Using N-Grams\n",
    "\n",
    "Here I've included n-grams and stemming (below) for learning purposes. Becaues our sample data here are the news headlines (not the text) you will see that these preprocessing steps do not necessarily make big improvements to the classification results. However, when we are dealing with long-format text (e.g., body of the news articles) these steps are typically very useful."
   ]
  },
  {
   "cell_type": "code",
   "execution_count": 12,
   "metadata": {},
   "outputs": [],
   "source": [
    "tfidf = TfidfVectorizer(lowercase=True, stop_words='english', ngram_range=(1, 3))\n",
    "dtm_train = tfidf.fit_transform(text_train)\n",
    "dtm_test = tfidf.transform(text_test)\n",
    "\n",
    "# dtm_test\n",
    "# print(dtm_test[0])"
   ]
  },
  {
   "cell_type": "code",
   "execution_count": 13,
   "metadata": {},
   "outputs": [
    {
     "name": "stdout",
     "output_type": "stream",
     "text": [
      "NB Accuracy Score = 88.34%\n",
      "NB Classification Report:\n",
      "              precision    recall  f1-score   support\n",
      "\n",
      "           0       0.96      0.75      0.84       981\n",
      "           1       0.85      0.98      0.91      1387\n",
      "\n",
      "    accuracy                           0.88      2368\n",
      "   macro avg       0.90      0.86      0.87      2368\n",
      "weighted avg       0.89      0.88      0.88      2368\n",
      "\n"
     ]
    },
    {
     "data": {
      "text/plain": [
       "<sklearn.metrics._plot.confusion_matrix.ConfusionMatrixDisplay at 0x7faae24cc730>"
      ]
     },
     "execution_count": 13,
     "metadata": {},
     "output_type": "execute_result"
    },
    {
     "data": {
      "image/png": "[encoded data removed]",
      "text/plain": [
       "<Figure size 640x480 with 2 Axes>"
      ]
     },
     "metadata": {},
     "output_type": "display_data"
    }
   ],
   "source": [
    "# Fit model, predict, and display results\n",
    "\n",
    "nb = MultinomialNB()\n",
    "nb.fit(dtm_train, y_train)\n",
    "y_pred = nb.predict(dtm_test)\n",
    "\n",
    "print(f'NB Accuracy Score = {accuracy_score(y_test, y_pred):.2%}')\n",
    "\n",
    "print('NB Classification Report:')\n",
    "print(classification_report(y_test, y_pred))\n",
    "\n",
    "ConfusionMatrixDisplay.from_estimator(nb, dtm_test, y_test)"
   ]
  },
  {
   "cell_type": "markdown",
   "metadata": {},
   "source": [
    "## Stemming\n",
    "\n",
    "We want to apply stemming in text classification. We will use `PorterStemmer` in the `nltk` module for stemming.\n",
    "\n",
    "We first define a function `tokenize`. The function has one argument `text` which is the text to be tokenized. The function uses `nltk.word_tokenize` function to tokenize `text` then apply `PorterStemmer` to stem the tokens. We then  set the `tokenizer` argument in `CounterVectorizer` or `TfidfVectorizer` with this custom `tokenize` function and use the vectorized features for prediciton.\n",
    "\n",
    "The following code takes longer to finish due to stemming, but it does give a better classification accuracy."
   ]
  },
  {
   "cell_type": "code",
   "execution_count": 14,
   "metadata": {},
   "outputs": [],
   "source": [
    "# Define function to tokenize text and apply stemmer\n",
    "def tokenize(text):\n",
    "    tokens = nltk.word_tokenize(text)\n",
    "    tokens = [tkn for tkn in tokens if tkn not in string.punctuation]\n",
    "\n",
    "    stems = map(PorterStemmer().stem, tokens)\n",
    "    return stems\n",
    "\n",
    "# Note: string.punctuation will give the all sets of punctuation (output=!\"#$%&'()*+, -./:;<=>?@[\\]^_`{|}~)"
   ]
  },
  {
   "cell_type": "code",
   "execution_count": 17,
   "metadata": {},
   "outputs": [
    {
     "name": "stderr",
     "output_type": "stream",
     "text": [
      "[nltk_data] Downloading package punkt to /Users/asanati/nltk_data...\n",
      "[nltk_data]   Package punkt is already up-to-date!\n"
     ]
    },
    {
     "data": {
      "text/plain": [
       "True"
      ]
     },
     "execution_count": 17,
     "metadata": {},
     "output_type": "execute_result"
    }
   ],
   "source": [
    "# Punkt Sentence Tokenizer: This tokenizer divides a text into a list of sentences. This is needed for word_tokenize().\n",
    "nltk.download('punkt')"
   ]
  },
  {
   "cell_type": "code",
   "execution_count": 18,
   "metadata": {},
   "outputs": [
    {
     "name": "stderr",
     "output_type": "stream",
     "text": [
      "/opt/anaconda3/lib/python3.9/site-packages/sklearn/feature_extraction/text.py:396: UserWarning: Your stop_words may be inconsistent with your preprocessing. Tokenizing the stop words generated tokens ['abov', 'afterward', 'alon', 'alreadi', 'alway', 'ani', 'anoth', 'anyon', 'anyth', 'anywher', 'becam', 'becaus', 'becom', 'befor', 'besid', 'cri', 'describ', 'dure', 'els', 'elsewher', 'empti', 'everi', 'everyon', 'everyth', 'everywher', 'fifti', 'formerli', 'forti', 'ha', 'henc', 'hereaft', 'herebi', 'hi', 'howev', 'hundr', 'inde', 'latterli', 'mani', 'meanwhil', 'moreov', 'mostli', 'nobodi', 'noon', 'noth', 'nowher', 'onc', 'onli', 'otherwis', 'ourselv', 'perhap', 'pleas', 'seriou', 'sever', 'sinc', 'sincer', 'sixti', 'someon', 'someth', 'sometim', 'somewher', 'themselv', 'thenc', 'thereaft', 'therebi', 'therefor', 'thi', 'thu', 'togeth', 'twelv', 'twenti', 'veri', 'wa', 'whatev', 'whenc', 'whenev', 'wherea', 'whereaft', 'wherebi', 'wherev', 'whi', 'yourselv'] not in stop_words.\n",
      "  warnings.warn(\n"
     ]
    }
   ],
   "source": [
    "tfidf = TfidfVectorizer(lowercase=True, stop_words='english', ngram_range=(1, 3), tokenizer=tokenize)\n",
    "dtm_train = tfidf.fit_transform(text_train)\n",
    "dtm_test = tfidf.transform(text_test)\n",
    "\n",
    "# dtm_test\n",
    "# print(dtm_test[0])"
   ]
  },
  {
   "cell_type": "code",
   "execution_count": 19,
   "metadata": {},
   "outputs": [
    {
     "name": "stdout",
     "output_type": "stream",
     "text": [
      "NB Accuracy Score = 88.18%\n",
      "NB Classification Report:\n",
      "              precision    recall  f1-score   support\n",
      "\n",
      "           0       0.96      0.75      0.84       981\n",
      "           1       0.85      0.98      0.91      1387\n",
      "\n",
      "    accuracy                           0.88      2368\n",
      "   macro avg       0.90      0.86      0.87      2368\n",
      "weighted avg       0.89      0.88      0.88      2368\n",
      "\n"
     ]
    },
    {
     "data": {
      "text/plain": [
       "<sklearn.metrics._plot.confusion_matrix.ConfusionMatrixDisplay at 0x7faa90abac70>"
      ]
     },
     "execution_count": 19,
     "metadata": {},
     "output_type": "execute_result"
    },
    {
     "data": {
      "image/png": "[encoded data removed]",
      "text/plain": [
       "<Figure size 640x480 with 2 Axes>"
      ]
     },
     "metadata": {},
     "output_type": "display_data"
    }
   ],
   "source": [
    "# Fit model, predict, and display results\n",
    "\n",
    "nb = MultinomialNB()\n",
    "nb.fit(dtm_train, y_train)\n",
    "y_pred = nb.predict(dtm_test)\n",
    "\n",
    "print(f'NB Accuracy Score = {accuracy_score(y_test, y_pred):.2%}')\n",
    "\n",
    "print('NB Classification Report:')\n",
    "print(classification_report(y_test, y_pred))\n",
    "\n",
    "ConfusionMatrixDisplay.from_estimator(nb, dtm_test, y_test)"
   ]
  }
 ],
 "metadata": {
  "kernelspec": {
   "display_name": "Python 3 (ipykernel)",
   "language": "python",
   "name": "python3"
  },
  "language_info": {
   "codemirror_mode": {
    "name": "ipython",
    "version": 3
   },
   "file_extension": ".py",
   "mimetype": "text/x-python",
   "name": "python",
   "nbconvert_exporter": "python",
   "pygments_lexer": "ipython3",
   "version": "3.9.13"
  }
 },
 "nbformat": 4,
 "nbformat_minor": 4
}
