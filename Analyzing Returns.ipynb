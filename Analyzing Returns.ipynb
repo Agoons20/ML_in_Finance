{
 "cells": [
  {
   "attachments": {},
   "cell_type": "markdown",
   "id": "aa7373cc",
   "metadata": {},
   "source": [
    "Analyzing Profitability-sorted Portfolios of Returns\n",
    "\n",
    "This project is aimed at analyzing portfolios that are sorted based on firms’ profitability. First, we need to get portfolio returns data from Prof. Kenneth French’s data library: \n",
    "•\tVisit his webpage at: https://mba.tuck.dartmouth.edu/pages/faculty/ken.french/data_library.html\n",
    "\n",
    "Search for the term “Portfolios Formed on Operating Profitability” and download the CSV file. \n",
    "The CSV file provides returns for portfolios that are formed with different methods. Look for the set of monthly returns for equal weighted portfolios (these data start at around line 730) and copy these returns into a separate CSV file. \n",
    "\n",
    "a)  Calculate Sharpe ratio for low- (Decile 1 or ‘Lo 10’), medium- (Decile 5), and high-profitability (Decile 10 or ‘Hi 10’) portfolios and compare them. Can you explain the differences and any potential patterns that may emerge? \n",
    "\n",
    "b)  Compute semi-deviation for low-, medium-, and high-profitability portfolios. If you compare semi-deviations with std. deviations of these portfolios, what can be said about riskiness of these portfolios? \n",
    "\n",
    "c)  Compute and plot drawdown for low-, medium-, and high-profitability portfolios. Also, determine the date and the value of the maximum drawdown of these portfolios. What does this comparison suggest about the downside risk of these portfolios? \n"
   ]
  },
  {
   "cell_type": "code",
   "execution_count": 1,
   "id": "722e8237-5cb5-4971-a7be-9992571592f3",
   "metadata": {},
   "outputs": [],
   "source": [
    "# Import libraries for data manipulation\n",
    "# these two lines of code usually help to get the code running again. its called a magic function.\n",
    "# use this when your code downloads external packages\n",
    "%load_ext autoreload\n",
    "%autoreload 2\n",
    "\n",
    "import numpy as np\n",
    "import pandas as pd\n",
    "import scipy.stats"
   ]
  },
  {
   "cell_type": "code",
   "execution_count": 2,
   "id": "8ca07111-05b9-4416-8ea7-f893b1e639de",
   "metadata": {},
   "outputs": [
    {
     "data": {
      "text/plain": [
       "array([[ 0.03381385],\n",
       "       [ 0.05556121],\n",
       "       [ 0.0177915 ],\n",
       "       ...,\n",
       "       [-0.03568233],\n",
       "       [-0.03389065],\n",
       "       [-0.02994873]])"
      ]
     },
     "execution_count": 2,
     "metadata": {},
     "output_type": "execute_result"
    }
   ],
   "source": [
    "returns_norm = np.random.normal(0.01, 0.04, (10000,1))\n",
    "returns_norm"
   ]
  },
  {
   "cell_type": "code",
   "execution_count": 3,
   "id": "56e30876-9d58-4d77-b74b-f4a931bfe138",
   "metadata": {},
   "outputs": [
    {
     "data": {
      "text/plain": [
       "0.009499014438627221"
      ]
     },
     "execution_count": 3,
     "metadata": {},
     "output_type": "execute_result"
    }
   ],
   "source": [
    "np.mean(returns_norm)"
   ]
  },
  {
   "cell_type": "code",
   "execution_count": 4,
   "id": "7202cce1-7ff7-4c75-88cd-901ffce7166b",
   "metadata": {},
   "outputs": [
    {
     "data": {
      "text/html": [
       "<div>\n",
       "<style scoped>\n",
       "    .dataframe tbody tr th:only-of-type {\n",
       "        vertical-align: middle;\n",
       "    }\n",
       "\n",
       "    .dataframe tbody tr th {\n",
       "        vertical-align: top;\n",
       "    }\n",
       "\n",
       "    .dataframe thead th {\n",
       "        text-align: right;\n",
       "    }\n",
       "</style>\n",
       "<table border=\"1\" class=\"dataframe\">\n",
       "  <thead>\n",
       "    <tr style=\"text-align: right;\">\n",
       "      <th></th>\n",
       "      <th>Lo 30</th>\n",
       "      <th>Med 40</th>\n",
       "      <th>Hi 30</th>\n",
       "      <th>Lo 20</th>\n",
       "      <th>Qnt 2</th>\n",
       "      <th>Qnt 3</th>\n",
       "      <th>Qnt 4</th>\n",
       "      <th>Hi 20</th>\n",
       "      <th>Lo 10</th>\n",
       "      <th>2-Dec</th>\n",
       "      <th>3-Dec</th>\n",
       "      <th>4-Dec</th>\n",
       "      <th>5-Dec</th>\n",
       "      <th>6-Dec</th>\n",
       "      <th>7-Dec</th>\n",
       "      <th>8-Dec</th>\n",
       "      <th>9-Dec</th>\n",
       "      <th>Hi 10</th>\n",
       "    </tr>\n",
       "  </thead>\n",
       "  <tbody>\n",
       "    <tr>\n",
       "      <th>196307</th>\n",
       "      <td>-1.10</td>\n",
       "      <td>-0.21</td>\n",
       "      <td>-0.41</td>\n",
       "      <td>-1.09</td>\n",
       "      <td>-0.76</td>\n",
       "      <td>0.49</td>\n",
       "      <td>-0.98</td>\n",
       "      <td>-0.38</td>\n",
       "      <td>-1.19</td>\n",
       "      <td>-0.94</td>\n",
       "      <td>-1.14</td>\n",
       "      <td>-0.40</td>\n",
       "      <td>-0.03</td>\n",
       "      <td>1.07</td>\n",
       "      <td>-1.49</td>\n",
       "      <td>-0.48</td>\n",
       "      <td>-1.15</td>\n",
       "      <td>0.12</td>\n",
       "    </tr>\n",
       "    <tr>\n",
       "      <th>196308</th>\n",
       "      <td>3.92</td>\n",
       "      <td>4.48</td>\n",
       "      <td>4.73</td>\n",
       "      <td>3.62</td>\n",
       "      <td>4.77</td>\n",
       "      <td>4.44</td>\n",
       "      <td>4.24</td>\n",
       "      <td>4.93</td>\n",
       "      <td>3.00</td>\n",
       "      <td>4.55</td>\n",
       "      <td>4.80</td>\n",
       "      <td>4.74</td>\n",
       "      <td>4.70</td>\n",
       "      <td>4.15</td>\n",
       "      <td>4.29</td>\n",
       "      <td>4.19</td>\n",
       "      <td>4.29</td>\n",
       "      <td>5.35</td>\n",
       "    </tr>\n",
       "    <tr>\n",
       "      <th>196309</th>\n",
       "      <td>-0.69</td>\n",
       "      <td>-1.49</td>\n",
       "      <td>-1.58</td>\n",
       "      <td>-0.48</td>\n",
       "      <td>-1.38</td>\n",
       "      <td>-1.50</td>\n",
       "      <td>-0.74</td>\n",
       "      <td>-2.16</td>\n",
       "      <td>-0.69</td>\n",
       "      <td>-0.17</td>\n",
       "      <td>-1.27</td>\n",
       "      <td>-1.48</td>\n",
       "      <td>-0.91</td>\n",
       "      <td>-2.15</td>\n",
       "      <td>-1.50</td>\n",
       "      <td>0.00</td>\n",
       "      <td>-1.84</td>\n",
       "      <td>-2.37</td>\n",
       "    </tr>\n",
       "    <tr>\n",
       "      <th>196310</th>\n",
       "      <td>1.37</td>\n",
       "      <td>1.17</td>\n",
       "      <td>1.83</td>\n",
       "      <td>1.50</td>\n",
       "      <td>0.82</td>\n",
       "      <td>1.16</td>\n",
       "      <td>1.48</td>\n",
       "      <td>2.07</td>\n",
       "      <td>2.15</td>\n",
       "      <td>0.52</td>\n",
       "      <td>0.99</td>\n",
       "      <td>0.65</td>\n",
       "      <td>1.48</td>\n",
       "      <td>0.79</td>\n",
       "      <td>1.78</td>\n",
       "      <td>1.18</td>\n",
       "      <td>2.58</td>\n",
       "      <td>1.74</td>\n",
       "    </tr>\n",
       "    <tr>\n",
       "      <th>196311</th>\n",
       "      <td>-2.12</td>\n",
       "      <td>-0.93</td>\n",
       "      <td>-1.88</td>\n",
       "      <td>-2.46</td>\n",
       "      <td>-0.50</td>\n",
       "      <td>-1.46</td>\n",
       "      <td>-0.90</td>\n",
       "      <td>-2.24</td>\n",
       "      <td>-3.27</td>\n",
       "      <td>-1.26</td>\n",
       "      <td>-1.12</td>\n",
       "      <td>0.11</td>\n",
       "      <td>-1.60</td>\n",
       "      <td>-1.30</td>\n",
       "      <td>-0.94</td>\n",
       "      <td>-0.87</td>\n",
       "      <td>-0.92</td>\n",
       "      <td>-3.11</td>\n",
       "    </tr>\n",
       "    <tr>\n",
       "      <th>...</th>\n",
       "      <td>...</td>\n",
       "      <td>...</td>\n",
       "      <td>...</td>\n",
       "      <td>...</td>\n",
       "      <td>...</td>\n",
       "      <td>...</td>\n",
       "      <td>...</td>\n",
       "      <td>...</td>\n",
       "      <td>...</td>\n",
       "      <td>...</td>\n",
       "      <td>...</td>\n",
       "      <td>...</td>\n",
       "      <td>...</td>\n",
       "      <td>...</td>\n",
       "      <td>...</td>\n",
       "      <td>...</td>\n",
       "      <td>...</td>\n",
       "      <td>...</td>\n",
       "    </tr>\n",
       "    <tr>\n",
       "      <th>202308</th>\n",
       "      <td>-8.47</td>\n",
       "      <td>-4.16</td>\n",
       "      <td>-3.32</td>\n",
       "      <td>-9.39</td>\n",
       "      <td>-3.55</td>\n",
       "      <td>-4.12</td>\n",
       "      <td>-4.29</td>\n",
       "      <td>-2.99</td>\n",
       "      <td>-10.56</td>\n",
       "      <td>-6.15</td>\n",
       "      <td>-3.20</td>\n",
       "      <td>-3.87</td>\n",
       "      <td>-4.19</td>\n",
       "      <td>-4.05</td>\n",
       "      <td>-4.65</td>\n",
       "      <td>-3.90</td>\n",
       "      <td>-1.71</td>\n",
       "      <td>-4.32</td>\n",
       "    </tr>\n",
       "    <tr>\n",
       "      <th>202309</th>\n",
       "      <td>-8.36</td>\n",
       "      <td>-5.29</td>\n",
       "      <td>-4.40</td>\n",
       "      <td>-9.03</td>\n",
       "      <td>-4.84</td>\n",
       "      <td>-5.53</td>\n",
       "      <td>-4.98</td>\n",
       "      <td>-3.99</td>\n",
       "      <td>-10.20</td>\n",
       "      <td>-5.79</td>\n",
       "      <td>-4.51</td>\n",
       "      <td>-5.14</td>\n",
       "      <td>-5.57</td>\n",
       "      <td>-5.48</td>\n",
       "      <td>-4.85</td>\n",
       "      <td>-5.12</td>\n",
       "      <td>-3.20</td>\n",
       "      <td>-4.81</td>\n",
       "    </tr>\n",
       "    <tr>\n",
       "      <th>202310</th>\n",
       "      <td>-9.71</td>\n",
       "      <td>-5.16</td>\n",
       "      <td>-4.80</td>\n",
       "      <td>-10.50</td>\n",
       "      <td>-5.44</td>\n",
       "      <td>-4.47</td>\n",
       "      <td>-5.25</td>\n",
       "      <td>-5.20</td>\n",
       "      <td>-11.69</td>\n",
       "      <td>-7.19</td>\n",
       "      <td>-5.19</td>\n",
       "      <td>-5.67</td>\n",
       "      <td>-4.33</td>\n",
       "      <td>-4.62</td>\n",
       "      <td>-6.31</td>\n",
       "      <td>-4.11</td>\n",
       "      <td>-4.74</td>\n",
       "      <td>-5.67</td>\n",
       "    </tr>\n",
       "    <tr>\n",
       "      <th>202311</th>\n",
       "      <td>9.41</td>\n",
       "      <td>8.70</td>\n",
       "      <td>8.87</td>\n",
       "      <td>9.71</td>\n",
       "      <td>7.93</td>\n",
       "      <td>8.62</td>\n",
       "      <td>8.64</td>\n",
       "      <td>9.66</td>\n",
       "      <td>10.12</td>\n",
       "      <td>8.56</td>\n",
       "      <td>7.75</td>\n",
       "      <td>8.09</td>\n",
       "      <td>7.90</td>\n",
       "      <td>9.45</td>\n",
       "      <td>9.70</td>\n",
       "      <td>7.51</td>\n",
       "      <td>7.41</td>\n",
       "      <td>11.94</td>\n",
       "    </tr>\n",
       "    <tr>\n",
       "      <th>202312</th>\n",
       "      <td>13.65</td>\n",
       "      <td>11.93</td>\n",
       "      <td>9.08</td>\n",
       "      <td>14.33</td>\n",
       "      <td>10.71</td>\n",
       "      <td>12.08</td>\n",
       "      <td>10.54</td>\n",
       "      <td>9.17</td>\n",
       "      <td>15.59</td>\n",
       "      <td>10.89</td>\n",
       "      <td>9.78</td>\n",
       "      <td>11.55</td>\n",
       "      <td>12.21</td>\n",
       "      <td>11.92</td>\n",
       "      <td>12.05</td>\n",
       "      <td>8.92</td>\n",
       "      <td>8.56</td>\n",
       "      <td>9.79</td>\n",
       "    </tr>\n",
       "  </tbody>\n",
       "</table>\n",
       "<p>726 rows × 18 columns</p>\n",
       "</div>"
      ],
      "text/plain": [
       "        Lo 30  Med 40  Hi 30  Lo 20  Qnt 2  Qnt 3  Qnt 4  Hi 20  Lo 10  2-Dec  \\\n",
       "196307  -1.10   -0.21  -0.41  -1.09  -0.76   0.49  -0.98  -0.38  -1.19  -0.94   \n",
       "196308   3.92    4.48   4.73   3.62   4.77   4.44   4.24   4.93   3.00   4.55   \n",
       "196309  -0.69   -1.49  -1.58  -0.48  -1.38  -1.50  -0.74  -2.16  -0.69  -0.17   \n",
       "196310   1.37    1.17   1.83   1.50   0.82   1.16   1.48   2.07   2.15   0.52   \n",
       "196311  -2.12   -0.93  -1.88  -2.46  -0.50  -1.46  -0.90  -2.24  -3.27  -1.26   \n",
       "...       ...     ...    ...    ...    ...    ...    ...    ...    ...    ...   \n",
       "202308  -8.47   -4.16  -3.32  -9.39  -3.55  -4.12  -4.29  -2.99 -10.56  -6.15   \n",
       "202309  -8.36   -5.29  -4.40  -9.03  -4.84  -5.53  -4.98  -3.99 -10.20  -5.79   \n",
       "202310  -9.71   -5.16  -4.80 -10.50  -5.44  -4.47  -5.25  -5.20 -11.69  -7.19   \n",
       "202311   9.41    8.70   8.87   9.71   7.93   8.62   8.64   9.66  10.12   8.56   \n",
       "202312  13.65   11.93   9.08  14.33  10.71  12.08  10.54   9.17  15.59  10.89   \n",
       "\n",
       "        3-Dec  4-Dec  5-Dec  6-Dec  7-Dec  8-Dec  9-Dec  Hi 10  \n",
       "196307  -1.14  -0.40  -0.03   1.07  -1.49  -0.48  -1.15   0.12  \n",
       "196308   4.80   4.74   4.70   4.15   4.29   4.19   4.29   5.35  \n",
       "196309  -1.27  -1.48  -0.91  -2.15  -1.50   0.00  -1.84  -2.37  \n",
       "196310   0.99   0.65   1.48   0.79   1.78   1.18   2.58   1.74  \n",
       "196311  -1.12   0.11  -1.60  -1.30  -0.94  -0.87  -0.92  -3.11  \n",
       "...       ...    ...    ...    ...    ...    ...    ...    ...  \n",
       "202308  -3.20  -3.87  -4.19  -4.05  -4.65  -3.90  -1.71  -4.32  \n",
       "202309  -4.51  -5.14  -5.57  -5.48  -4.85  -5.12  -3.20  -4.81  \n",
       "202310  -5.19  -5.67  -4.33  -4.62  -6.31  -4.11  -4.74  -5.67  \n",
       "202311   7.75   8.09   7.90   9.45   9.70   7.51   7.41  11.94  \n",
       "202312   9.78  11.55  12.21  11.92  12.05   8.92   8.56   9.79  \n",
       "\n",
       "[726 rows x 18 columns]"
      ]
     },
     "execution_count": 4,
     "metadata": {},
     "output_type": "execute_result"
    }
   ],
   "source": [
    "Monthlydata = pd.read_csv(\"Week 02 assignment data.csv\",\n",
    "                    header=0, index_col=0, parse_dates=True, na_values=-99.99)\n",
    "Monthlydata"
   ]
  },
  {
   "cell_type": "code",
   "execution_count": 5,
   "id": "f0db3706-eb1b-46d8-9f42-d37bc42ca63a",
   "metadata": {},
   "outputs": [
    {
     "data": {
      "text/html": [
       "<div>\n",
       "<style scoped>\n",
       "    .dataframe tbody tr th:only-of-type {\n",
       "        vertical-align: middle;\n",
       "    }\n",
       "\n",
       "    .dataframe tbody tr th {\n",
       "        vertical-align: top;\n",
       "    }\n",
       "\n",
       "    .dataframe thead th {\n",
       "        text-align: right;\n",
       "    }\n",
       "</style>\n",
       "<table border=\"1\" class=\"dataframe\">\n",
       "  <thead>\n",
       "    <tr style=\"text-align: right;\">\n",
       "      <th></th>\n",
       "      <th>Lo 30</th>\n",
       "      <th>Med 40</th>\n",
       "      <th>Hi 30</th>\n",
       "      <th>Lo 20</th>\n",
       "      <th>Qnt 2</th>\n",
       "      <th>Qnt 3</th>\n",
       "      <th>Qnt 4</th>\n",
       "      <th>Hi 20</th>\n",
       "      <th>Lo 10</th>\n",
       "      <th>2-Dec</th>\n",
       "      <th>3-Dec</th>\n",
       "      <th>4-Dec</th>\n",
       "      <th>5-Dec</th>\n",
       "      <th>6-Dec</th>\n",
       "      <th>7-Dec</th>\n",
       "      <th>8-Dec</th>\n",
       "      <th>9-Dec</th>\n",
       "      <th>Hi 10</th>\n",
       "    </tr>\n",
       "  </thead>\n",
       "  <tbody>\n",
       "    <tr>\n",
       "      <th>196307</th>\n",
       "      <td>-1.10</td>\n",
       "      <td>-0.21</td>\n",
       "      <td>-0.41</td>\n",
       "      <td>-1.09</td>\n",
       "      <td>-0.76</td>\n",
       "      <td>0.49</td>\n",
       "      <td>-0.98</td>\n",
       "      <td>-0.38</td>\n",
       "      <td>-1.19</td>\n",
       "      <td>-0.94</td>\n",
       "      <td>-1.14</td>\n",
       "      <td>-0.40</td>\n",
       "      <td>-0.03</td>\n",
       "      <td>1.07</td>\n",
       "      <td>-1.49</td>\n",
       "      <td>-0.48</td>\n",
       "      <td>-1.15</td>\n",
       "      <td>0.12</td>\n",
       "    </tr>\n",
       "    <tr>\n",
       "      <th>196308</th>\n",
       "      <td>3.92</td>\n",
       "      <td>4.48</td>\n",
       "      <td>4.73</td>\n",
       "      <td>3.62</td>\n",
       "      <td>4.77</td>\n",
       "      <td>4.44</td>\n",
       "      <td>4.24</td>\n",
       "      <td>4.93</td>\n",
       "      <td>3.00</td>\n",
       "      <td>4.55</td>\n",
       "      <td>4.80</td>\n",
       "      <td>4.74</td>\n",
       "      <td>4.70</td>\n",
       "      <td>4.15</td>\n",
       "      <td>4.29</td>\n",
       "      <td>4.19</td>\n",
       "      <td>4.29</td>\n",
       "      <td>5.35</td>\n",
       "    </tr>\n",
       "    <tr>\n",
       "      <th>196309</th>\n",
       "      <td>-0.69</td>\n",
       "      <td>-1.49</td>\n",
       "      <td>-1.58</td>\n",
       "      <td>-0.48</td>\n",
       "      <td>-1.38</td>\n",
       "      <td>-1.50</td>\n",
       "      <td>-0.74</td>\n",
       "      <td>-2.16</td>\n",
       "      <td>-0.69</td>\n",
       "      <td>-0.17</td>\n",
       "      <td>-1.27</td>\n",
       "      <td>-1.48</td>\n",
       "      <td>-0.91</td>\n",
       "      <td>-2.15</td>\n",
       "      <td>-1.50</td>\n",
       "      <td>0.00</td>\n",
       "      <td>-1.84</td>\n",
       "      <td>-2.37</td>\n",
       "    </tr>\n",
       "  </tbody>\n",
       "</table>\n",
       "</div>"
      ],
      "text/plain": [
       "        Lo 30  Med 40  Hi 30  Lo 20  Qnt 2  Qnt 3  Qnt 4  Hi 20  Lo 10  2-Dec  \\\n",
       "196307  -1.10   -0.21  -0.41  -1.09  -0.76   0.49  -0.98  -0.38  -1.19  -0.94   \n",
       "196308   3.92    4.48   4.73   3.62   4.77   4.44   4.24   4.93   3.00   4.55   \n",
       "196309  -0.69   -1.49  -1.58  -0.48  -1.38  -1.50  -0.74  -2.16  -0.69  -0.17   \n",
       "\n",
       "        3-Dec  4-Dec  5-Dec  6-Dec  7-Dec  8-Dec  9-Dec  Hi 10  \n",
       "196307  -1.14  -0.40  -0.03   1.07  -1.49  -0.48  -1.15   0.12  \n",
       "196308   4.80   4.74   4.70   4.15   4.29   4.19   4.29   5.35  \n",
       "196309  -1.27  -1.48  -0.91  -2.15  -1.50   0.00  -1.84  -2.37  "
      ]
     },
     "execution_count": 5,
     "metadata": {},
     "output_type": "execute_result"
    }
   ],
   "source": [
    "Monthlydata.head(3)"
   ]
  },
  {
   "cell_type": "code",
   "execution_count": 6,
   "id": "20783310-c95f-471c-b68b-5bd56d626c68",
   "metadata": {},
   "outputs": [
    {
     "data": {
      "text/html": [
       "<div>\n",
       "<style scoped>\n",
       "    .dataframe tbody tr th:only-of-type {\n",
       "        vertical-align: middle;\n",
       "    }\n",
       "\n",
       "    .dataframe tbody tr th {\n",
       "        vertical-align: top;\n",
       "    }\n",
       "\n",
       "    .dataframe thead th {\n",
       "        text-align: right;\n",
       "    }\n",
       "</style>\n",
       "<table border=\"1\" class=\"dataframe\">\n",
       "  <thead>\n",
       "    <tr style=\"text-align: right;\">\n",
       "      <th></th>\n",
       "      <th>Lo 10</th>\n",
       "      <th>Med 40</th>\n",
       "      <th>Hi 10</th>\n",
       "    </tr>\n",
       "  </thead>\n",
       "  <tbody>\n",
       "    <tr>\n",
       "      <th>196307</th>\n",
       "      <td>-1.19</td>\n",
       "      <td>-0.21</td>\n",
       "      <td>0.12</td>\n",
       "    </tr>\n",
       "    <tr>\n",
       "      <th>196308</th>\n",
       "      <td>3.00</td>\n",
       "      <td>4.48</td>\n",
       "      <td>5.35</td>\n",
       "    </tr>\n",
       "    <tr>\n",
       "      <th>196309</th>\n",
       "      <td>-0.69</td>\n",
       "      <td>-1.49</td>\n",
       "      <td>-2.37</td>\n",
       "    </tr>\n",
       "  </tbody>\n",
       "</table>\n",
       "</div>"
      ],
      "text/plain": [
       "        Lo 10  Med 40  Hi 10\n",
       "196307  -1.19   -0.21   0.12\n",
       "196308   3.00    4.48   5.35\n",
       "196309  -0.69   -1.49  -2.37"
      ]
     },
     "execution_count": 6,
     "metadata": {},
     "output_type": "execute_result"
    }
   ],
   "source": [
    "columns=['Lo 10', 'Med 40', 'Hi 10']\n",
    "Monthlydata = Monthlydata[columns]\n",
    "Monthlydata.head(3)"
   ]
  },
  {
   "cell_type": "code",
   "execution_count": 7,
   "id": "09d6b059-336a-4ea2-a8c0-a20ae9d8e7bb",
   "metadata": {},
   "outputs": [
    {
     "data": {
      "text/html": [
       "<div>\n",
       "<style scoped>\n",
       "    .dataframe tbody tr th:only-of-type {\n",
       "        vertical-align: middle;\n",
       "    }\n",
       "\n",
       "    .dataframe tbody tr th {\n",
       "        vertical-align: top;\n",
       "    }\n",
       "\n",
       "    .dataframe thead th {\n",
       "        text-align: right;\n",
       "    }\n",
       "</style>\n",
       "<table border=\"1\" class=\"dataframe\">\n",
       "  <thead>\n",
       "    <tr style=\"text-align: right;\">\n",
       "      <th></th>\n",
       "      <th>LowProf</th>\n",
       "      <th>MedProf</th>\n",
       "      <th>LargeProf</th>\n",
       "    </tr>\n",
       "  </thead>\n",
       "  <tbody>\n",
       "    <tr>\n",
       "      <th>196307</th>\n",
       "      <td>-0.0119</td>\n",
       "      <td>-0.0021</td>\n",
       "      <td>0.0012</td>\n",
       "    </tr>\n",
       "    <tr>\n",
       "      <th>196308</th>\n",
       "      <td>0.0300</td>\n",
       "      <td>0.0448</td>\n",
       "      <td>0.0535</td>\n",
       "    </tr>\n",
       "    <tr>\n",
       "      <th>196309</th>\n",
       "      <td>-0.0069</td>\n",
       "      <td>-0.0149</td>\n",
       "      <td>-0.0237</td>\n",
       "    </tr>\n",
       "    <tr>\n",
       "      <th>196310</th>\n",
       "      <td>0.0215</td>\n",
       "      <td>0.0117</td>\n",
       "      <td>0.0174</td>\n",
       "    </tr>\n",
       "    <tr>\n",
       "      <th>196311</th>\n",
       "      <td>-0.0327</td>\n",
       "      <td>-0.0093</td>\n",
       "      <td>-0.0311</td>\n",
       "    </tr>\n",
       "  </tbody>\n",
       "</table>\n",
       "</div>"
      ],
      "text/plain": [
       "        LowProf  MedProf  LargeProf\n",
       "196307  -0.0119  -0.0021     0.0012\n",
       "196308   0.0300   0.0448     0.0535\n",
       "196309  -0.0069  -0.0149    -0.0237\n",
       "196310   0.0215   0.0117     0.0174\n",
       "196311  -0.0327  -0.0093    -0.0311"
      ]
     },
     "execution_count": 7,
     "metadata": {},
     "output_type": "execute_result"
    }
   ],
   "source": [
    "Monthlydata.columns = ['LowProf', 'MedProf', 'LargeProf']\n",
    "Monthlydata = Monthlydata/100\n",
    "Monthlydata.head()"
   ]
  },
  {
   "cell_type": "code",
   "execution_count": 8,
   "id": "0d63aae1-13c8-427e-8a8c-abbbf6491271",
   "metadata": {},
   "outputs": [
    {
     "data": {
      "text/plain": [
       "array([ 0.4234282 , -0.39287208, -0.28688015])"
      ]
     },
     "execution_count": 8,
     "metadata": {},
     "output_type": "execute_result"
    }
   ],
   "source": [
    "scipy.stats.skew(Monthlydata)"
   ]
  },
  {
   "cell_type": "code",
   "execution_count": 9,
   "id": "2d1ac141-3bbb-4c2d-b5d3-dcc47ae05495",
   "metadata": {},
   "outputs": [
    {
     "data": {
      "text/plain": [
       "array([2.79500407, 3.26038434, 2.78430471])"
      ]
     },
     "execution_count": 9,
     "metadata": {},
     "output_type": "execute_result"
    }
   ],
   "source": [
    "scipy.stats.kurtosis(Monthlydata)"
   ]
  },
  {
   "cell_type": "code",
   "execution_count": 10,
   "id": "6c26d5c9-782b-4228-99e8-374624d27e57",
   "metadata": {},
   "outputs": [
    {
     "data": {
      "text/plain": [
       "LowProf      0.010975\n",
       "MedProf      0.012327\n",
       "LargeProf    0.012171\n",
       "dtype: float64"
      ]
     },
     "execution_count": 10,
     "metadata": {},
     "output_type": "execute_result"
    }
   ],
   "source": [
    "Monthlydata.mean()"
   ]
  },
  {
   "cell_type": "code",
   "execution_count": 11,
   "id": "d0f0f670-9b89-4536-a301-71000051f5ca",
   "metadata": {},
   "outputs": [
    {
     "data": {
      "text/plain": [
       "LowProf      0.079825\n",
       "MedProf      0.051867\n",
       "LargeProf    0.062283\n",
       "dtype: float64"
      ]
     },
     "execution_count": 11,
     "metadata": {},
     "output_type": "execute_result"
    }
   ],
   "source": [
    "Monthlydata.std()"
   ]
  },
  {
   "cell_type": "markdown",
   "id": "6bcbf952-6889-46a7-8950-140c1c37f008",
   "metadata": {},
   "source": [
    "# ANNUALIZED STD"
   ]
  },
  {
   "cell_type": "code",
   "execution_count": 12,
   "id": "9586c56a-3ed6-46a7-9668-fd2e97e5e925",
   "metadata": {},
   "outputs": [
    {
     "data": {
      "text/plain": [
       "LowProf      0.276521\n",
       "MedProf      0.179674\n",
       "LargeProf    0.215756\n",
       "dtype: float64"
      ]
     },
     "execution_count": 12,
     "metadata": {},
     "output_type": "execute_result"
    }
   ],
   "source": [
    "annual_vol=Monthlydata.std() * np.sqrt(12)\n",
    "annual_vol"
   ]
  },
  {
   "cell_type": "code",
   "execution_count": 13,
   "id": "27096c19-f552-4734-950f-3b028ca6d683",
   "metadata": {},
   "outputs": [
    {
     "data": {
      "text/plain": [
       "(726, 3)"
      ]
     },
     "execution_count": 13,
     "metadata": {},
     "output_type": "execute_result"
    }
   ],
   "source": [
    "Monthlydata.shape"
   ]
  },
  {
   "cell_type": "code",
   "execution_count": 14,
   "id": "42ecf0e1-b9aa-4a78-b8fa-531b461bab9e",
   "metadata": {},
   "outputs": [
    {
     "data": {
      "text/plain": [
       "60.5"
      ]
     },
     "execution_count": 14,
     "metadata": {},
     "output_type": "execute_result"
    }
   ],
   "source": [
    "n_months=Monthlydata.shape[0]\n",
    "n_years=n_months/12\n",
    "n_years"
   ]
  },
  {
   "cell_type": "code",
   "execution_count": 15,
   "id": "9859672c-6c8b-49c3-aefa-b42445fdc070",
   "metadata": {},
   "outputs": [
    {
     "data": {
      "text/plain": [
       "LowProf      0.098370\n",
       "MedProf      0.139895\n",
       "LargeProf    0.129685\n",
       "dtype: float64"
      ]
     },
     "execution_count": 15,
     "metadata": {},
     "output_type": "execute_result"
    }
   ],
   "source": [
    "annual_Monthlydata=(1+Monthlydata).prod()**(1/n_years)-1\n",
    "annual_Monthlydata"
   ]
  },
  {
   "cell_type": "code",
   "execution_count": 16,
   "id": "1c7bd1fc-4804-4988-93a8-3b8cada4e65c",
   "metadata": {},
   "outputs": [
    {
     "data": {
      "text/plain": [
       "LowProf      0.355742\n",
       "MedProf      0.778604\n",
       "LargeProf    0.601074\n",
       "dtype: float64"
      ]
     },
     "execution_count": 16,
     "metadata": {},
     "output_type": "execute_result"
    }
   ],
   "source": [
    "annual_Monthlydata/annual_vol"
   ]
  },
  {
   "cell_type": "markdown",
   "id": "4fab5cb1-142e-47be-9790-c0422d60df4e",
   "metadata": {},
   "source": [
    "# SHARPE RATIO\n",
    "## Annual risk free rate is assume to be 3%"
   ]
  },
  {
   "cell_type": "code",
   "execution_count": 17,
   "id": "1b3c514a-9665-4f33-bb49-546fdea5453e",
   "metadata": {},
   "outputs": [
    {
     "data": {
      "text/plain": [
       "LowProf      0.247251\n",
       "MedProf      0.611635\n",
       "LargeProf    0.462028\n",
       "dtype: float64"
      ]
     },
     "execution_count": 17,
     "metadata": {},
     "output_type": "execute_result"
    }
   ],
   "source": [
    "rf=0.03\n",
    "sharpe_ratio=(annual_Monthlydata-rf)/annual_vol\n",
    "sharpe_ratio\n",
    "\n",
    "# The MedProf's sharpe ratio is the higheest meaning it is the best investment compared to SmallProf and LargeProf.\n",
    "# The MedProf has the least standard deviation "
   ]
  },
  {
   "cell_type": "markdown",
   "id": "8e05bd6e-78ad-4443-b5cb-9db6e126292e",
   "metadata": {},
   "source": [
    "## 1. Standard deviation "
   ]
  },
  {
   "cell_type": "code",
   "execution_count": 18,
   "id": "a55975b2-d7c3-4a78-b4d1-62ce43432437",
   "metadata": {},
   "outputs": [
    {
     "data": {
      "text/plain": [
       "LowProf      0.079825\n",
       "MedProf      0.051867\n",
       "LargeProf    0.062283\n",
       "dtype: float64"
      ]
     },
     "execution_count": 18,
     "metadata": {},
     "output_type": "execute_result"
    }
   ],
   "source": [
    "Monthlydata.std()"
   ]
  },
  {
   "cell_type": "markdown",
   "id": "eb897dc4-021f-4d42-b480-f6e27eed582e",
   "metadata": {},
   "source": [
    "## Semi Deviation "
   ]
  },
  {
   "cell_type": "code",
   "execution_count": 19,
   "id": "e5835cbd-ccfd-4cb5-b025-032ec61b4bda",
   "metadata": {},
   "outputs": [
    {
     "data": {
      "text/html": [
       "<div>\n",
       "<style scoped>\n",
       "    .dataframe tbody tr th:only-of-type {\n",
       "        vertical-align: middle;\n",
       "    }\n",
       "\n",
       "    .dataframe tbody tr th {\n",
       "        vertical-align: top;\n",
       "    }\n",
       "\n",
       "    .dataframe thead th {\n",
       "        text-align: right;\n",
       "    }\n",
       "</style>\n",
       "<table border=\"1\" class=\"dataframe\">\n",
       "  <thead>\n",
       "    <tr style=\"text-align: right;\">\n",
       "      <th></th>\n",
       "      <th>LowProf</th>\n",
       "      <th>MedProf</th>\n",
       "      <th>LargeProf</th>\n",
       "    </tr>\n",
       "  </thead>\n",
       "  <tbody>\n",
       "    <tr>\n",
       "      <th>196307</th>\n",
       "      <td>True</td>\n",
       "      <td>True</td>\n",
       "      <td>False</td>\n",
       "    </tr>\n",
       "    <tr>\n",
       "      <th>196308</th>\n",
       "      <td>False</td>\n",
       "      <td>False</td>\n",
       "      <td>False</td>\n",
       "    </tr>\n",
       "    <tr>\n",
       "      <th>196309</th>\n",
       "      <td>True</td>\n",
       "      <td>True</td>\n",
       "      <td>True</td>\n",
       "    </tr>\n",
       "    <tr>\n",
       "      <th>196310</th>\n",
       "      <td>False</td>\n",
       "      <td>False</td>\n",
       "      <td>False</td>\n",
       "    </tr>\n",
       "    <tr>\n",
       "      <th>196311</th>\n",
       "      <td>True</td>\n",
       "      <td>True</td>\n",
       "      <td>True</td>\n",
       "    </tr>\n",
       "    <tr>\n",
       "      <th>...</th>\n",
       "      <td>...</td>\n",
       "      <td>...</td>\n",
       "      <td>...</td>\n",
       "    </tr>\n",
       "    <tr>\n",
       "      <th>202308</th>\n",
       "      <td>True</td>\n",
       "      <td>True</td>\n",
       "      <td>True</td>\n",
       "    </tr>\n",
       "    <tr>\n",
       "      <th>202309</th>\n",
       "      <td>True</td>\n",
       "      <td>True</td>\n",
       "      <td>True</td>\n",
       "    </tr>\n",
       "    <tr>\n",
       "      <th>202310</th>\n",
       "      <td>True</td>\n",
       "      <td>True</td>\n",
       "      <td>True</td>\n",
       "    </tr>\n",
       "    <tr>\n",
       "      <th>202311</th>\n",
       "      <td>False</td>\n",
       "      <td>False</td>\n",
       "      <td>False</td>\n",
       "    </tr>\n",
       "    <tr>\n",
       "      <th>202312</th>\n",
       "      <td>False</td>\n",
       "      <td>False</td>\n",
       "      <td>False</td>\n",
       "    </tr>\n",
       "  </tbody>\n",
       "</table>\n",
       "<p>726 rows × 3 columns</p>\n",
       "</div>"
      ],
      "text/plain": [
       "        LowProf  MedProf  LargeProf\n",
       "196307     True     True      False\n",
       "196308    False    False      False\n",
       "196309     True     True       True\n",
       "196310    False    False      False\n",
       "196311     True     True       True\n",
       "...         ...      ...        ...\n",
       "202308     True     True       True\n",
       "202309     True     True       True\n",
       "202310     True     True       True\n",
       "202311    False    False      False\n",
       "202312    False    False      False\n",
       "\n",
       "[726 rows x 3 columns]"
      ]
     },
     "execution_count": 19,
     "metadata": {},
     "output_type": "execute_result"
    }
   ],
   "source": [
    "Monthlydata < 0"
   ]
  },
  {
   "cell_type": "markdown",
   "id": "89bbbe6f-a0f0-49ff-a7be-d45d8e5e81b6",
   "metadata": {},
   "source": [
    "## VaR and CVaR "
   ]
  },
  {
   "cell_type": "markdown",
   "id": "f9864f91-2431-4088-9b4c-7642915af08e",
   "metadata": {},
   "source": [
    "### Historical Estimation"
   ]
  },
  {
   "cell_type": "code",
   "execution_count": 20,
   "id": "e0056c6c-3c60-4079-8289-e41b2f2e8661",
   "metadata": {},
   "outputs": [
    {
     "data": {
      "text/plain": [
       "array([0.11205 , 0.071525, 0.0879  ])"
      ]
     },
     "execution_count": 20,
     "metadata": {},
     "output_type": "execute_result"
    }
   ],
   "source": [
    "np.percentile(Monthlydata, 5,axis=0)*-1\n",
    "\n",
    "# if you invest at 95%, LowProf maximum loss will be 11% , MedProf will be 7% and LargeProf will be 8%"
   ]
  },
  {
   "cell_type": "markdown",
   "id": "cc633f51-a9d2-4930-b0c3-ee89fc9c14c5",
   "metadata": {},
   "source": [
    "### Parametric estimation"
   ]
  },
  {
   "cell_type": "code",
   "execution_count": 21,
   "id": "3113c9c3-305f-4e0b-a00b-08d0ca168319",
   "metadata": {},
   "outputs": [],
   "source": [
    "from scipy.stats import norm"
   ]
  },
  {
   "cell_type": "code",
   "execution_count": 22,
   "id": "36b4865c-6aa2-4d61-b7d9-04677d21942d",
   "metadata": {},
   "outputs": [
    {
     "data": {
      "text/plain": [
       "-1.6448536269514729"
      ]
     },
     "execution_count": 22,
     "metadata": {},
     "output_type": "execute_result"
    }
   ],
   "source": [
    "z = norm.ppf(0.05)\n",
    "z"
   ]
  },
  {
   "cell_type": "code",
   "execution_count": 23,
   "id": "67ee6e07-9309-495c-aab9-63ffaf356e8c",
   "metadata": {},
   "outputs": [
    {
     "data": {
      "text/plain": [
       "LowProf      0.120325\n",
       "MedProf      0.072988\n",
       "LargeProf    0.090277\n",
       "dtype: float64"
      ]
     },
     "execution_count": 23,
     "metadata": {},
     "output_type": "execute_result"
    }
   ],
   "source": [
    "VaR_Gaussian = -1 * (Monthlydata.mean() + z * Monthlydata.std())\n",
    "VaR_Gaussian"
   ]
  },
  {
   "cell_type": "markdown",
   "id": "c95f4125-36a6-4496-a59b-69e2734b86e7",
   "metadata": {},
   "source": [
    "### Cornish-Fisher/Semi-parametric estimation"
   ]
  },
  {
   "cell_type": "code",
   "execution_count": 24,
   "id": "7c8b83a0-5c88-4b0d-a434-12c819eb00dc",
   "metadata": {},
   "outputs": [
    {
     "data": {
      "text/plain": [
       "array([-1.50518776, -1.69081611, -1.62374273])"
      ]
     },
     "execution_count": 24,
     "metadata": {},
     "output_type": "execute_result"
    }
   ],
   "source": [
    "z = norm.ppf(0.05)\n",
    "s = scipy.stats.skew(Monthlydata[-120:])\n",
    "k = scipy.stats.kurtosis(Monthlydata[-120:])\n",
    "z_cf = (z\n",
    "    + (z**2 - 1)*s/6\n",
    "    + (z**3 - 3*z)*k/24\n",
    "    - (2*z**3 - 5*z)*(s**2)/36)\n",
    "z_cf  "
   ]
  },
  {
   "cell_type": "code",
   "execution_count": 25,
   "id": "b366a803-6ba2-40b1-97e9-2c225cf7f349",
   "metadata": {},
   "outputs": [
    {
     "data": {
      "text/plain": [
       "LowProf      0.115178\n",
       "MedProf      0.081965\n",
       "LargeProf    0.091818\n",
       "dtype: float64"
      ]
     },
     "execution_count": 25,
     "metadata": {},
     "output_type": "execute_result"
    }
   ],
   "source": [
    "VaR_cf = -1 * (Monthlydata.mean() + z_cf * Monthlydata[-120:].std())\n",
    "VaR_cf"
   ]
  },
  {
   "cell_type": "markdown",
   "id": "0c8f233a-249b-4831-9465-9aa27eb38912",
   "metadata": {},
   "source": [
    "### Max Drawdown"
   ]
  },
  {
   "cell_type": "code",
   "execution_count": 26,
   "id": "6e635a87-9720-434a-981f-6f9105142e17",
   "metadata": {},
   "outputs": [
    {
     "data": {
      "text/html": [
       "<div>\n",
       "<style scoped>\n",
       "    .dataframe tbody tr th:only-of-type {\n",
       "        vertical-align: middle;\n",
       "    }\n",
       "\n",
       "    .dataframe tbody tr th {\n",
       "        vertical-align: top;\n",
       "    }\n",
       "\n",
       "    .dataframe thead th {\n",
       "        text-align: right;\n",
       "    }\n",
       "</style>\n",
       "<table border=\"1\" class=\"dataframe\">\n",
       "  <thead>\n",
       "    <tr style=\"text-align: right;\">\n",
       "      <th></th>\n",
       "      <th>LowProf</th>\n",
       "      <th>MedProf</th>\n",
       "      <th>LargeProf</th>\n",
       "    </tr>\n",
       "  </thead>\n",
       "  <tbody>\n",
       "    <tr>\n",
       "      <th>196307</th>\n",
       "      <td>-0.0119</td>\n",
       "      <td>-0.0021</td>\n",
       "      <td>0.0012</td>\n",
       "    </tr>\n",
       "    <tr>\n",
       "      <th>196308</th>\n",
       "      <td>0.0300</td>\n",
       "      <td>0.0448</td>\n",
       "      <td>0.0535</td>\n",
       "    </tr>\n",
       "    <tr>\n",
       "      <th>196309</th>\n",
       "      <td>-0.0069</td>\n",
       "      <td>-0.0149</td>\n",
       "      <td>-0.0237</td>\n",
       "    </tr>\n",
       "    <tr>\n",
       "      <th>196310</th>\n",
       "      <td>0.0215</td>\n",
       "      <td>0.0117</td>\n",
       "      <td>0.0174</td>\n",
       "    </tr>\n",
       "    <tr>\n",
       "      <th>196311</th>\n",
       "      <td>-0.0327</td>\n",
       "      <td>-0.0093</td>\n",
       "      <td>-0.0311</td>\n",
       "    </tr>\n",
       "  </tbody>\n",
       "</table>\n",
       "</div>"
      ],
      "text/plain": [
       "        LowProf  MedProf  LargeProf\n",
       "196307  -0.0119  -0.0021     0.0012\n",
       "196308   0.0300   0.0448     0.0535\n",
       "196309  -0.0069  -0.0149    -0.0237\n",
       "196310   0.0215   0.0117     0.0174\n",
       "196311  -0.0327  -0.0093    -0.0311"
      ]
     },
     "execution_count": 26,
     "metadata": {},
     "output_type": "execute_result"
    }
   ],
   "source": [
    "Monthlydata.head()"
   ]
  },
  {
   "cell_type": "code",
   "execution_count": 27,
   "id": "d997d214-2dae-46cb-8f38-c312802d5b81",
   "metadata": {},
   "outputs": [
    {
     "data": {
      "text/plain": [
       "Int64Index([196307, 196308, 196309, 196310, 196311, 196312, 196401, 196402,\n",
       "            196403, 196404,\n",
       "            ...\n",
       "            202303, 202304, 202305, 202306, 202307, 202308, 202309, 202310,\n",
       "            202311, 202312],\n",
       "           dtype='int64', length=726)"
      ]
     },
     "execution_count": 27,
     "metadata": {},
     "output_type": "execute_result"
    }
   ],
   "source": [
    "Monthlydata.index"
   ]
  },
  {
   "cell_type": "code",
   "execution_count": 28,
   "id": "0410aaaf-54bb-46f7-91a6-8f17cd1f11bc",
   "metadata": {},
   "outputs": [],
   "source": [
    "Monthlydata.index = pd.to_datetime(Monthlydata.index, format='%Y%m').to_period('M')"
   ]
  },
  {
   "cell_type": "code",
   "execution_count": 30,
   "id": "a4741fb1-4ca1-4cb8-a4b2-11bad28f174e",
   "metadata": {},
   "outputs": [
    {
     "name": "stderr",
     "output_type": "stream",
     "text": [
      "/var/folders/gl/sc9s01490bg0vmyvzpbkn1lm0000gn/T/ipykernel_84023/4265716391.py:1: FutureWarning: Indexing a DataFrame with a datetimelike index using a single string to slice the rows, like `frame[string]`, is deprecated and will be removed in a future version. Use `frame.loc[string]` instead.\n",
      "  Monthlydata['2020']\n"
     ]
    },
    {
     "data": {
      "text/html": [
       "<div>\n",
       "<style scoped>\n",
       "    .dataframe tbody tr th:only-of-type {\n",
       "        vertical-align: middle;\n",
       "    }\n",
       "\n",
       "    .dataframe tbody tr th {\n",
       "        vertical-align: top;\n",
       "    }\n",
       "\n",
       "    .dataframe thead th {\n",
       "        text-align: right;\n",
       "    }\n",
       "</style>\n",
       "<table border=\"1\" class=\"dataframe\">\n",
       "  <thead>\n",
       "    <tr style=\"text-align: right;\">\n",
       "      <th></th>\n",
       "      <th>LowProf</th>\n",
       "      <th>MedProf</th>\n",
       "      <th>LargeProf</th>\n",
       "    </tr>\n",
       "  </thead>\n",
       "  <tbody>\n",
       "    <tr>\n",
       "      <th>2020-01</th>\n",
       "      <td>0.0386</td>\n",
       "      <td>-0.0454</td>\n",
       "      <td>-0.0464</td>\n",
       "    </tr>\n",
       "    <tr>\n",
       "      <th>2020-02</th>\n",
       "      <td>-0.0380</td>\n",
       "      <td>-0.0897</td>\n",
       "      <td>-0.0981</td>\n",
       "    </tr>\n",
       "    <tr>\n",
       "      <th>2020-03</th>\n",
       "      <td>-0.1936</td>\n",
       "      <td>-0.2325</td>\n",
       "      <td>-0.2625</td>\n",
       "    </tr>\n",
       "    <tr>\n",
       "      <th>2020-04</th>\n",
       "      <td>0.2294</td>\n",
       "      <td>0.1612</td>\n",
       "      <td>0.2259</td>\n",
       "    </tr>\n",
       "    <tr>\n",
       "      <th>2020-05</th>\n",
       "      <td>0.1368</td>\n",
       "      <td>0.0396</td>\n",
       "      <td>0.0663</td>\n",
       "    </tr>\n",
       "    <tr>\n",
       "      <th>2020-06</th>\n",
       "      <td>0.1179</td>\n",
       "      <td>0.0306</td>\n",
       "      <td>0.0615</td>\n",
       "    </tr>\n",
       "    <tr>\n",
       "      <th>2020-07</th>\n",
       "      <td>0.0777</td>\n",
       "      <td>0.0158</td>\n",
       "      <td>0.0297</td>\n",
       "    </tr>\n",
       "    <tr>\n",
       "      <th>2020-08</th>\n",
       "      <td>0.0253</td>\n",
       "      <td>0.0526</td>\n",
       "      <td>0.0739</td>\n",
       "    </tr>\n",
       "    <tr>\n",
       "      <th>2020-09</th>\n",
       "      <td>-0.0069</td>\n",
       "      <td>-0.0418</td>\n",
       "      <td>-0.0431</td>\n",
       "    </tr>\n",
       "    <tr>\n",
       "      <th>2020-10</th>\n",
       "      <td>-0.0137</td>\n",
       "      <td>0.0403</td>\n",
       "      <td>-0.0028</td>\n",
       "    </tr>\n",
       "    <tr>\n",
       "      <th>2020-11</th>\n",
       "      <td>0.2356</td>\n",
       "      <td>0.1817</td>\n",
       "      <td>0.1993</td>\n",
       "    </tr>\n",
       "    <tr>\n",
       "      <th>2020-12</th>\n",
       "      <td>0.1194</td>\n",
       "      <td>0.0751</td>\n",
       "      <td>0.0874</td>\n",
       "    </tr>\n",
       "  </tbody>\n",
       "</table>\n",
       "</div>"
      ],
      "text/plain": [
       "         LowProf  MedProf  LargeProf\n",
       "2020-01   0.0386  -0.0454    -0.0464\n",
       "2020-02  -0.0380  -0.0897    -0.0981\n",
       "2020-03  -0.1936  -0.2325    -0.2625\n",
       "2020-04   0.2294   0.1612     0.2259\n",
       "2020-05   0.1368   0.0396     0.0663\n",
       "2020-06   0.1179   0.0306     0.0615\n",
       "2020-07   0.0777   0.0158     0.0297\n",
       "2020-08   0.0253   0.0526     0.0739\n",
       "2020-09  -0.0069  -0.0418    -0.0431\n",
       "2020-10  -0.0137   0.0403    -0.0028\n",
       "2020-11   0.2356   0.1817     0.1993\n",
       "2020-12   0.1194   0.0751     0.0874"
      ]
     },
     "execution_count": 30,
     "metadata": {},
     "output_type": "execute_result"
    }
   ],
   "source": [
    "Monthlydata['2020']"
   ]
  },
  {
   "cell_type": "code",
   "execution_count": 32,
   "id": "1a63ec00-60f1-4c25-8e5d-babdf168a558",
   "metadata": {},
   "outputs": [],
   "source": [
    "wealth = (1+Monthlydata['LargeProf']).cumprod()"
   ]
  },
  {
   "cell_type": "code",
   "execution_count": 34,
   "id": "5c2f7898-48f5-4aa1-960e-ef07a1723d7b",
   "metadata": {},
   "outputs": [
    {
     "data": {
      "text/plain": [
       "<Axes: title={'center': 'wealth index for Large Profit(1980-2021)'}>"
      ]
     },
     "execution_count": 34,
     "metadata": {},
     "output_type": "execute_result"
    },
    {
     "data": {
      "image/png": "[encoded data removed]",
      "text/plain": [
       "<Figure size 640x480 with 1 Axes>"
      ]
     },
     "metadata": {},
     "output_type": "display_data"
    }
   ],
   "source": [
    "wealth['1980':].plot(title=\"wealth index for Large Profit(1980-2021)\")"
   ]
  },
  {
   "cell_type": "code",
   "execution_count": 36,
   "id": "312b2d84-205b-4d8d-96e6-c2346881b2c0",
   "metadata": {},
   "outputs": [
    {
     "data": {
      "text/plain": [
       "<Axes: title={'center': 'wealth Lastpeak'}>"
      ]
     },
     "execution_count": 36,
     "metadata": {},
     "output_type": "execute_result"
    },
    {
     "data": {
      "image/png": "[encoded data removed]",
      "text/plain": [
       "<Figure size 640x480 with 1 Axes>"
      ]
     },
     "metadata": {},
     "output_type": "display_data"
    }
   ],
   "source": [
    "lastpeak = wealth.cummax()\n",
    "lastpeak['1980':].plot(title=\"wealth Lastpeak\")"
   ]
  },
  {
   "cell_type": "code",
   "execution_count": 38,
   "id": "23925b81-e4bf-4fc2-a1b9-6308c103480b",
   "metadata": {},
   "outputs": [
    {
     "data": {
      "text/plain": [
       "<Axes: >"
      ]
     },
     "execution_count": 38,
     "metadata": {},
     "output_type": "execute_result"
    },
    {
     "data": {
      "image/png": "[encoded data removed]",
      "text/plain": [
       "<Figure size 640x480 with 1 Axes>"
      ]
     },
     "metadata": {},
     "output_type": "display_data"
    }
   ],
   "source": [
    "drawdown = (wealth - lastpeak)/lastpeak\n",
    "drawdown['1980':].plot()"
   ]
  },
  {
   "cell_type": "code",
   "execution_count": null,
   "id": "f97e0c07-8624-4daa-aa81-702ee70c9717",
   "metadata": {},
   "outputs": [],
   "source": []
  }
 ],
 "metadata": {
  "kernelspec": {
   "display_name": "Python 3 (ipykernel)",
   "language": "python",
   "name": "python3"
  },
  "language_info": {
   "codemirror_mode": {
    "name": "ipython",
    "version": 3
   },
   "file_extension": ".py",
   "mimetype": "text/x-python",
   "name": "python",
   "nbconvert_exporter": "python",
   "pygments_lexer": "ipython3",
   "version": "3.10.9"
  }
 },
 "nbformat": 4,
 "nbformat_minor": 5
}
