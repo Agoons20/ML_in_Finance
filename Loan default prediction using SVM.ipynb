{
 "cells": [
  {
   "cell_type": "code",
   "execution_count": 1,
   "id": "52716a45-cf04-470f-ae8a-f1160ab3bded",
   "metadata": {},
   "outputs": [],
   "source": [
    "import pandas as pd\n",
    "import numpy as np\n",
    "import matplotlib.pyplot as plt\n",
    "import seaborn as sns"
   ]
  },
  {
   "cell_type": "code",
   "execution_count": 2,
   "id": "ff91873a-4bc4-4e5d-ba1d-50eadcadafde",
   "metadata": {},
   "outputs": [],
   "source": [
    "from sklearn.model_selection import train_test_split\n",
    "\n",
    "from sklearn.svm import SVC\n",
    "\n",
    "from sklearn.metrics import classification_report, accuracy_score\n",
    "from sklearn.metrics import confusion_matrix, plot_confusion_matrix \n",
    "from sklearn.metrics import ConfusionMatrixDisplay"
   ]
  },
  {
   "cell_type": "code",
   "execution_count": 3,
   "id": "b26008c7-e238-49ae-97c3-41d925823dc6",
   "metadata": {},
   "outputs": [],
   "source": [
    "from sklearn.model_selection import train_test_split\n",
    "from sklearn.preprocessing import LabelEncoder\n",
    "\n",
    "from sklearn.tree import DecisionTreeClassifier\n",
    "from sklearn.tree import plot_tree\n",
    "from sklearn.ensemble import RandomForestClassifier\n",
    "from sklearn.ensemble import ExtraTreesClassifier\n",
    "from sklearn.ensemble import AdaBoostClassifier\n",
    "from sklearn.ensemble import GradientBoostingClassifier\n",
    "\n",
    "from sklearn.metrics import classification_report, accuracy_score\n",
    "from sklearn.metrics import ConfusionMatrixDisplay\n",
    "from sklearn.metrics import confusion_matrix, plot_confusion_matrix "
   ]
  },
  {
   "cell_type": "code",
   "execution_count": 4,
   "id": "e091bd2d-e6fe-4f94-abee-0926e37ba66f",
   "metadata": {},
   "outputs": [
    {
     "name": "stderr",
     "output_type": "stream",
     "text": [
      "/var/folders/l0/rswxq5r17tg_xh8mp8pj68mh0000gn/T/ipykernel_26922/2247868516.py:1: DtypeWarning: Columns (18) have mixed types. Specify dtype option on import or set low_memory=False.\n",
      "  df = pd.read_csv(\"HW9_LoansData.csv\")\n"
     ]
    },
    {
     "data": {
      "text/html": [
       "<div>\n",
       "<style scoped>\n",
       "    .dataframe tbody tr th:only-of-type {\n",
       "        vertical-align: middle;\n",
       "    }\n",
       "\n",
       "    .dataframe tbody tr th {\n",
       "        vertical-align: top;\n",
       "    }\n",
       "\n",
       "    .dataframe thead th {\n",
       "        text-align: right;\n",
       "    }\n",
       "</style>\n",
       "<table border=\"1\" class=\"dataframe\">\n",
       "  <thead>\n",
       "    <tr style=\"text-align: right;\">\n",
       "      <th></th>\n",
       "      <th>id</th>\n",
       "      <th>member_id</th>\n",
       "      <th>loan_amnt</th>\n",
       "      <th>funded_amnt</th>\n",
       "      <th>funded_amnt_inv</th>\n",
       "      <th>term</th>\n",
       "      <th>int_rate</th>\n",
       "      <th>installment</th>\n",
       "      <th>grade</th>\n",
       "      <th>sub_grade</th>\n",
       "      <th>...</th>\n",
       "      <th>hardship_payoff_balance_amount</th>\n",
       "      <th>hardship_last_payment_amount</th>\n",
       "      <th>disbursement_method</th>\n",
       "      <th>debt_settlement_flag</th>\n",
       "      <th>debt_settlement_flag_date</th>\n",
       "      <th>settlement_status</th>\n",
       "      <th>settlement_date</th>\n",
       "      <th>settlement_amount</th>\n",
       "      <th>settlement_percentage</th>\n",
       "      <th>settlement_term</th>\n",
       "    </tr>\n",
       "  </thead>\n",
       "  <tbody>\n",
       "    <tr>\n",
       "      <th>0</th>\n",
       "      <td>38098114</td>\n",
       "      <td>NaN</td>\n",
       "      <td>15000</td>\n",
       "      <td>15000</td>\n",
       "      <td>15000</td>\n",
       "      <td>60 months</td>\n",
       "      <td>12.39</td>\n",
       "      <td>336.64</td>\n",
       "      <td>C</td>\n",
       "      <td>C1</td>\n",
       "      <td>...</td>\n",
       "      <td>NaN</td>\n",
       "      <td>NaN</td>\n",
       "      <td>Cash</td>\n",
       "      <td>N</td>\n",
       "      <td>NaN</td>\n",
       "      <td>NaN</td>\n",
       "      <td>NaN</td>\n",
       "      <td>NaN</td>\n",
       "      <td>NaN</td>\n",
       "      <td>NaN</td>\n",
       "    </tr>\n",
       "    <tr>\n",
       "      <th>1</th>\n",
       "      <td>36805548</td>\n",
       "      <td>NaN</td>\n",
       "      <td>10400</td>\n",
       "      <td>10400</td>\n",
       "      <td>10400</td>\n",
       "      <td>36 months</td>\n",
       "      <td>6.99</td>\n",
       "      <td>321.08</td>\n",
       "      <td>A</td>\n",
       "      <td>A3</td>\n",
       "      <td>...</td>\n",
       "      <td>NaN</td>\n",
       "      <td>NaN</td>\n",
       "      <td>Cash</td>\n",
       "      <td>N</td>\n",
       "      <td>NaN</td>\n",
       "      <td>NaN</td>\n",
       "      <td>NaN</td>\n",
       "      <td>NaN</td>\n",
       "      <td>NaN</td>\n",
       "      <td>NaN</td>\n",
       "    </tr>\n",
       "    <tr>\n",
       "      <th>2</th>\n",
       "      <td>37842129</td>\n",
       "      <td>NaN</td>\n",
       "      <td>21425</td>\n",
       "      <td>21425</td>\n",
       "      <td>21425</td>\n",
       "      <td>60 months</td>\n",
       "      <td>15.59</td>\n",
       "      <td>516.36</td>\n",
       "      <td>D</td>\n",
       "      <td>D1</td>\n",
       "      <td>...</td>\n",
       "      <td>NaN</td>\n",
       "      <td>NaN</td>\n",
       "      <td>Cash</td>\n",
       "      <td>N</td>\n",
       "      <td>NaN</td>\n",
       "      <td>NaN</td>\n",
       "      <td>NaN</td>\n",
       "      <td>NaN</td>\n",
       "      <td>NaN</td>\n",
       "      <td>NaN</td>\n",
       "    </tr>\n",
       "    <tr>\n",
       "      <th>3</th>\n",
       "      <td>37612354</td>\n",
       "      <td>NaN</td>\n",
       "      <td>12800</td>\n",
       "      <td>12800</td>\n",
       "      <td>12800</td>\n",
       "      <td>60 months</td>\n",
       "      <td>17.14</td>\n",
       "      <td>319.08</td>\n",
       "      <td>D</td>\n",
       "      <td>D4</td>\n",
       "      <td>...</td>\n",
       "      <td>NaN</td>\n",
       "      <td>NaN</td>\n",
       "      <td>Cash</td>\n",
       "      <td>N</td>\n",
       "      <td>NaN</td>\n",
       "      <td>NaN</td>\n",
       "      <td>NaN</td>\n",
       "      <td>NaN</td>\n",
       "      <td>NaN</td>\n",
       "      <td>NaN</td>\n",
       "    </tr>\n",
       "    <tr>\n",
       "      <th>4</th>\n",
       "      <td>37662224</td>\n",
       "      <td>NaN</td>\n",
       "      <td>7650</td>\n",
       "      <td>7650</td>\n",
       "      <td>7650</td>\n",
       "      <td>36 months</td>\n",
       "      <td>13.66</td>\n",
       "      <td>260.20</td>\n",
       "      <td>C</td>\n",
       "      <td>C3</td>\n",
       "      <td>...</td>\n",
       "      <td>NaN</td>\n",
       "      <td>NaN</td>\n",
       "      <td>Cash</td>\n",
       "      <td>N</td>\n",
       "      <td>NaN</td>\n",
       "      <td>NaN</td>\n",
       "      <td>NaN</td>\n",
       "      <td>NaN</td>\n",
       "      <td>NaN</td>\n",
       "      <td>NaN</td>\n",
       "    </tr>\n",
       "  </tbody>\n",
       "</table>\n",
       "<p>5 rows × 150 columns</p>\n",
       "</div>"
      ],
      "text/plain": [
       "         id  member_id  loan_amnt  funded_amnt  funded_amnt_inv        term  \\\n",
       "0  38098114        NaN      15000        15000            15000   60 months   \n",
       "1  36805548        NaN      10400        10400            10400   36 months   \n",
       "2  37842129        NaN      21425        21425            21425   60 months   \n",
       "3  37612354        NaN      12800        12800            12800   60 months   \n",
       "4  37662224        NaN       7650         7650             7650   36 months   \n",
       "\n",
       "   int_rate  installment grade sub_grade  ... hardship_payoff_balance_amount  \\\n",
       "0     12.39       336.64     C        C1  ...                            NaN   \n",
       "1      6.99       321.08     A        A3  ...                            NaN   \n",
       "2     15.59       516.36     D        D1  ...                            NaN   \n",
       "3     17.14       319.08     D        D4  ...                            NaN   \n",
       "4     13.66       260.20     C        C3  ...                            NaN   \n",
       "\n",
       "  hardship_last_payment_amount disbursement_method  debt_settlement_flag  \\\n",
       "0                          NaN                Cash                     N   \n",
       "1                          NaN                Cash                     N   \n",
       "2                          NaN                Cash                     N   \n",
       "3                          NaN                Cash                     N   \n",
       "4                          NaN                Cash                     N   \n",
       "\n",
       "  debt_settlement_flag_date settlement_status settlement_date  \\\n",
       "0                       NaN               NaN             NaN   \n",
       "1                       NaN               NaN             NaN   \n",
       "2                       NaN               NaN             NaN   \n",
       "3                       NaN               NaN             NaN   \n",
       "4                       NaN               NaN             NaN   \n",
       "\n",
       "  settlement_amount settlement_percentage settlement_term  \n",
       "0               NaN                   NaN             NaN  \n",
       "1               NaN                   NaN             NaN  \n",
       "2               NaN                   NaN             NaN  \n",
       "3               NaN                   NaN             NaN  \n",
       "4               NaN                   NaN             NaN  \n",
       "\n",
       "[5 rows x 150 columns]"
      ]
     },
     "execution_count": 4,
     "metadata": {},
     "output_type": "execute_result"
    }
   ],
   "source": [
    "df = pd.read_csv(\"HW9_LoansData.csv\")\n",
    "df.head()"
   ]
  },
  {
   "cell_type": "code",
   "execution_count": 5,
   "id": "212f3fff-737a-462f-89c0-a359ef4add89",
   "metadata": {},
   "outputs": [
    {
     "data": {
      "text/plain": [
       "Fully Paid            69982\n",
       "Charged Off           16156\n",
       "Current               12726\n",
       "Late (31-120 days)      730\n",
       "In Grace Period         264\n",
       "Late (16-30 days)       139\n",
       "Default                   3\n",
       "Name: loan_status, dtype: int64"
      ]
     },
     "execution_count": 5,
     "metadata": {},
     "output_type": "execute_result"
    }
   ],
   "source": [
    "df['loan_status'].value_counts(dropna=False)"
   ]
  },
  {
   "cell_type": "code",
   "execution_count": 6,
   "id": "7ef92ee2-abdf-4471-926a-5ccd039d48e7",
   "metadata": {},
   "outputs": [
    {
     "data": {
      "text/plain": [
       "Fully Paid     0.812441\n",
       "Charged Off    0.187559\n",
       "Name: loan_status, dtype: float64"
      ]
     },
     "execution_count": 6,
     "metadata": {},
     "output_type": "execute_result"
    }
   ],
   "source": [
    "df=df.loc[df['loan_status'].isin(['Fully Paid', 'Charged Off'])]\n",
    "df['loan_status'].value_counts(dropna=False, normalize=True)"
   ]
  },
  {
   "cell_type": "code",
   "execution_count": 7,
   "id": "cd3559ef-73d0-45cd-b0fa-a188203c07b2",
   "metadata": {},
   "outputs": [
    {
     "data": {
      "text/plain": [
       "count    86138.000000\n",
       "mean         0.187559\n",
       "std          0.390362\n",
       "min          0.000000\n",
       "25%          0.000000\n",
       "50%          0.000000\n",
       "75%          0.000000\n",
       "max          1.000000\n",
       "Name: charged_off, dtype: float64"
      ]
     },
     "execution_count": 7,
     "metadata": {},
     "output_type": "execute_result"
    }
   ],
   "source": [
    "df['charged_off']=df['loan_status'].map(lambda x: 1 if 'Charged Off' in x else 0)\n",
    "df['charged_off'].describe()"
   ]
  },
  {
   "cell_type": "code",
   "execution_count": 8,
   "id": "3cd51bc1-03b0-4c92-807f-a93dc1b26399",
   "metadata": {},
   "outputs": [],
   "source": [
    "df.drop('loan_status', axis=1, inplace=True)"
   ]
  },
  {
   "cell_type": "code",
   "execution_count": 9,
   "id": "66ecafdd-27e5-4efc-ac6f-7ad21bede42f",
   "metadata": {},
   "outputs": [
    {
     "data": {
      "text/plain": [
       "(86138, 92)"
      ]
     },
     "execution_count": 9,
     "metadata": {},
     "output_type": "execute_result"
    }
   ],
   "source": [
    "missing_frac=df.isnull().mean().sort_values(ascending=False)\n",
    "drop_list=sorted(list(missing_frac[missing_frac>0.3].index))\n",
    "df.drop(labels=drop_list, axis=1, inplace=True)\n",
    "df.shape"
   ]
  },
  {
   "cell_type": "code",
   "execution_count": 10,
   "id": "de2814e5-0210-462f-bd20-bc6900b47e55",
   "metadata": {},
   "outputs": [
    {
     "data": {
      "text/html": [
       "<div>\n",
       "<style scoped>\n",
       "    .dataframe tbody tr th:only-of-type {\n",
       "        vertical-align: middle;\n",
       "    }\n",
       "\n",
       "    .dataframe tbody tr th {\n",
       "        vertical-align: top;\n",
       "    }\n",
       "\n",
       "    .dataframe thead th {\n",
       "        text-align: right;\n",
       "    }\n",
       "</style>\n",
       "<table border=\"1\" class=\"dataframe\">\n",
       "  <thead>\n",
       "    <tr style=\"text-align: right;\">\n",
       "      <th></th>\n",
       "      <th>charged_off</th>\n",
       "      <th>funded_amnt</th>\n",
       "      <th>annual_inc</th>\n",
       "      <th>dti</th>\n",
       "      <th>earliest_cr_line</th>\n",
       "      <th>fico_range_high</th>\n",
       "      <th>home_ownership</th>\n",
       "      <th>installment</th>\n",
       "      <th>int_rate</th>\n",
       "      <th>term</th>\n",
       "      <th>loan_amnt</th>\n",
       "      <th>grade</th>\n",
       "      <th>sub_grade</th>\n",
       "      <th>last_pymnt_amnt</th>\n",
       "      <th>avg_cur_bal</th>\n",
       "      <th>acc_open_past_24mths</th>\n",
       "    </tr>\n",
       "  </thead>\n",
       "  <tbody>\n",
       "    <tr>\n",
       "      <th>0</th>\n",
       "      <td>0</td>\n",
       "      <td>15000</td>\n",
       "      <td>78000.0</td>\n",
       "      <td>12.03</td>\n",
       "      <td>Aug-94</td>\n",
       "      <td>754</td>\n",
       "      <td>RENT</td>\n",
       "      <td>336.64</td>\n",
       "      <td>12.39</td>\n",
       "      <td>60 months</td>\n",
       "      <td>15000</td>\n",
       "      <td>C</td>\n",
       "      <td>C1</td>\n",
       "      <td>12017.81</td>\n",
       "      <td>29828</td>\n",
       "      <td>5</td>\n",
       "    </tr>\n",
       "    <tr>\n",
       "      <th>1</th>\n",
       "      <td>1</td>\n",
       "      <td>10400</td>\n",
       "      <td>58000.0</td>\n",
       "      <td>14.92</td>\n",
       "      <td>Sep-89</td>\n",
       "      <td>714</td>\n",
       "      <td>MORTGAGE</td>\n",
       "      <td>321.08</td>\n",
       "      <td>6.99</td>\n",
       "      <td>36 months</td>\n",
       "      <td>10400</td>\n",
       "      <td>A</td>\n",
       "      <td>A3</td>\n",
       "      <td>321.08</td>\n",
       "      <td>9536</td>\n",
       "      <td>7</td>\n",
       "    </tr>\n",
       "    <tr>\n",
       "      <th>2</th>\n",
       "      <td>0</td>\n",
       "      <td>21425</td>\n",
       "      <td>63800.0</td>\n",
       "      <td>18.49</td>\n",
       "      <td>Aug-03</td>\n",
       "      <td>689</td>\n",
       "      <td>RENT</td>\n",
       "      <td>516.36</td>\n",
       "      <td>15.59</td>\n",
       "      <td>60 months</td>\n",
       "      <td>21425</td>\n",
       "      <td>D</td>\n",
       "      <td>D1</td>\n",
       "      <td>17813.19</td>\n",
       "      <td>4232</td>\n",
       "      <td>4</td>\n",
       "    </tr>\n",
       "    <tr>\n",
       "      <th>4</th>\n",
       "      <td>1</td>\n",
       "      <td>7650</td>\n",
       "      <td>50000.0</td>\n",
       "      <td>34.81</td>\n",
       "      <td>Aug-02</td>\n",
       "      <td>689</td>\n",
       "      <td>RENT</td>\n",
       "      <td>260.20</td>\n",
       "      <td>13.66</td>\n",
       "      <td>36 months</td>\n",
       "      <td>7650</td>\n",
       "      <td>C</td>\n",
       "      <td>C3</td>\n",
       "      <td>17.70</td>\n",
       "      <td>5857</td>\n",
       "      <td>6</td>\n",
       "    </tr>\n",
       "    <tr>\n",
       "      <th>5</th>\n",
       "      <td>0</td>\n",
       "      <td>9600</td>\n",
       "      <td>69000.0</td>\n",
       "      <td>25.81</td>\n",
       "      <td>Nov-92</td>\n",
       "      <td>684</td>\n",
       "      <td>RENT</td>\n",
       "      <td>326.53</td>\n",
       "      <td>13.66</td>\n",
       "      <td>36 months</td>\n",
       "      <td>9600</td>\n",
       "      <td>C</td>\n",
       "      <td>C3</td>\n",
       "      <td>9338.58</td>\n",
       "      <td>3214</td>\n",
       "      <td>8</td>\n",
       "    </tr>\n",
       "  </tbody>\n",
       "</table>\n",
       "</div>"
      ],
      "text/plain": [
       "   charged_off  funded_amnt  annual_inc    dti earliest_cr_line  \\\n",
       "0            0        15000     78000.0  12.03           Aug-94   \n",
       "1            1        10400     58000.0  14.92           Sep-89   \n",
       "2            0        21425     63800.0  18.49           Aug-03   \n",
       "4            1         7650     50000.0  34.81           Aug-02   \n",
       "5            0         9600     69000.0  25.81           Nov-92   \n",
       "\n",
       "   fico_range_high home_ownership  installment  int_rate        term  \\\n",
       "0              754           RENT       336.64     12.39   60 months   \n",
       "1              714       MORTGAGE       321.08      6.99   36 months   \n",
       "2              689           RENT       516.36     15.59   60 months   \n",
       "4              689           RENT       260.20     13.66   36 months   \n",
       "5              684           RENT       326.53     13.66   36 months   \n",
       "\n",
       "   loan_amnt grade sub_grade  last_pymnt_amnt  avg_cur_bal  \\\n",
       "0      15000     C        C1         12017.81        29828   \n",
       "1      10400     A        A3           321.08         9536   \n",
       "2      21425     D        D1         17813.19         4232   \n",
       "4       7650     C        C3            17.70         5857   \n",
       "5       9600     C        C3          9338.58         3214   \n",
       "\n",
       "   acc_open_past_24mths  \n",
       "0                     5  \n",
       "1                     7  \n",
       "2                     4  \n",
       "4                     6  \n",
       "5                     8  "
      ]
     },
     "execution_count": 10,
     "metadata": {},
     "output_type": "execute_result"
    }
   ],
   "source": [
    "keep_list=['charged_off', 'funded_amnt', 'annual_inc', 'dti', 'earliest_cr_line', \\\n",
    "          'fico_range_high', 'home_ownership', 'installment', 'int_rate', 'term', \\\n",
    "          'loan_amnt', 'grade', 'sub_grade', 'last_pymnt_amnt', 'avg_cur_bal', 'acc_open_past_24mths']\n",
    "df=df[keep_list]\n",
    "df.head()"
   ]
  },
  {
   "cell_type": "code",
   "execution_count": 11,
   "id": "bd8a7d52-021a-4907-b15a-d6c27bb95a39",
   "metadata": {},
   "outputs": [
    {
     "data": {
      "text/html": [
       "<div>\n",
       "<style scoped>\n",
       "    .dataframe tbody tr th:only-of-type {\n",
       "        vertical-align: middle;\n",
       "    }\n",
       "\n",
       "    .dataframe tbody tr th {\n",
       "        vertical-align: top;\n",
       "    }\n",
       "\n",
       "    .dataframe thead th {\n",
       "        text-align: right;\n",
       "    }\n",
       "</style>\n",
       "<table border=\"1\" class=\"dataframe\">\n",
       "  <thead>\n",
       "    <tr style=\"text-align: right;\">\n",
       "      <th></th>\n",
       "      <th>charged_off</th>\n",
       "      <th>funded_amnt</th>\n",
       "      <th>annual_inc</th>\n",
       "      <th>dti</th>\n",
       "      <th>fico_range_high</th>\n",
       "      <th>installment</th>\n",
       "      <th>int_rate</th>\n",
       "      <th>loan_amnt</th>\n",
       "      <th>last_pymnt_amnt</th>\n",
       "      <th>avg_cur_bal</th>\n",
       "      <th>acc_open_past_24mths</th>\n",
       "    </tr>\n",
       "  </thead>\n",
       "  <tbody>\n",
       "    <tr>\n",
       "      <th>charged_off</th>\n",
       "      <td>1.000000</td>\n",
       "      <td>0.060818</td>\n",
       "      <td>-0.050349</td>\n",
       "      <td>0.123108</td>\n",
       "      <td>-0.121891</td>\n",
       "      <td>0.032847</td>\n",
       "      <td>0.282825</td>\n",
       "      <td>0.060818</td>\n",
       "      <td>-0.319081</td>\n",
       "      <td>-0.071977</td>\n",
       "      <td>0.105989</td>\n",
       "    </tr>\n",
       "    <tr>\n",
       "      <th>funded_amnt</th>\n",
       "      <td>0.060818</td>\n",
       "      <td>1.000000</td>\n",
       "      <td>0.375339</td>\n",
       "      <td>0.004018</td>\n",
       "      <td>0.145427</td>\n",
       "      <td>0.956720</td>\n",
       "      <td>0.081992</td>\n",
       "      <td>1.000000</td>\n",
       "      <td>0.483553</td>\n",
       "      <td>0.249609</td>\n",
       "      <td>-0.002055</td>\n",
       "    </tr>\n",
       "    <tr>\n",
       "      <th>annual_inc</th>\n",
       "      <td>-0.050349</td>\n",
       "      <td>0.375339</td>\n",
       "      <td>1.000000</td>\n",
       "      <td>-0.211716</td>\n",
       "      <td>0.103118</td>\n",
       "      <td>0.368550</td>\n",
       "      <td>-0.116058</td>\n",
       "      <td>0.375339</td>\n",
       "      <td>0.199016</td>\n",
       "      <td>0.372657</td>\n",
       "      <td>0.041771</td>\n",
       "    </tr>\n",
       "    <tr>\n",
       "      <th>dti</th>\n",
       "      <td>0.123108</td>\n",
       "      <td>0.004018</td>\n",
       "      <td>-0.211716</td>\n",
       "      <td>1.000000</td>\n",
       "      <td>-0.065497</td>\n",
       "      <td>0.005816</td>\n",
       "      <td>0.203275</td>\n",
       "      <td>0.004018</td>\n",
       "      <td>-0.048400</td>\n",
       "      <td>-0.139358</td>\n",
       "      <td>0.165314</td>\n",
       "    </tr>\n",
       "    <tr>\n",
       "      <th>fico_range_high</th>\n",
       "      <td>-0.121891</td>\n",
       "      <td>0.145427</td>\n",
       "      <td>0.103118</td>\n",
       "      <td>-0.065497</td>\n",
       "      <td>1.000000</td>\n",
       "      <td>0.105178</td>\n",
       "      <td>-0.387204</td>\n",
       "      <td>0.145427</td>\n",
       "      <td>0.103165</td>\n",
       "      <td>0.148058</td>\n",
       "      <td>-0.110641</td>\n",
       "    </tr>\n",
       "    <tr>\n",
       "      <th>installment</th>\n",
       "      <td>0.032847</td>\n",
       "      <td>0.956720</td>\n",
       "      <td>0.368550</td>\n",
       "      <td>0.005816</td>\n",
       "      <td>0.105178</td>\n",
       "      <td>1.000000</td>\n",
       "      <td>0.078197</td>\n",
       "      <td>0.956720</td>\n",
       "      <td>0.397907</td>\n",
       "      <td>0.226755</td>\n",
       "      <td>0.007955</td>\n",
       "    </tr>\n",
       "    <tr>\n",
       "      <th>int_rate</th>\n",
       "      <td>0.282825</td>\n",
       "      <td>0.081992</td>\n",
       "      <td>-0.116058</td>\n",
       "      <td>0.203275</td>\n",
       "      <td>-0.387204</td>\n",
       "      <td>0.078197</td>\n",
       "      <td>1.000000</td>\n",
       "      <td>0.081992</td>\n",
       "      <td>0.099688</td>\n",
       "      <td>-0.097410</td>\n",
       "      <td>0.225447</td>\n",
       "    </tr>\n",
       "    <tr>\n",
       "      <th>loan_amnt</th>\n",
       "      <td>0.060818</td>\n",
       "      <td>1.000000</td>\n",
       "      <td>0.375339</td>\n",
       "      <td>0.004018</td>\n",
       "      <td>0.145427</td>\n",
       "      <td>0.956720</td>\n",
       "      <td>0.081992</td>\n",
       "      <td>1.000000</td>\n",
       "      <td>0.483553</td>\n",
       "      <td>0.249609</td>\n",
       "      <td>-0.002055</td>\n",
       "    </tr>\n",
       "    <tr>\n",
       "      <th>last_pymnt_amnt</th>\n",
       "      <td>-0.319081</td>\n",
       "      <td>0.483553</td>\n",
       "      <td>0.199016</td>\n",
       "      <td>-0.048400</td>\n",
       "      <td>0.103165</td>\n",
       "      <td>0.397907</td>\n",
       "      <td>0.099688</td>\n",
       "      <td>0.483553</td>\n",
       "      <td>1.000000</td>\n",
       "      <td>0.178699</td>\n",
       "      <td>0.036069</td>\n",
       "    </tr>\n",
       "    <tr>\n",
       "      <th>avg_cur_bal</th>\n",
       "      <td>-0.071977</td>\n",
       "      <td>0.249609</td>\n",
       "      <td>0.372657</td>\n",
       "      <td>-0.139358</td>\n",
       "      <td>0.148058</td>\n",
       "      <td>0.226755</td>\n",
       "      <td>-0.097410</td>\n",
       "      <td>0.249609</td>\n",
       "      <td>0.178699</td>\n",
       "      <td>1.000000</td>\n",
       "      <td>-0.100472</td>\n",
       "    </tr>\n",
       "    <tr>\n",
       "      <th>acc_open_past_24mths</th>\n",
       "      <td>0.105989</td>\n",
       "      <td>-0.002055</td>\n",
       "      <td>0.041771</td>\n",
       "      <td>0.165314</td>\n",
       "      <td>-0.110641</td>\n",
       "      <td>0.007955</td>\n",
       "      <td>0.225447</td>\n",
       "      <td>-0.002055</td>\n",
       "      <td>0.036069</td>\n",
       "      <td>-0.100472</td>\n",
       "      <td>1.000000</td>\n",
       "    </tr>\n",
       "  </tbody>\n",
       "</table>\n",
       "</div>"
      ],
      "text/plain": [
       "                      charged_off  funded_amnt  annual_inc       dti  \\\n",
       "charged_off              1.000000     0.060818   -0.050349  0.123108   \n",
       "funded_amnt              0.060818     1.000000    0.375339  0.004018   \n",
       "annual_inc              -0.050349     0.375339    1.000000 -0.211716   \n",
       "dti                      0.123108     0.004018   -0.211716  1.000000   \n",
       "fico_range_high         -0.121891     0.145427    0.103118 -0.065497   \n",
       "installment              0.032847     0.956720    0.368550  0.005816   \n",
       "int_rate                 0.282825     0.081992   -0.116058  0.203275   \n",
       "loan_amnt                0.060818     1.000000    0.375339  0.004018   \n",
       "last_pymnt_amnt         -0.319081     0.483553    0.199016 -0.048400   \n",
       "avg_cur_bal             -0.071977     0.249609    0.372657 -0.139358   \n",
       "acc_open_past_24mths     0.105989    -0.002055    0.041771  0.165314   \n",
       "\n",
       "                      fico_range_high  installment  int_rate  loan_amnt  \\\n",
       "charged_off                 -0.121891     0.032847  0.282825   0.060818   \n",
       "funded_amnt                  0.145427     0.956720  0.081992   1.000000   \n",
       "annual_inc                   0.103118     0.368550 -0.116058   0.375339   \n",
       "dti                         -0.065497     0.005816  0.203275   0.004018   \n",
       "fico_range_high              1.000000     0.105178 -0.387204   0.145427   \n",
       "installment                  0.105178     1.000000  0.078197   0.956720   \n",
       "int_rate                    -0.387204     0.078197  1.000000   0.081992   \n",
       "loan_amnt                    0.145427     0.956720  0.081992   1.000000   \n",
       "last_pymnt_amnt              0.103165     0.397907  0.099688   0.483553   \n",
       "avg_cur_bal                  0.148058     0.226755 -0.097410   0.249609   \n",
       "acc_open_past_24mths        -0.110641     0.007955  0.225447  -0.002055   \n",
       "\n",
       "                      last_pymnt_amnt  avg_cur_bal  acc_open_past_24mths  \n",
       "charged_off                 -0.319081    -0.071977              0.105989  \n",
       "funded_amnt                  0.483553     0.249609             -0.002055  \n",
       "annual_inc                   0.199016     0.372657              0.041771  \n",
       "dti                         -0.048400    -0.139358              0.165314  \n",
       "fico_range_high              0.103165     0.148058             -0.110641  \n",
       "installment                  0.397907     0.226755              0.007955  \n",
       "int_rate                     0.099688    -0.097410              0.225447  \n",
       "loan_amnt                    0.483553     0.249609             -0.002055  \n",
       "last_pymnt_amnt              1.000000     0.178699              0.036069  \n",
       "avg_cur_bal                  0.178699     1.000000             -0.100472  \n",
       "acc_open_past_24mths         0.036069    -0.100472              1.000000  "
      ]
     },
     "execution_count": 11,
     "metadata": {},
     "output_type": "execute_result"
    }
   ],
   "source": [
    "corr=df.corr()\n",
    "corr"
   ]
  },
  {
   "cell_type": "code",
   "execution_count": 12,
   "id": "c55fdf11-ddf6-405d-ae69-85f49b38d2e5",
   "metadata": {},
   "outputs": [
    {
     "name": "stdout",
     "output_type": "stream",
     "text": [
      "['annual_inc', 'avg_cur_bal', 'funded_amnt', 'installment', 'loan_amnt']\n"
     ]
    }
   ],
   "source": [
    "corr_chagedoff=abs(corr['charged_off'])\n",
    "drop_list_corr=sorted(list(corr_chagedoff[corr_chagedoff<0.10].index))\n",
    "print(drop_list_corr)"
   ]
  },
  {
   "cell_type": "code",
   "execution_count": 13,
   "id": "e132ab37-0b5a-4fb2-b7f4-cc7c9d9dab64",
   "metadata": {},
   "outputs": [
    {
     "data": {
      "text/plain": [
       "(86138, 11)"
      ]
     },
     "execution_count": 13,
     "metadata": {},
     "output_type": "execute_result"
    }
   ],
   "source": [
    "df.drop(labels=drop_list_corr, axis=1, inplace=True)\n",
    "df.shape"
   ]
  },
  {
   "cell_type": "code",
   "execution_count": 14,
   "id": "0531fcc6-0e25-4721-8fbc-a0cd0544160a",
   "metadata": {},
   "outputs": [
    {
     "data": {
      "text/plain": [
       " 36 months    67507\n",
       " 60 months    18631\n",
       "Name: term, dtype: int64"
      ]
     },
     "execution_count": 14,
     "metadata": {},
     "output_type": "execute_result"
    }
   ],
   "source": [
    "df['term'].value_counts()"
   ]
  },
  {
   "cell_type": "code",
   "execution_count": 15,
   "id": "e0ca94ea-b66d-4985-9a40-692bf8707680",
   "metadata": {},
   "outputs": [
    {
     "data": {
      "text/plain": [
       "term\n",
       "36    0.141526\n",
       "60    0.354356\n",
       "Name: charged_off, dtype: float64"
      ]
     },
     "execution_count": 15,
     "metadata": {},
     "output_type": "execute_result"
    }
   ],
   "source": [
    "df['term']=df['term'].map(lambda x: 36 if '36 months' in x else 60)\n",
    "df.groupby('term')['charged_off'].value_counts(normalize=True).loc[:,1]"
   ]
  },
  {
   "cell_type": "code",
   "execution_count": 16,
   "id": "14c9ee2e-a015-412b-83ef-b25a0b942fa6",
   "metadata": {},
   "outputs": [
    {
     "data": {
      "text/plain": [
       "<AxesSubplot:xlabel='grade'>"
      ]
     },
     "execution_count": 16,
     "metadata": {},
     "output_type": "execute_result"
    },
    {
     "data": {
      "image/png": "[encoded data removed]",
      "text/plain": [
       "<Figure size 640x480 with 1 Axes>"
      ]
     },
     "metadata": {},
     "output_type": "display_data"
    }
   ],
   "source": [
    "chargeoff_rate_g=df.groupby('grade')['charged_off'].value_counts(normalize=True).loc[:,1]\n",
    "sns.barplot(x=chargeoff_rate_g.index, y=chargeoff_rate_g.values)"
   ]
  },
  {
   "cell_type": "code",
   "execution_count": 17,
   "id": "ce9235cb-f4ca-47f8-954e-62dfdcacb157",
   "metadata": {},
   "outputs": [
    {
     "data": {
      "text/plain": [
       "<AxesSubplot:xlabel='sub_grade'>"
      ]
     },
     "execution_count": 17,
     "metadata": {},
     "output_type": "execute_result"
    },
    {
     "data": {
      "image/png": "[encoded data removed]",
      "text/plain": [
       "<Figure size 1000x500 with 1 Axes>"
      ]
     },
     "metadata": {},
     "output_type": "display_data"
    }
   ],
   "source": [
    "chargeoff_rate_sg=df.groupby('sub_grade')['charged_off'].value_counts(normalize=True).loc[:,1]\n",
    "plt.figure(figsize=(10,5))\n",
    "sns.barplot(x=chargeoff_rate_sg.index, y=chargeoff_rate_sg.values)"
   ]
  },
  {
   "cell_type": "code",
   "execution_count": 18,
   "id": "76e62f24-88f4-4e6e-9f0f-a9af3d92df2a",
   "metadata": {},
   "outputs": [
    {
     "data": {
      "text/plain": [
       "(86138, 10)"
      ]
     },
     "execution_count": 18,
     "metadata": {},
     "output_type": "execute_result"
    }
   ],
   "source": [
    "df.drop(['grade'], axis=1, inplace=True)\n",
    "df.shape"
   ]
  },
  {
   "cell_type": "code",
   "execution_count": 19,
   "id": "ef7c520f-e2c5-4bc0-81d5-042671cec2d3",
   "metadata": {},
   "outputs": [
    {
     "data": {
      "text/plain": [
       "count     86138\n",
       "unique       35\n",
       "top          C1\n",
       "freq       5217\n",
       "Name: sub_grade, dtype: object"
      ]
     },
     "execution_count": 19,
     "metadata": {},
     "output_type": "execute_result"
    }
   ],
   "source": [
    "df.sub_grade.describe()"
   ]
  },
  {
   "cell_type": "code",
   "execution_count": 20,
   "id": "e89e80fb-1e9b-4006-b6cb-dad3a63f1cc1",
   "metadata": {},
   "outputs": [
    {
     "data": {
      "text/plain": [
       "['earliest_cr_line', 'home_ownership', 'sub_grade']"
      ]
     },
     "execution_count": 20,
     "metadata": {},
     "output_type": "execute_result"
    }
   ],
   "source": [
    "cat_mask=df.dtypes==object\n",
    "\n",
    "# Filter categorical columns using the mask and turn them into a list:\n",
    "cat_cols=df.columns[cat_mask].tolist()\n",
    "cat_cols"
   ]
  },
  {
   "cell_type": "code",
   "execution_count": 21,
   "id": "79c5497b-73e4-45d8-98bf-dc162ae929f6",
   "metadata": {},
   "outputs": [
    {
     "data": {
      "text/html": [
       "<div>\n",
       "<style scoped>\n",
       "    .dataframe tbody tr th:only-of-type {\n",
       "        vertical-align: middle;\n",
       "    }\n",
       "\n",
       "    .dataframe tbody tr th {\n",
       "        vertical-align: top;\n",
       "    }\n",
       "\n",
       "    .dataframe thead th {\n",
       "        text-align: right;\n",
       "    }\n",
       "</style>\n",
       "<table border=\"1\" class=\"dataframe\">\n",
       "  <thead>\n",
       "    <tr style=\"text-align: right;\">\n",
       "      <th></th>\n",
       "      <th>charged_off</th>\n",
       "      <th>dti</th>\n",
       "      <th>fico_range_high</th>\n",
       "      <th>int_rate</th>\n",
       "      <th>term</th>\n",
       "      <th>last_pymnt_amnt</th>\n",
       "      <th>acc_open_past_24mths</th>\n",
       "      <th>home_ownership_code</th>\n",
       "      <th>sub_grade_code</th>\n",
       "    </tr>\n",
       "  </thead>\n",
       "  <tbody>\n",
       "    <tr>\n",
       "      <th>count</th>\n",
       "      <td>86138.000000</td>\n",
       "      <td>86138.000000</td>\n",
       "      <td>86138.000000</td>\n",
       "      <td>86138.000000</td>\n",
       "      <td>86138.000000</td>\n",
       "      <td>86138.000000</td>\n",
       "      <td>86138.000000</td>\n",
       "      <td>86138.000000</td>\n",
       "      <td>86138.000000</td>\n",
       "    </tr>\n",
       "    <tr>\n",
       "      <th>mean</th>\n",
       "      <td>0.187559</td>\n",
       "      <td>18.532747</td>\n",
       "      <td>696.463024</td>\n",
       "      <td>13.002360</td>\n",
       "      <td>41.191019</td>\n",
       "      <td>4757.453184</td>\n",
       "      <td>4.594732</td>\n",
       "      <td>1.925318</td>\n",
       "      <td>10.747127</td>\n",
       "    </tr>\n",
       "    <tr>\n",
       "      <th>std</th>\n",
       "      <td>0.390362</td>\n",
       "      <td>8.538247</td>\n",
       "      <td>29.731848</td>\n",
       "      <td>4.397419</td>\n",
       "      <td>9.881240</td>\n",
       "      <td>6466.767327</td>\n",
       "      <td>3.070996</td>\n",
       "      <td>0.943402</td>\n",
       "      <td>6.678662</td>\n",
       "    </tr>\n",
       "    <tr>\n",
       "      <th>min</th>\n",
       "      <td>0.000000</td>\n",
       "      <td>0.000000</td>\n",
       "      <td>664.000000</td>\n",
       "      <td>6.000000</td>\n",
       "      <td>36.000000</td>\n",
       "      <td>0.000000</td>\n",
       "      <td>0.000000</td>\n",
       "      <td>0.000000</td>\n",
       "      <td>0.000000</td>\n",
       "    </tr>\n",
       "    <tr>\n",
       "      <th>25%</th>\n",
       "      <td>0.000000</td>\n",
       "      <td>12.070000</td>\n",
       "      <td>674.000000</td>\n",
       "      <td>9.490000</td>\n",
       "      <td>36.000000</td>\n",
       "      <td>358.522500</td>\n",
       "      <td>2.000000</td>\n",
       "      <td>1.000000</td>\n",
       "      <td>6.000000</td>\n",
       "    </tr>\n",
       "    <tr>\n",
       "      <th>50%</th>\n",
       "      <td>0.000000</td>\n",
       "      <td>17.950000</td>\n",
       "      <td>689.000000</td>\n",
       "      <td>12.990000</td>\n",
       "      <td>36.000000</td>\n",
       "      <td>1241.230000</td>\n",
       "      <td>4.000000</td>\n",
       "      <td>2.000000</td>\n",
       "      <td>10.000000</td>\n",
       "    </tr>\n",
       "    <tr>\n",
       "      <th>75%</th>\n",
       "      <td>0.000000</td>\n",
       "      <td>24.500000</td>\n",
       "      <td>709.000000</td>\n",
       "      <td>15.610000</td>\n",
       "      <td>36.000000</td>\n",
       "      <td>7303.205000</td>\n",
       "      <td>6.000000</td>\n",
       "      <td>3.000000</td>\n",
       "      <td>15.000000</td>\n",
       "    </tr>\n",
       "    <tr>\n",
       "      <th>max</th>\n",
       "      <td>1.000000</td>\n",
       "      <td>39.990000</td>\n",
       "      <td>850.000000</td>\n",
       "      <td>26.060000</td>\n",
       "      <td>60.000000</td>\n",
       "      <td>36234.440000</td>\n",
       "      <td>53.000000</td>\n",
       "      <td>3.000000</td>\n",
       "      <td>34.000000</td>\n",
       "    </tr>\n",
       "  </tbody>\n",
       "</table>\n",
       "</div>"
      ],
      "text/plain": [
       "        charged_off           dti  fico_range_high      int_rate  \\\n",
       "count  86138.000000  86138.000000     86138.000000  86138.000000   \n",
       "mean       0.187559     18.532747       696.463024     13.002360   \n",
       "std        0.390362      8.538247        29.731848      4.397419   \n",
       "min        0.000000      0.000000       664.000000      6.000000   \n",
       "25%        0.000000     12.070000       674.000000      9.490000   \n",
       "50%        0.000000     17.950000       689.000000     12.990000   \n",
       "75%        0.000000     24.500000       709.000000     15.610000   \n",
       "max        1.000000     39.990000       850.000000     26.060000   \n",
       "\n",
       "               term  last_pymnt_amnt  acc_open_past_24mths  \\\n",
       "count  86138.000000     86138.000000          86138.000000   \n",
       "mean      41.191019      4757.453184              4.594732   \n",
       "std        9.881240      6466.767327              3.070996   \n",
       "min       36.000000         0.000000              0.000000   \n",
       "25%       36.000000       358.522500              2.000000   \n",
       "50%       36.000000      1241.230000              4.000000   \n",
       "75%       36.000000      7303.205000              6.000000   \n",
       "max       60.000000     36234.440000             53.000000   \n",
       "\n",
       "       home_ownership_code  sub_grade_code  \n",
       "count         86138.000000    86138.000000  \n",
       "mean              1.925318       10.747127  \n",
       "std               0.943402        6.678662  \n",
       "min               0.000000        0.000000  \n",
       "25%               1.000000        6.000000  \n",
       "50%               2.000000       10.000000  \n",
       "75%               3.000000       15.000000  \n",
       "max               3.000000       34.000000  "
      ]
     },
     "execution_count": 21,
     "metadata": {},
     "output_type": "execute_result"
    }
   ],
   "source": [
    "df['home_ownership_code']=LabelEncoder().fit_transform(df.home_ownership)\n",
    "df['sub_grade_code']=LabelEncoder().fit_transform(df.sub_grade)\n",
    "df.describe()"
   ]
  },
  {
   "cell_type": "code",
   "execution_count": 22,
   "id": "643f1823-99ed-43a7-9e04-e1e1f4603185",
   "metadata": {},
   "outputs": [
    {
     "data": {
      "text/plain": [
       "(86138, 9)"
      ]
     },
     "execution_count": 22,
     "metadata": {},
     "output_type": "execute_result"
    }
   ],
   "source": [
    "df.drop(cat_cols, axis=1, inplace=True)\n",
    "df.shape"
   ]
  },
  {
   "cell_type": "code",
   "execution_count": 23,
   "id": "34c1f9d6-557a-4623-b654-a42de4857332",
   "metadata": {},
   "outputs": [
    {
     "data": {
      "text/html": [
       "<div>\n",
       "<style scoped>\n",
       "    .dataframe tbody tr th:only-of-type {\n",
       "        vertical-align: middle;\n",
       "    }\n",
       "\n",
       "    .dataframe tbody tr th {\n",
       "        vertical-align: top;\n",
       "    }\n",
       "\n",
       "    .dataframe thead th {\n",
       "        text-align: right;\n",
       "    }\n",
       "</style>\n",
       "<table border=\"1\" class=\"dataframe\">\n",
       "  <thead>\n",
       "    <tr style=\"text-align: right;\">\n",
       "      <th></th>\n",
       "      <th>charged_off</th>\n",
       "      <th>dti</th>\n",
       "      <th>fico_range_high</th>\n",
       "      <th>int_rate</th>\n",
       "      <th>term</th>\n",
       "      <th>last_pymnt_amnt</th>\n",
       "      <th>acc_open_past_24mths</th>\n",
       "      <th>home_ownership_code</th>\n",
       "      <th>sub_grade_code</th>\n",
       "    </tr>\n",
       "  </thead>\n",
       "  <tbody>\n",
       "    <tr>\n",
       "      <th>0</th>\n",
       "      <td>0</td>\n",
       "      <td>12.03</td>\n",
       "      <td>754</td>\n",
       "      <td>12.39</td>\n",
       "      <td>60</td>\n",
       "      <td>12017.81</td>\n",
       "      <td>5</td>\n",
       "      <td>3</td>\n",
       "      <td>10</td>\n",
       "    </tr>\n",
       "    <tr>\n",
       "      <th>1</th>\n",
       "      <td>1</td>\n",
       "      <td>14.92</td>\n",
       "      <td>714</td>\n",
       "      <td>6.99</td>\n",
       "      <td>36</td>\n",
       "      <td>321.08</td>\n",
       "      <td>7</td>\n",
       "      <td>1</td>\n",
       "      <td>2</td>\n",
       "    </tr>\n",
       "    <tr>\n",
       "      <th>2</th>\n",
       "      <td>0</td>\n",
       "      <td>18.49</td>\n",
       "      <td>689</td>\n",
       "      <td>15.59</td>\n",
       "      <td>60</td>\n",
       "      <td>17813.19</td>\n",
       "      <td>4</td>\n",
       "      <td>3</td>\n",
       "      <td>15</td>\n",
       "    </tr>\n",
       "    <tr>\n",
       "      <th>4</th>\n",
       "      <td>1</td>\n",
       "      <td>34.81</td>\n",
       "      <td>689</td>\n",
       "      <td>13.66</td>\n",
       "      <td>36</td>\n",
       "      <td>17.70</td>\n",
       "      <td>6</td>\n",
       "      <td>3</td>\n",
       "      <td>12</td>\n",
       "    </tr>\n",
       "    <tr>\n",
       "      <th>5</th>\n",
       "      <td>0</td>\n",
       "      <td>25.81</td>\n",
       "      <td>684</td>\n",
       "      <td>13.66</td>\n",
       "      <td>36</td>\n",
       "      <td>9338.58</td>\n",
       "      <td>8</td>\n",
       "      <td>3</td>\n",
       "      <td>12</td>\n",
       "    </tr>\n",
       "  </tbody>\n",
       "</table>\n",
       "</div>"
      ],
      "text/plain": [
       "   charged_off    dti  fico_range_high  int_rate  term  last_pymnt_amnt  \\\n",
       "0            0  12.03              754     12.39    60         12017.81   \n",
       "1            1  14.92              714      6.99    36           321.08   \n",
       "2            0  18.49              689     15.59    60         17813.19   \n",
       "4            1  34.81              689     13.66    36            17.70   \n",
       "5            0  25.81              684     13.66    36          9338.58   \n",
       "\n",
       "   acc_open_past_24mths  home_ownership_code  sub_grade_code  \n",
       "0                     5                    3              10  \n",
       "1                     7                    1               2  \n",
       "2                     4                    3              15  \n",
       "4                     6                    3              12  \n",
       "5                     8                    3              12  "
      ]
     },
     "execution_count": 23,
     "metadata": {},
     "output_type": "execute_result"
    }
   ],
   "source": [
    "df.head()"
   ]
  },
  {
   "cell_type": "code",
   "execution_count": 24,
   "id": "a036846f-2b21-4d03-b521-17b34a63e476",
   "metadata": {},
   "outputs": [
    {
     "data": {
      "text/plain": [
       "1681     0\n",
       "55818    0\n",
       "21667    1\n",
       "Name: charged_off, dtype: int64"
      ]
     },
     "execution_count": 24,
     "metadata": {},
     "output_type": "execute_result"
    }
   ],
   "source": [
    "y = df['charged_off']\n",
    "x = df.loc[:, df.columns != 'charged_off']\n",
    "x_train, x_test, y_train, y_test = train_test_split(x, y, test_size=0.25, random_state=666)\n",
    "y_test.sample(3)"
   ]
  },
  {
   "cell_type": "code",
   "execution_count": 25,
   "id": "d26b0c01-ec94-43c8-ae16-3fa82ad14b89",
   "metadata": {},
   "outputs": [
    {
     "data": {
      "text/plain": [
       "SVC(C=10, class_weight='balanced', random_state=666)"
      ]
     },
     "execution_count": 25,
     "metadata": {},
     "output_type": "execute_result"
    }
   ],
   "source": [
    "SVC = SVC(kernel='rbf', C=10, class_weight='balanced', random_state=666) \n",
    "SVC.fit(x_train, y_train)"
   ]
  },
  {
   "cell_type": "code",
   "execution_count": 26,
   "id": "7c8776cc-7b9b-4100-97bd-e51294563f72",
   "metadata": {},
   "outputs": [
    {
     "data": {
      "text/plain": [
       "<sklearn.metrics._plot.confusion_matrix.ConfusionMatrixDisplay at 0x7fa9405bb0a0>"
      ]
     },
     "execution_count": 26,
     "metadata": {},
     "output_type": "execute_result"
    },
    {
     "data": {
      "image/png": "[encoded data removed]",
      "text/plain": [
       "<Figure size 640x480 with 2 Axes>"
      ]
     },
     "metadata": {},
     "output_type": "display_data"
    }
   ],
   "source": [
    "ConfusionMatrixDisplay.from_estimator(SVC, x_test, y_test)"
   ]
  },
  {
   "cell_type": "code",
   "execution_count": 27,
   "id": "771ac279-77e6-4f08-a8f7-cbf5a694097e",
   "metadata": {},
   "outputs": [
    {
     "data": {
      "text/plain": [
       "0    69982\n",
       "1    16156\n",
       "Name: charged_off, dtype: int64"
      ]
     },
     "execution_count": 27,
     "metadata": {},
     "output_type": "execute_result"
    }
   ],
   "source": [
    "df['charged_off'].value_counts()"
   ]
  },
  {
   "cell_type": "code",
   "execution_count": 28,
   "id": "a1f4ab5c-1a22-4a08-8d5e-71141fc0b303",
   "metadata": {},
   "outputs": [
    {
     "data": {
      "text/plain": [
       "(30000, 9)"
      ]
     },
     "execution_count": 28,
     "metadata": {},
     "output_type": "execute_result"
    }
   ],
   "source": [
    "y0 = df[df['charged_off']==0]\n",
    "y1 = df[df['charged_off']==1]\n",
    "subset_y0 = y0.sample(n=15000)\n",
    "subset_y1 = y1.sample(n=15000)\n",
    "df2 = pd.concat([subset_y0, subset_y1])\n",
    "df2 = df2.sample(frac=1).reset_index(drop=True)\n",
    "df2.shape"
   ]
  },
  {
   "cell_type": "code",
   "execution_count": 29,
   "id": "c6d9bf9d-48d6-4bf9-a237-f439287b8183",
   "metadata": {},
   "outputs": [
    {
     "data": {
      "text/plain": [
       "21149    1\n",
       "9916     1\n",
       "25042    1\n",
       "Name: charged_off, dtype: int64"
      ]
     },
     "execution_count": 29,
     "metadata": {},
     "output_type": "execute_result"
    }
   ],
   "source": [
    "# Split the balanced sample:\n",
    "y = df2['charged_off']\n",
    "x = df2.loc[:, df2.columns != 'charged_off']\n",
    "x_train, x_test, y_train, y_test = train_test_split(x, y, test_size=0.25, random_state=666)\n",
    "y_test.sample(3)"
   ]
  },
  {
   "cell_type": "code",
   "execution_count": 30,
   "id": "361cb9a4-c8ea-4474-a5d2-6fa3125fd5f3",
   "metadata": {},
   "outputs": [
    {
     "name": "stdout",
     "output_type": "stream",
     "text": [
      "GB Accuracy Score = 0.8574666666666667\n",
      "GB Classification Report:\n",
      "              precision    recall  f1-score   support\n",
      "\n",
      "           0       0.88      0.82      0.85      3682\n",
      "           1       0.84      0.89      0.86      3818\n",
      "\n",
      "    accuracy                           0.86      7500\n",
      "   macro avg       0.86      0.86      0.86      7500\n",
      "weighted avg       0.86      0.86      0.86      7500\n",
      "\n"
     ]
    },
    {
     "data": {
      "image/png": "[encoded data removed]",
      "text/plain": [
       "<Figure size 640x480 with 2 Axes>"
      ]
     },
     "metadata": {},
     "output_type": "display_data"
    }
   ],
   "source": [
    "gbc = GradientBoostingClassifier(random_state=666, n_estimators=200, max_depth=8, learning_rate=.5)\n",
    "gbc.fit(x_train, y_train)\n",
    "\n",
    "# Confusion matrix:\n",
    "# plot_confusion_matrix(gbc, x_test, y_test) #old command\n",
    "ConfusionMatrixDisplay.from_estimator(gbc, x_test, y_test)\n",
    "\n",
    "# Evaluation metrics:\n",
    "y_pred = gbc.predict(x_test)\n",
    "gbc_score = accuracy_score(y_test, y_pred)\n",
    "print(f'GB Accuracy Score = {gbc_score}')\n",
    "print('GB Classification Report:')\n",
    "print(classification_report(y_test, y_pred))"
   ]
  },
  {
   "cell_type": "code",
   "execution_count": 31,
   "id": "2dfcfdea-0577-443f-8daa-97f00abd09a4",
   "metadata": {},
   "outputs": [
    {
     "data": {
      "text/html": [
       "<div>\n",
       "<style scoped>\n",
       "    .dataframe tbody tr th:only-of-type {\n",
       "        vertical-align: middle;\n",
       "    }\n",
       "\n",
       "    .dataframe tbody tr th {\n",
       "        vertical-align: top;\n",
       "    }\n",
       "\n",
       "    .dataframe thead th {\n",
       "        text-align: right;\n",
       "    }\n",
       "</style>\n",
       "<table border=\"1\" class=\"dataframe\">\n",
       "  <thead>\n",
       "    <tr style=\"text-align: right;\">\n",
       "      <th></th>\n",
       "      <th>Age</th>\n",
       "      <th>Workclass</th>\n",
       "      <th>FNLWGT</th>\n",
       "      <th>Education</th>\n",
       "      <th>EducationLevel</th>\n",
       "      <th>MaritalStatus</th>\n",
       "      <th>Occupation</th>\n",
       "      <th>Relationship</th>\n",
       "      <th>Race</th>\n",
       "      <th>Sex</th>\n",
       "      <th>CapitalGain</th>\n",
       "      <th>CapitalLoss</th>\n",
       "      <th>HoursPerWeek</th>\n",
       "      <th>NativeCountry</th>\n",
       "      <th>Salary</th>\n",
       "    </tr>\n",
       "  </thead>\n",
       "  <tbody>\n",
       "    <tr>\n",
       "      <th>0</th>\n",
       "      <td>62</td>\n",
       "      <td>Local-gov</td>\n",
       "      <td>68268</td>\n",
       "      <td>HS-grad</td>\n",
       "      <td>9</td>\n",
       "      <td>Married-civ-spouse</td>\n",
       "      <td>Transport-moving</td>\n",
       "      <td>Husband</td>\n",
       "      <td>White</td>\n",
       "      <td>Male</td>\n",
       "      <td>0</td>\n",
       "      <td>0</td>\n",
       "      <td>40</td>\n",
       "      <td>United-States</td>\n",
       "      <td>&lt;=50K</td>\n",
       "    </tr>\n",
       "    <tr>\n",
       "      <th>1</th>\n",
       "      <td>50</td>\n",
       "      <td>Private</td>\n",
       "      <td>215990</td>\n",
       "      <td>HS-grad</td>\n",
       "      <td>9</td>\n",
       "      <td>Married-civ-spouse</td>\n",
       "      <td>Craft-repair</td>\n",
       "      <td>Husband</td>\n",
       "      <td>White</td>\n",
       "      <td>Male</td>\n",
       "      <td>0</td>\n",
       "      <td>0</td>\n",
       "      <td>40</td>\n",
       "      <td>United-States</td>\n",
       "      <td>&gt;50K</td>\n",
       "    </tr>\n",
       "    <tr>\n",
       "      <th>2</th>\n",
       "      <td>36</td>\n",
       "      <td>Private</td>\n",
       "      <td>185405</td>\n",
       "      <td>HS-grad</td>\n",
       "      <td>9</td>\n",
       "      <td>Married-civ-spouse</td>\n",
       "      <td>Adm-clerical</td>\n",
       "      <td>Husband</td>\n",
       "      <td>White</td>\n",
       "      <td>Male</td>\n",
       "      <td>0</td>\n",
       "      <td>0</td>\n",
       "      <td>50</td>\n",
       "      <td>United-States</td>\n",
       "      <td>&gt;50K</td>\n",
       "    </tr>\n",
       "    <tr>\n",
       "      <th>3</th>\n",
       "      <td>64</td>\n",
       "      <td>Private</td>\n",
       "      <td>258006</td>\n",
       "      <td>Some-college</td>\n",
       "      <td>10</td>\n",
       "      <td>Widowed</td>\n",
       "      <td>Adm-clerical</td>\n",
       "      <td>Not-in-family</td>\n",
       "      <td>White</td>\n",
       "      <td>Female</td>\n",
       "      <td>0</td>\n",
       "      <td>0</td>\n",
       "      <td>40</td>\n",
       "      <td>Cuba</td>\n",
       "      <td>&lt;=50K</td>\n",
       "    </tr>\n",
       "    <tr>\n",
       "      <th>4</th>\n",
       "      <td>28</td>\n",
       "      <td>Self-emp-not-inc</td>\n",
       "      <td>39388</td>\n",
       "      <td>Assoc-voc</td>\n",
       "      <td>11</td>\n",
       "      <td>Married-civ-spouse</td>\n",
       "      <td>Farming-fishing</td>\n",
       "      <td>Husband</td>\n",
       "      <td>White</td>\n",
       "      <td>Male</td>\n",
       "      <td>0</td>\n",
       "      <td>0</td>\n",
       "      <td>60</td>\n",
       "      <td>United-States</td>\n",
       "      <td>&lt;=50K</td>\n",
       "    </tr>\n",
       "  </tbody>\n",
       "</table>\n",
       "</div>"
      ],
      "text/plain": [
       "   Age          Workclass  FNLWGT      Education  EducationLevel  \\\n",
       "0   62          Local-gov   68268        HS-grad               9   \n",
       "1   50            Private  215990        HS-grad               9   \n",
       "2   36            Private  185405        HS-grad               9   \n",
       "3   64            Private  258006   Some-college              10   \n",
       "4   28   Self-emp-not-inc   39388      Assoc-voc              11   \n",
       "\n",
       "         MaritalStatus         Occupation    Relationship    Race      Sex  \\\n",
       "0   Married-civ-spouse   Transport-moving         Husband   White     Male   \n",
       "1   Married-civ-spouse       Craft-repair         Husband   White     Male   \n",
       "2   Married-civ-spouse       Adm-clerical         Husband   White     Male   \n",
       "3              Widowed       Adm-clerical   Not-in-family   White   Female   \n",
       "4   Married-civ-spouse    Farming-fishing         Husband   White     Male   \n",
       "\n",
       "   CapitalGain  CapitalLoss  HoursPerWeek   NativeCountry  Salary  \n",
       "0            0            0            40   United-States   <=50K  \n",
       "1            0            0            40   United-States    >50K  \n",
       "2            0            0            50   United-States    >50K  \n",
       "3            0            0            40            Cuba   <=50K  \n",
       "4            0            0            60   United-States   <=50K  "
      ]
     },
     "execution_count": 31,
     "metadata": {},
     "output_type": "execute_result"
    }
   ],
   "source": [
    "df = pd.read_csv('HW9_income.csv')\n",
    "df.shape\n",
    "df.head()"
   ]
  },
  {
   "cell_type": "code",
   "execution_count": 32,
   "id": "c7a01a40-cbac-4ebe-8e18-1c3d0b168c05",
   "metadata": {},
   "outputs": [
    {
     "data": {
      "text/plain": [
       "0    3084\n",
       "1     916\n",
       "Name: HighIncome, dtype: int64"
      ]
     },
     "execution_count": 32,
     "metadata": {},
     "output_type": "execute_result"
    }
   ],
   "source": [
    "df['HighIncome'] = df['Salary'].map(lambda x : 1 if '>50K' in x else 0)\n",
    "df['HighIncome'].value_counts()"
   ]
  },
  {
   "cell_type": "code",
   "execution_count": 33,
   "id": "3dd2fe94-241a-4bff-9279-e1e11457f04b",
   "metadata": {},
   "outputs": [
    {
     "data": {
      "text/plain": [
       "1    2690\n",
       "0    1310\n",
       "Name: Gender, dtype: int64"
      ]
     },
     "execution_count": 33,
     "metadata": {},
     "output_type": "execute_result"
    }
   ],
   "source": [
    "df['Gender'] = df['Sex'].map(lambda x : 1 if 'Male' in x else 0)\n",
    "df['Gender'].value_counts()"
   ]
  },
  {
   "cell_type": "markdown",
   "id": "31f0857e-fea4-4542-b82f-343b0db2b113",
   "metadata": {},
   "source": [
    "## Feature selection "
   ]
  },
  {
   "cell_type": "code",
   "execution_count": 34,
   "id": "d5b40f43-b19d-4aa8-9d5b-c98cdabc2a10",
   "metadata": {},
   "outputs": [
    {
     "data": {
      "text/plain": [
       "(4000, 17)"
      ]
     },
     "execution_count": 34,
     "metadata": {},
     "output_type": "execute_result"
    }
   ],
   "source": [
    "# Eliminating variables with many missing values:\n",
    "missing_frac=df.isnull().mean().sort_values(ascending=False)\n",
    "drop_list=sorted(list(missing_frac[missing_frac>0.3].index))\n",
    "df.drop(labels=drop_list, axis=1, inplace=True)\n",
    "df.shape"
   ]
  },
  {
   "cell_type": "code",
   "execution_count": 35,
   "id": "af1967b1-ab4c-4dd8-b3c5-0ba154ea772e",
   "metadata": {},
   "outputs": [
    {
     "data": {
      "text/plain": [
       "(4000, 10)"
      ]
     },
     "execution_count": 35,
     "metadata": {},
     "output_type": "execute_result"
    }
   ],
   "source": [
    "# Eliminating variables based on intuition: (this is subjective)\n",
    "keep_list=['Gender', 'EducationLevel', 'HoursPerWeek', 'CapitalGain','Age', 'HighIncome', 'Occupation',\n",
    "           'Workclass', 'MaritalStatus', 'Relationship']\n",
    "df=df[keep_list]\n",
    "df.shape"
   ]
  },
  {
   "cell_type": "code",
   "execution_count": 36,
   "id": "4a5327d5-a8b7-4e59-ace1-d2b0575720a1",
   "metadata": {},
   "outputs": [
    {
     "data": {
      "text/html": [
       "<div>\n",
       "<style scoped>\n",
       "    .dataframe tbody tr th:only-of-type {\n",
       "        vertical-align: middle;\n",
       "    }\n",
       "\n",
       "    .dataframe tbody tr th {\n",
       "        vertical-align: top;\n",
       "    }\n",
       "\n",
       "    .dataframe thead th {\n",
       "        text-align: right;\n",
       "    }\n",
       "</style>\n",
       "<table border=\"1\" class=\"dataframe\">\n",
       "  <thead>\n",
       "    <tr style=\"text-align: right;\">\n",
       "      <th></th>\n",
       "      <th>Gender</th>\n",
       "      <th>EducationLevel</th>\n",
       "      <th>HoursPerWeek</th>\n",
       "      <th>CapitalGain</th>\n",
       "      <th>Age</th>\n",
       "      <th>HighIncome</th>\n",
       "    </tr>\n",
       "  </thead>\n",
       "  <tbody>\n",
       "    <tr>\n",
       "      <th>Gender</th>\n",
       "      <td>1.000000</td>\n",
       "      <td>0.012809</td>\n",
       "      <td>0.207148</td>\n",
       "      <td>0.067635</td>\n",
       "      <td>0.094933</td>\n",
       "      <td>0.233259</td>\n",
       "    </tr>\n",
       "    <tr>\n",
       "      <th>EducationLevel</th>\n",
       "      <td>0.012809</td>\n",
       "      <td>1.000000</td>\n",
       "      <td>0.165150</td>\n",
       "      <td>0.128875</td>\n",
       "      <td>0.035994</td>\n",
       "      <td>0.327435</td>\n",
       "    </tr>\n",
       "    <tr>\n",
       "      <th>HoursPerWeek</th>\n",
       "      <td>0.207148</td>\n",
       "      <td>0.165150</td>\n",
       "      <td>1.000000</td>\n",
       "      <td>0.095176</td>\n",
       "      <td>0.069024</td>\n",
       "      <td>0.225311</td>\n",
       "    </tr>\n",
       "    <tr>\n",
       "      <th>CapitalGain</th>\n",
       "      <td>0.067635</td>\n",
       "      <td>0.128875</td>\n",
       "      <td>0.095176</td>\n",
       "      <td>1.000000</td>\n",
       "      <td>0.056872</td>\n",
       "      <td>0.229374</td>\n",
       "    </tr>\n",
       "    <tr>\n",
       "      <th>Age</th>\n",
       "      <td>0.094933</td>\n",
       "      <td>0.035994</td>\n",
       "      <td>0.069024</td>\n",
       "      <td>0.056872</td>\n",
       "      <td>1.000000</td>\n",
       "      <td>0.217113</td>\n",
       "    </tr>\n",
       "    <tr>\n",
       "      <th>HighIncome</th>\n",
       "      <td>0.233259</td>\n",
       "      <td>0.327435</td>\n",
       "      <td>0.225311</td>\n",
       "      <td>0.229374</td>\n",
       "      <td>0.217113</td>\n",
       "      <td>1.000000</td>\n",
       "    </tr>\n",
       "  </tbody>\n",
       "</table>\n",
       "</div>"
      ],
      "text/plain": [
       "                  Gender  EducationLevel  HoursPerWeek  CapitalGain       Age  \\\n",
       "Gender          1.000000        0.012809      0.207148     0.067635  0.094933   \n",
       "EducationLevel  0.012809        1.000000      0.165150     0.128875  0.035994   \n",
       "HoursPerWeek    0.207148        0.165150      1.000000     0.095176  0.069024   \n",
       "CapitalGain     0.067635        0.128875      0.095176     1.000000  0.056872   \n",
       "Age             0.094933        0.035994      0.069024     0.056872  1.000000   \n",
       "HighIncome      0.233259        0.327435      0.225311     0.229374  0.217113   \n",
       "\n",
       "                HighIncome  \n",
       "Gender            0.233259  \n",
       "EducationLevel    0.327435  \n",
       "HoursPerWeek      0.225311  \n",
       "CapitalGain       0.229374  \n",
       "Age               0.217113  \n",
       "HighIncome        1.000000  "
      ]
     },
     "execution_count": 36,
     "metadata": {},
     "output_type": "execute_result"
    }
   ],
   "source": [
    "# Eliminating features based on correlations with the output variable: Keep if correlation is above 10%\n",
    "# NOTE: this applies only to numeric featues\n",
    "corr=df.corr()\n",
    "corr"
   ]
  },
  {
   "cell_type": "code",
   "execution_count": 37,
   "id": "ed05fa6f-2f62-46af-b719-36046067c37f",
   "metadata": {},
   "outputs": [
    {
     "name": "stdout",
     "output_type": "stream",
     "text": [
      "[]\n"
     ]
    }
   ],
   "source": [
    "corr_chagedoff=abs(corr['HighIncome'])\n",
    "drop_list_corr=sorted(list(corr_chagedoff[corr_chagedoff<0.10].index))\n",
    "corr_chagedoff_reset = corr_chagedoff.reset_index(drop=True)\n",
    "print(drop_list_corr)"
   ]
  },
  {
   "cell_type": "code",
   "execution_count": 38,
   "id": "7816a2d4-9fd9-43c5-9b89-f04761b4cd2e",
   "metadata": {},
   "outputs": [
    {
     "data": {
      "text/plain": [
       "(4000, 10)"
      ]
     },
     "execution_count": 38,
     "metadata": {},
     "output_type": "execute_result"
    }
   ],
   "source": [
    "df.drop(labels=drop_list_corr, axis=1, inplace=True)\n",
    "df.shape"
   ]
  },
  {
   "cell_type": "code",
   "execution_count": 39,
   "id": "beef8baf-e51f-4426-aed0-ac3cc4edd623",
   "metadata": {},
   "outputs": [
    {
     "data": {
      "text/plain": [
       " Private             2756\n",
       " Self-emp-not-inc     328\n",
       " Local-gov            262\n",
       " ?                    229\n",
       " State-gov            157\n",
       " Self-emp-inc         148\n",
       " Federal-gov          117\n",
       " Without-pay            2\n",
       " Never-worked           1\n",
       "Name: Workclass, dtype: int64"
      ]
     },
     "execution_count": 39,
     "metadata": {},
     "output_type": "execute_result"
    }
   ],
   "source": [
    "df['Workclass'].value_counts()"
   ]
  },
  {
   "cell_type": "code",
   "execution_count": 40,
   "id": "fb0b3b73-3f7f-4033-8672-25fec16ebf8c",
   "metadata": {},
   "outputs": [
    {
     "data": {
      "text/plain": [
       " Husband           1618\n",
       " Not-in-family     1019\n",
       " Own-child          647\n",
       " Unmarried          429\n",
       " Wife               173\n",
       " Other-relative     114\n",
       "Name: Relationship, dtype: int64"
      ]
     },
     "execution_count": 40,
     "metadata": {},
     "output_type": "execute_result"
    }
   ],
   "source": [
    "df['Relationship'].value_counts()"
   ]
  },
  {
   "cell_type": "code",
   "execution_count": 41,
   "id": "e9c3f570-e814-43c0-9be0-524c598f086f",
   "metadata": {},
   "outputs": [
    {
     "data": {
      "text/plain": [
       "['Occupation', 'Workclass', 'MaritalStatus', 'Relationship']"
      ]
     },
     "execution_count": 41,
     "metadata": {},
     "output_type": "execute_result"
    }
   ],
   "source": [
    "# Create a categorical boolean mask:\n",
    "cat_mask=df.dtypes==object\n",
    "\n",
    "# Filter categorical columns using the mask and turn them into a list:\n",
    "cat_cols=df.columns[cat_mask].tolist()\n",
    "cat_cols"
   ]
  },
  {
   "cell_type": "code",
   "execution_count": 42,
   "id": "17e52af1-d5bb-4904-afb6-abb8bfd5862c",
   "metadata": {},
   "outputs": [
    {
     "data": {
      "text/html": [
       "<div>\n",
       "<style scoped>\n",
       "    .dataframe tbody tr th:only-of-type {\n",
       "        vertical-align: middle;\n",
       "    }\n",
       "\n",
       "    .dataframe tbody tr th {\n",
       "        vertical-align: top;\n",
       "    }\n",
       "\n",
       "    .dataframe thead th {\n",
       "        text-align: right;\n",
       "    }\n",
       "</style>\n",
       "<table border=\"1\" class=\"dataframe\">\n",
       "  <thead>\n",
       "    <tr style=\"text-align: right;\">\n",
       "      <th></th>\n",
       "      <th>Gender</th>\n",
       "      <th>EducationLevel</th>\n",
       "      <th>HoursPerWeek</th>\n",
       "      <th>CapitalGain</th>\n",
       "      <th>Age</th>\n",
       "      <th>HighIncome</th>\n",
       "      <th>Occupation_code</th>\n",
       "      <th>Workclass_code</th>\n",
       "      <th>MaritalStatus_code</th>\n",
       "      <th>Relationship_code</th>\n",
       "    </tr>\n",
       "  </thead>\n",
       "  <tbody>\n",
       "    <tr>\n",
       "      <th>count</th>\n",
       "      <td>4000.00000</td>\n",
       "      <td>4000.000000</td>\n",
       "      <td>4000.000000</td>\n",
       "      <td>4000.000000</td>\n",
       "      <td>4000.000000</td>\n",
       "      <td>4000.000000</td>\n",
       "      <td>4000.000000</td>\n",
       "      <td>4000.000000</td>\n",
       "      <td>4000.000000</td>\n",
       "      <td>4000.000000</td>\n",
       "    </tr>\n",
       "    <tr>\n",
       "      <th>mean</th>\n",
       "      <td>0.67250</td>\n",
       "      <td>10.057750</td>\n",
       "      <td>40.413000</td>\n",
       "      <td>1087.994500</td>\n",
       "      <td>38.463500</td>\n",
       "      <td>0.229000</td>\n",
       "      <td>6.573500</td>\n",
       "      <td>3.872750</td>\n",
       "      <td>2.611250</td>\n",
       "      <td>1.442250</td>\n",
       "    </tr>\n",
       "    <tr>\n",
       "      <th>std</th>\n",
       "      <td>0.46936</td>\n",
       "      <td>2.564383</td>\n",
       "      <td>12.427693</td>\n",
       "      <td>7633.716387</td>\n",
       "      <td>13.778775</td>\n",
       "      <td>0.420242</td>\n",
       "      <td>4.252366</td>\n",
       "      <td>1.467002</td>\n",
       "      <td>1.510031</td>\n",
       "      <td>1.594459</td>\n",
       "    </tr>\n",
       "    <tr>\n",
       "      <th>min</th>\n",
       "      <td>0.00000</td>\n",
       "      <td>1.000000</td>\n",
       "      <td>1.000000</td>\n",
       "      <td>0.000000</td>\n",
       "      <td>17.000000</td>\n",
       "      <td>0.000000</td>\n",
       "      <td>0.000000</td>\n",
       "      <td>0.000000</td>\n",
       "      <td>0.000000</td>\n",
       "      <td>0.000000</td>\n",
       "    </tr>\n",
       "    <tr>\n",
       "      <th>25%</th>\n",
       "      <td>0.00000</td>\n",
       "      <td>9.000000</td>\n",
       "      <td>40.000000</td>\n",
       "      <td>0.000000</td>\n",
       "      <td>27.000000</td>\n",
       "      <td>0.000000</td>\n",
       "      <td>3.000000</td>\n",
       "      <td>4.000000</td>\n",
       "      <td>2.000000</td>\n",
       "      <td>0.000000</td>\n",
       "    </tr>\n",
       "    <tr>\n",
       "      <th>50%</th>\n",
       "      <td>1.00000</td>\n",
       "      <td>10.000000</td>\n",
       "      <td>40.000000</td>\n",
       "      <td>0.000000</td>\n",
       "      <td>37.000000</td>\n",
       "      <td>0.000000</td>\n",
       "      <td>7.000000</td>\n",
       "      <td>4.000000</td>\n",
       "      <td>2.000000</td>\n",
       "      <td>1.000000</td>\n",
       "    </tr>\n",
       "    <tr>\n",
       "      <th>75%</th>\n",
       "      <td>1.00000</td>\n",
       "      <td>12.000000</td>\n",
       "      <td>45.000000</td>\n",
       "      <td>0.000000</td>\n",
       "      <td>47.000000</td>\n",
       "      <td>0.000000</td>\n",
       "      <td>10.000000</td>\n",
       "      <td>4.000000</td>\n",
       "      <td>4.000000</td>\n",
       "      <td>3.000000</td>\n",
       "    </tr>\n",
       "    <tr>\n",
       "      <th>max</th>\n",
       "      <td>1.00000</td>\n",
       "      <td>16.000000</td>\n",
       "      <td>99.000000</td>\n",
       "      <td>99999.000000</td>\n",
       "      <td>90.000000</td>\n",
       "      <td>1.000000</td>\n",
       "      <td>14.000000</td>\n",
       "      <td>8.000000</td>\n",
       "      <td>6.000000</td>\n",
       "      <td>5.000000</td>\n",
       "    </tr>\n",
       "  </tbody>\n",
       "</table>\n",
       "</div>"
      ],
      "text/plain": [
       "           Gender  EducationLevel  HoursPerWeek   CapitalGain          Age  \\\n",
       "count  4000.00000     4000.000000   4000.000000   4000.000000  4000.000000   \n",
       "mean      0.67250       10.057750     40.413000   1087.994500    38.463500   \n",
       "std       0.46936        2.564383     12.427693   7633.716387    13.778775   \n",
       "min       0.00000        1.000000      1.000000      0.000000    17.000000   \n",
       "25%       0.00000        9.000000     40.000000      0.000000    27.000000   \n",
       "50%       1.00000       10.000000     40.000000      0.000000    37.000000   \n",
       "75%       1.00000       12.000000     45.000000      0.000000    47.000000   \n",
       "max       1.00000       16.000000     99.000000  99999.000000    90.000000   \n",
       "\n",
       "        HighIncome  Occupation_code  Workclass_code  MaritalStatus_code  \\\n",
       "count  4000.000000      4000.000000     4000.000000         4000.000000   \n",
       "mean      0.229000         6.573500        3.872750            2.611250   \n",
       "std       0.420242         4.252366        1.467002            1.510031   \n",
       "min       0.000000         0.000000        0.000000            0.000000   \n",
       "25%       0.000000         3.000000        4.000000            2.000000   \n",
       "50%       0.000000         7.000000        4.000000            2.000000   \n",
       "75%       0.000000        10.000000        4.000000            4.000000   \n",
       "max       1.000000        14.000000        8.000000            6.000000   \n",
       "\n",
       "       Relationship_code  \n",
       "count        4000.000000  \n",
       "mean            1.442250  \n",
       "std             1.594459  \n",
       "min             0.000000  \n",
       "25%             0.000000  \n",
       "50%             1.000000  \n",
       "75%             3.000000  \n",
       "max             5.000000  "
      ]
     },
     "execution_count": 42,
     "metadata": {},
     "output_type": "execute_result"
    }
   ],
   "source": [
    "df['Occupation_code']=LabelEncoder().fit_transform(df.Occupation)\n",
    "df['Workclass_code']=LabelEncoder().fit_transform(df.Workclass)\n",
    "df['MaritalStatus_code']=LabelEncoder().fit_transform(df.MaritalStatus)\n",
    "df['Relationship_code']=LabelEncoder().fit_transform(df.Relationship)\n",
    "df.describe()"
   ]
  },
  {
   "cell_type": "code",
   "execution_count": 43,
   "id": "0d635a95-2918-4ab0-beaf-abf62a43f4e5",
   "metadata": {},
   "outputs": [
    {
     "data": {
      "text/plain": [
       "(4000, 10)"
      ]
     },
     "execution_count": 43,
     "metadata": {},
     "output_type": "execute_result"
    }
   ],
   "source": [
    "df.drop(cat_cols, axis=1, inplace=True)\n",
    "df.shape"
   ]
  },
  {
   "cell_type": "code",
   "execution_count": 44,
   "id": "9b5a92e6-83df-4b50-be25-e9038ab6039a",
   "metadata": {},
   "outputs": [
    {
     "data": {
      "text/html": [
       "<div>\n",
       "<style scoped>\n",
       "    .dataframe tbody tr th:only-of-type {\n",
       "        vertical-align: middle;\n",
       "    }\n",
       "\n",
       "    .dataframe tbody tr th {\n",
       "        vertical-align: top;\n",
       "    }\n",
       "\n",
       "    .dataframe thead th {\n",
       "        text-align: right;\n",
       "    }\n",
       "</style>\n",
       "<table border=\"1\" class=\"dataframe\">\n",
       "  <thead>\n",
       "    <tr style=\"text-align: right;\">\n",
       "      <th></th>\n",
       "      <th>Gender</th>\n",
       "      <th>EducationLevel</th>\n",
       "      <th>HoursPerWeek</th>\n",
       "      <th>CapitalGain</th>\n",
       "      <th>Age</th>\n",
       "      <th>HighIncome</th>\n",
       "      <th>Occupation_code</th>\n",
       "      <th>Workclass_code</th>\n",
       "      <th>MaritalStatus_code</th>\n",
       "      <th>Relationship_code</th>\n",
       "    </tr>\n",
       "  </thead>\n",
       "  <tbody>\n",
       "    <tr>\n",
       "      <th>0</th>\n",
       "      <td>1</td>\n",
       "      <td>9</td>\n",
       "      <td>40</td>\n",
       "      <td>0</td>\n",
       "      <td>62</td>\n",
       "      <td>0</td>\n",
       "      <td>14</td>\n",
       "      <td>2</td>\n",
       "      <td>2</td>\n",
       "      <td>0</td>\n",
       "    </tr>\n",
       "    <tr>\n",
       "      <th>1</th>\n",
       "      <td>1</td>\n",
       "      <td>9</td>\n",
       "      <td>40</td>\n",
       "      <td>0</td>\n",
       "      <td>50</td>\n",
       "      <td>1</td>\n",
       "      <td>3</td>\n",
       "      <td>4</td>\n",
       "      <td>2</td>\n",
       "      <td>0</td>\n",
       "    </tr>\n",
       "    <tr>\n",
       "      <th>2</th>\n",
       "      <td>1</td>\n",
       "      <td>9</td>\n",
       "      <td>50</td>\n",
       "      <td>0</td>\n",
       "      <td>36</td>\n",
       "      <td>1</td>\n",
       "      <td>1</td>\n",
       "      <td>4</td>\n",
       "      <td>2</td>\n",
       "      <td>0</td>\n",
       "    </tr>\n",
       "    <tr>\n",
       "      <th>3</th>\n",
       "      <td>0</td>\n",
       "      <td>10</td>\n",
       "      <td>40</td>\n",
       "      <td>0</td>\n",
       "      <td>64</td>\n",
       "      <td>0</td>\n",
       "      <td>1</td>\n",
       "      <td>4</td>\n",
       "      <td>6</td>\n",
       "      <td>1</td>\n",
       "    </tr>\n",
       "    <tr>\n",
       "      <th>4</th>\n",
       "      <td>1</td>\n",
       "      <td>11</td>\n",
       "      <td>60</td>\n",
       "      <td>0</td>\n",
       "      <td>28</td>\n",
       "      <td>0</td>\n",
       "      <td>5</td>\n",
       "      <td>6</td>\n",
       "      <td>2</td>\n",
       "      <td>0</td>\n",
       "    </tr>\n",
       "  </tbody>\n",
       "</table>\n",
       "</div>"
      ],
      "text/plain": [
       "   Gender  EducationLevel  HoursPerWeek  CapitalGain  Age  HighIncome  \\\n",
       "0       1               9            40            0   62           0   \n",
       "1       1               9            40            0   50           1   \n",
       "2       1               9            50            0   36           1   \n",
       "3       0              10            40            0   64           0   \n",
       "4       1              11            60            0   28           0   \n",
       "\n",
       "   Occupation_code  Workclass_code  MaritalStatus_code  Relationship_code  \n",
       "0               14               2                   2                  0  \n",
       "1                3               4                   2                  0  \n",
       "2                1               4                   2                  0  \n",
       "3                1               4                   6                  1  \n",
       "4                5               6                   2                  0  "
      ]
     },
     "execution_count": 44,
     "metadata": {},
     "output_type": "execute_result"
    }
   ],
   "source": [
    "df.head()"
   ]
  },
  {
   "cell_type": "markdown",
   "id": "50f842cb-5336-405e-9f87-f16341a9578c",
   "metadata": {},
   "source": [
    "## Splitting data"
   ]
  },
  {
   "cell_type": "code",
   "execution_count": 45,
   "id": "e94a341d-6c55-437e-b0e7-52229e5e46a0",
   "metadata": {},
   "outputs": [
    {
     "data": {
      "text/plain": [
       "2433    0\n",
       "2919    0\n",
       "1916    0\n",
       "Name: HighIncome, dtype: int64"
      ]
     },
     "execution_count": 45,
     "metadata": {},
     "output_type": "execute_result"
    }
   ],
   "source": [
    "y = df['HighIncome']\n",
    "x = df.loc[:, df.columns != 'HighIncome']\n",
    "x_train, x_test, y_train, y_test = train_test_split(x, y, test_size=0.25, random_state=800)\n",
    "y_test.sample(3)"
   ]
  },
  {
   "cell_type": "code",
   "execution_count": 46,
   "id": "5d32ab10-c21c-4267-91e8-d86d2afe05e2",
   "metadata": {},
   "outputs": [
    {
     "name": "stdout",
     "output_type": "stream",
     "text": [
      "CART Accuracy Score = 0.812\n",
      "CART Classification Report:\n",
      "              precision    recall  f1-score   support\n",
      "\n",
      "           0       0.88      0.87      0.88       783\n",
      "           1       0.56      0.59      0.57       217\n",
      "\n",
      "    accuracy                           0.81      1000\n",
      "   macro avg       0.72      0.73      0.73      1000\n",
      "weighted avg       0.81      0.81      0.81      1000\n",
      "\n"
     ]
    },
    {
     "data": {
      "image/png": "[encoded data removed]",
      "text/plain": [
       "<Figure size 640x480 with 2 Axes>"
      ]
     },
     "metadata": {},
     "output_type": "display_data"
    }
   ],
   "source": [
    "dtc = DecisionTreeClassifier(random_state=666) #max_depth; class_weight='balanced'\n",
    "dtc.fit(x_train, y_train)\n",
    "\n",
    "# Confusion matrix:\n",
    "# plot_confusion_matrix(dtc, x_test, y_test) #old command\n",
    "ConfusionMatrixDisplay.from_estimator(dtc, x_test, y_test)\n",
    "\n",
    "# Evaluation metrics:\n",
    "y_pred = dtc.predict(x_test)\n",
    "dtc_score = accuracy_score(y_test, y_pred)\n",
    "print(f'CART Accuracy Score = {dtc_score}')\n",
    "print('CART Classification Report:')\n",
    "print(classification_report(y_test, y_pred))"
   ]
  },
  {
   "cell_type": "code",
   "execution_count": 47,
   "id": "bcdd725b-1a3a-40cb-b7e2-52cc08fbd31b",
   "metadata": {},
   "outputs": [
    {
     "data": {
      "text/plain": [
       "array([0.00300611, 0.14871269, 0.1379384 , 0.13561478, 0.21033969,\n",
       "       0.08802351, 0.05666844, 0.01250253, 0.20719385])"
      ]
     },
     "execution_count": 47,
     "metadata": {},
     "output_type": "execute_result"
    }
   ],
   "source": [
    "dtc.feature_importances_"
   ]
  },
  {
   "cell_type": "code",
   "execution_count": 48,
   "id": "2360be1b-a05e-42bb-b378-10122685d69c",
   "metadata": {},
   "outputs": [
    {
     "name": "stdout",
     "output_type": "stream",
     "text": [
      "Gender importance = 0.30%\n",
      "EducationLevel importance = 14.87%\n",
      "HoursPerWeek importance = 13.79%\n",
      "CapitalGain importance = 13.56%\n",
      "Age importance = 21.03%\n",
      "Occupation_code importance = 8.80%\n",
      "Workclass_code importance = 5.67%\n",
      "MaritalStatus_code importance = 1.25%\n",
      "Relationship_code importance = 20.72%\n"
     ]
    }
   ],
   "source": [
    "#Display feature importances:\n",
    "for name, val in zip(x_train.columns, dtc.feature_importances_):\n",
    "    print(f'{name} importance = {val:.2%}')"
   ]
  },
  {
   "cell_type": "code",
   "execution_count": 49,
   "id": "6dd4953d-d1e5-4fbc-a2aa-64ce7dec6147",
   "metadata": {},
   "outputs": [
    {
     "data": {
      "text/plain": [
       "<AxesSubplot:>"
      ]
     },
     "execution_count": 49,
     "metadata": {},
     "output_type": "execute_result"
    },
    {
     "data": {
      "image/png": "[encoded data removed]",
      "text/plain": [
       "<Figure size 640x480 with 1 Axes>"
      ]
     },
     "metadata": {},
     "output_type": "display_data"
    }
   ],
   "source": [
    "#Plotting feature importances:\n",
    "feat_imp=pd.Series(dtc.feature_importances_, index=x_train.columns)\n",
    "feat_imp.nlargest(5).sort_values().plot(kind='barh') #nlargest(5) to see the 5 most important features"
   ]
  },
  {
   "cell_type": "code",
   "execution_count": 50,
   "id": "13f18b5a-ff86-41c0-9663-e0dc67fd8310",
   "metadata": {},
   "outputs": [
    {
     "data": {
      "image/png": "[encoded data removed]",
      "text/plain": [
       "<Figure size 2000x1000 with 1 Axes>"
      ]
     },
     "metadata": {},
     "output_type": "display_data"
    }
   ],
   "source": [
    "dtc = DecisionTreeClassifier(random_state=666, max_depth=3) #max_depth; class_weight='balanced'\n",
    "dtc.fit(x_train, y_train)\n",
    "\n",
    "plt.figure(figsize=(20,10))\n",
    "plot_tree(dtc, feature_names=x_train.columns, class_names=['0','1'], fontsize=12);"
   ]
  },
  {
   "cell_type": "markdown",
   "id": "dc1f091d-285f-4db6-8c98-072b9f07d870",
   "metadata": {},
   "source": [
    "## Random Forest"
   ]
  },
  {
   "cell_type": "code",
   "execution_count": 51,
   "id": "131b5e2a-0fa9-452a-a3be-ab33368d7957",
   "metadata": {},
   "outputs": [
    {
     "name": "stdout",
     "output_type": "stream",
     "text": [
      "RF Accuracy Score = 0.852\n",
      "RF Classification Report:\n",
      "              precision    recall  f1-score   support\n",
      "\n",
      "           0       0.89      0.93      0.91       783\n",
      "           1       0.69      0.57      0.62       217\n",
      "\n",
      "    accuracy                           0.85      1000\n",
      "   macro avg       0.79      0.75      0.77      1000\n",
      "weighted avg       0.84      0.85      0.85      1000\n",
      "\n"
     ]
    },
    {
     "data": {
      "image/png": "[encoded data removed]",
      "text/plain": [
       "<Figure size 640x480 with 2 Axes>"
      ]
     },
     "metadata": {},
     "output_type": "display_data"
    }
   ],
   "source": [
    "rfc = RandomForestClassifier(random_state=666, n_estimators=100, max_features=3)\n",
    "rfc.fit(x_train, y_train)\n",
    "\n",
    "# Confusion matrix:\n",
    "# plot_confusion_matrix(rfc, x_test, y_test) #old command\n",
    "ConfusionMatrixDisplay.from_estimator(rfc, x_test, y_test)\n",
    "\n",
    "# Evaluation metrics:\n",
    "y_pred = rfc.predict(x_test)\n",
    "rfc_score = accuracy_score(y_test, y_pred)\n",
    "print(f'RF Accuracy Score = {rfc_score}')\n",
    "print('RF Classification Report:')\n",
    "print(classification_report(y_test, y_pred))"
   ]
  },
  {
   "cell_type": "code",
   "execution_count": 52,
   "id": "ca559c35-c133-451c-944b-ffbf0ac0c655",
   "metadata": {},
   "outputs": [
    {
     "data": {
      "text/plain": [
       "<AxesSubplot:>"
      ]
     },
     "execution_count": 52,
     "metadata": {},
     "output_type": "execute_result"
    },
    {
     "data": {
      "image/png": "[encoded data removed]",
      "text/plain": [
       "<Figure size 640x480 with 1 Axes>"
      ]
     },
     "metadata": {},
     "output_type": "display_data"
    }
   ],
   "source": [
    "#Plotting feature importances:\n",
    "feat_imp=pd.Series(rfc.feature_importances_, index=x_train.columns)\n",
    "feat_imp.nlargest(9).sort_values().plot(kind='barh')"
   ]
  },
  {
   "cell_type": "markdown",
   "id": "b3646a1c-ab5e-43e2-9ab3-441e0961e897",
   "metadata": {},
   "source": [
    "## Extra Trees"
   ]
  },
  {
   "cell_type": "code",
   "execution_count": 53,
   "id": "7fa157d6-d33b-429d-8f75-0359baea6f35",
   "metadata": {},
   "outputs": [
    {
     "name": "stdout",
     "output_type": "stream",
     "text": [
      "ET Accuracy Score = 0.822\n",
      "ET Classification Report:\n",
      "              precision    recall  f1-score   support\n",
      "\n",
      "           0       0.88      0.90      0.89       783\n",
      "           1       0.60      0.54      0.57       217\n",
      "\n",
      "    accuracy                           0.82      1000\n",
      "   macro avg       0.74      0.72      0.73      1000\n",
      "weighted avg       0.82      0.82      0.82      1000\n",
      "\n"
     ]
    },
    {
     "data": {
      "image/png": "[encoded data removed]",
      "text/plain": [
       "<Figure size 640x480 with 2 Axes>"
      ]
     },
     "metadata": {},
     "output_type": "display_data"
    }
   ],
   "source": [
    "etc = ExtraTreesClassifier(random_state=666, n_estimators=5) #in this example, lower n_estimator (number of trees) performs better.\n",
    "etc.fit(x_train, y_train)\n",
    "\n",
    "# Confusion matrix:\n",
    "# plot_confusion_matrix(etc, x_test, y_test) #old command\n",
    "ConfusionMatrixDisplay.from_estimator(etc, x_test, y_test)\n",
    "\n",
    "# Evaluation metrics:\n",
    "y_pred = etc.predict(x_test)\n",
    "etc_score = accuracy_score(y_test, y_pred)\n",
    "print(f'ET Accuracy Score = {etc_score}')\n",
    "print('ET Classification Report:')\n",
    "print(classification_report(y_test, y_pred))"
   ]
  },
  {
   "cell_type": "markdown",
   "id": "acbc9515-043a-4a12-9a64-fa9c37417a98",
   "metadata": {},
   "source": [
    "## Gradient Boosting"
   ]
  },
  {
   "cell_type": "code",
   "execution_count": 54,
   "id": "bca1e859-0fac-49ec-b117-374398460404",
   "metadata": {},
   "outputs": [
    {
     "name": "stdout",
     "output_type": "stream",
     "text": [
      "GB Accuracy Score = 0.83\n",
      "GB Classification Report:\n",
      "              precision    recall  f1-score   support\n",
      "\n",
      "           0       0.88      0.91      0.89       783\n",
      "           1       0.62      0.55      0.58       217\n",
      "\n",
      "    accuracy                           0.83      1000\n",
      "   macro avg       0.75      0.73      0.74      1000\n",
      "weighted avg       0.82      0.83      0.83      1000\n",
      "\n"
     ]
    },
    {
     "data": {
      "image/png": "[encoded data removed]",
      "text/plain": [
       "<Figure size 640x480 with 2 Axes>"
      ]
     },
     "metadata": {},
     "output_type": "display_data"
    }
   ],
   "source": [
    "gbc = GradientBoostingClassifier(random_state=666, n_estimators=200, max_depth=8, learning_rate=.5)\n",
    "gbc.fit(x_train, y_train)\n",
    "\n",
    "# Confusion matrix:\n",
    "# plot_confusion_matrix(gbc, x_test, y_test) #old command\n",
    "ConfusionMatrixDisplay.from_estimator(gbc, x_test, y_test)\n",
    "\n",
    "# Evaluation metrics:\n",
    "y_pred = gbc.predict(x_test)\n",
    "gbc_score = accuracy_score(y_test, y_pred)\n",
    "print(f'GB Accuracy Score = {gbc_score}')\n",
    "print('GB Classification Report:')\n",
    "print(classification_report(y_test, y_pred))"
   ]
  }
 ],
 "metadata": {
  "kernelspec": {
   "display_name": "Python 3",
   "language": "python",
   "name": "python3"
  },
  "language_info": {
   "codemirror_mode": {
    "name": "ipython",
    "version": 3
   },
   "file_extension": ".py",
   "mimetype": "text/x-python",
   "name": "python",
   "nbconvert_exporter": "python",
   "pygments_lexer": "ipython3",
   "version": "3.11.2"
  },
  "vscode": {
   "interpreter": {
    "hash": "aee8b7b246df8f9039afb4144a1f6fd8d2ca17a180786b69acc140d282b71a49"
   }
  }
 },
 "nbformat": 4,
 "nbformat_minor": 5
}
